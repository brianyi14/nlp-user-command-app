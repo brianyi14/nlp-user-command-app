{
 "cells": [
  {
   "cell_type": "markdown",
   "metadata": {},
   "source": [
    "# Locating Identifier: POS Tagging"
   ]
  },
  {
   "cell_type": "code",
   "execution_count": 2,
   "metadata": {},
   "outputs": [],
   "source": [
    "import spacy\n",
    "import en_core_web_sm\n",
    "import pandas as pd\n",
    "import matplotlib.pyplot as plt\n",
    "from nltk.stem import PorterStemmer"
   ]
  },
  {
   "cell_type": "markdown",
   "metadata": {},
   "source": [
    "spaCy linguistic features: https://spacy.io/usage/linguistic-features#pos-tagging"
   ]
  },
  {
   "cell_type": "code",
   "execution_count": 3,
   "metadata": {},
   "outputs": [],
   "source": [
    "#load the part of speech tagger\n",
    "nlp = en_core_web_sm.load()"
   ]
  },
  {
   "cell_type": "code",
   "execution_count": 8,
   "metadata": {},
   "outputs": [
    {
     "data": {
      "text/plain": [
       "'help'"
      ]
     },
     "execution_count": 8,
     "metadata": {},
     "output_type": "execute_result"
    }
   ],
   "source": [
    "ps = PorterStemmer()\n",
    "ps.stem('help')"
   ]
  },
  {
   "cell_type": "code",
   "execution_count": 13,
   "metadata": {},
   "outputs": [
    {
     "data": {
      "text/html": [
       "<div>\n",
       "<style scoped>\n",
       "    .dataframe tbody tr th:only-of-type {\n",
       "        vertical-align: middle;\n",
       "    }\n",
       "\n",
       "    .dataframe tbody tr th {\n",
       "        vertical-align: top;\n",
       "    }\n",
       "\n",
       "    .dataframe thead th {\n",
       "        text-align: right;\n",
       "    }\n",
       "</style>\n",
       "<table border=\"1\" class=\"dataframe\">\n",
       "  <thead>\n",
       "    <tr style=\"text-align: right;\">\n",
       "      <th></th>\n",
       "      <th>Text Command</th>\n",
       "      <th>Topic</th>\n",
       "      <th>Identifier</th>\n",
       "      <th>Action</th>\n",
       "      <th>One Hot Encoded Topic</th>\n",
       "      <th>One Hot Encoded Action</th>\n",
       "      <th>Verb/Noun</th>\n",
       "    </tr>\n",
       "  </thead>\n",
       "  <tbody>\n",
       "    <tr>\n",
       "      <th>0</th>\n",
       "      <td>finish plan Developing editorial calendar for ...</td>\n",
       "      <td>Project</td>\n",
       "      <td>Developing editorial calendar for content sharing</td>\n",
       "      <td>Completed</td>\n",
       "      <td>[0,1]</td>\n",
       "      <td>[0,0,0,0,1]</td>\n",
       "      <td>SYNREPLACED</td>\n",
       "    </tr>\n",
       "    <tr>\n",
       "      <th>1</th>\n",
       "      <td>move plan Developing editorial calendar for co...</td>\n",
       "      <td>Project</td>\n",
       "      <td>Developing editorial calendar for content sharing</td>\n",
       "      <td>At Risk</td>\n",
       "      <td>[0,1]</td>\n",
       "      <td>[0,0,1,0,0]</td>\n",
       "      <td>SYNREPLACED</td>\n",
       "    </tr>\n",
       "    <tr>\n",
       "      <th>2</th>\n",
       "      <td>fixed Developing editorial calendar for conten...</td>\n",
       "      <td>Task</td>\n",
       "      <td>Developing editorial calendar for content sharing</td>\n",
       "      <td>In Review</td>\n",
       "      <td>[1,0]</td>\n",
       "      <td>[0,0,1,0,0]</td>\n",
       "      <td>SYNREPLACED</td>\n",
       "    </tr>\n",
       "    <tr>\n",
       "      <th>3</th>\n",
       "      <td>audit task Developing editorial calendar for c...</td>\n",
       "      <td>Task</td>\n",
       "      <td>Developing editorial calendar for content sharing</td>\n",
       "      <td>In Review</td>\n",
       "      <td>[1,0]</td>\n",
       "      <td>[0,0,1,0,0]</td>\n",
       "      <td>SYNREPLACED</td>\n",
       "    </tr>\n",
       "    <tr>\n",
       "      <th>4</th>\n",
       "      <td>offset on Developing editorial calendar for co...</td>\n",
       "      <td>Task</td>\n",
       "      <td>Developing editorial calendar for content sharing</td>\n",
       "      <td>In Progress</td>\n",
       "      <td>[1,0]</td>\n",
       "      <td>[0,1,0,0,0]</td>\n",
       "      <td>SYNREPLACED</td>\n",
       "    </tr>\n",
       "    <tr>\n",
       "      <th>...</th>\n",
       "      <td>...</td>\n",
       "      <td>...</td>\n",
       "      <td>...</td>\n",
       "      <td>...</td>\n",
       "      <td>...</td>\n",
       "      <td>...</td>\n",
       "      <td>...</td>\n",
       "    </tr>\n",
       "    <tr>\n",
       "      <th>6974</th>\n",
       "      <td>end throw Reviewing website backlinks</td>\n",
       "      <td>Project</td>\n",
       "      <td>Reviewing website backlinks</td>\n",
       "      <td>Completed</td>\n",
       "      <td>[0,1]</td>\n",
       "      <td>[0,0,0,0,1]</td>\n",
       "      <td>SYNREPLACED</td>\n",
       "    </tr>\n",
       "    <tr>\n",
       "      <th>6975</th>\n",
       "      <td>to do Reviewing website backlinks plan</td>\n",
       "      <td>Project</td>\n",
       "      <td>Reviewing website backlinks</td>\n",
       "      <td>Create</td>\n",
       "      <td>[0,1]</td>\n",
       "      <td>[1,0,0,0,0]</td>\n",
       "      <td>SYNREPLACED</td>\n",
       "    </tr>\n",
       "    <tr>\n",
       "      <th>6976</th>\n",
       "      <td>Reviewing website backlinks project</td>\n",
       "      <td>Task</td>\n",
       "      <td>Reviewing website backlinks</td>\n",
       "      <td>To Do</td>\n",
       "      <td>[1,0]</td>\n",
       "      <td>[1,0,0,0,0]</td>\n",
       "      <td>SYNREPLACED</td>\n",
       "    </tr>\n",
       "    <tr>\n",
       "      <th>6977</th>\n",
       "      <td>Reviewing website backlinks chore was complete</td>\n",
       "      <td>Task</td>\n",
       "      <td>Reviewing website backlinks</td>\n",
       "      <td>Completed</td>\n",
       "      <td>[1,0]</td>\n",
       "      <td>[0,0,0,0,1]</td>\n",
       "      <td>SYNREPLACED</td>\n",
       "    </tr>\n",
       "    <tr>\n",
       "      <th>6978</th>\n",
       "      <td>through with task Reviewing website backlinks</td>\n",
       "      <td>Task</td>\n",
       "      <td>Reviewing website backlinks</td>\n",
       "      <td>Completed</td>\n",
       "      <td>[1,0]</td>\n",
       "      <td>[0,0,0,0,1]</td>\n",
       "      <td>SYNREPLACED</td>\n",
       "    </tr>\n",
       "  </tbody>\n",
       "</table>\n",
       "<p>6979 rows × 7 columns</p>\n",
       "</div>"
      ],
      "text/plain": [
       "                                           Text Command    Topic  \\\n",
       "0     finish plan Developing editorial calendar for ...  Project   \n",
       "1     move plan Developing editorial calendar for co...  Project   \n",
       "2     fixed Developing editorial calendar for conten...     Task   \n",
       "3     audit task Developing editorial calendar for c...     Task   \n",
       "4     offset on Developing editorial calendar for co...     Task   \n",
       "...                                                 ...      ...   \n",
       "6974              end throw Reviewing website backlinks  Project   \n",
       "6975             to do Reviewing website backlinks plan  Project   \n",
       "6976                Reviewing website backlinks project     Task   \n",
       "6977     Reviewing website backlinks chore was complete     Task   \n",
       "6978      through with task Reviewing website backlinks     Task   \n",
       "\n",
       "                                             Identifier       Action  \\\n",
       "0     Developing editorial calendar for content sharing    Completed   \n",
       "1     Developing editorial calendar for content sharing      At Risk   \n",
       "2     Developing editorial calendar for content sharing    In Review   \n",
       "3     Developing editorial calendar for content sharing    In Review   \n",
       "4     Developing editorial calendar for content sharing  In Progress   \n",
       "...                                                 ...          ...   \n",
       "6974                        Reviewing website backlinks    Completed   \n",
       "6975                        Reviewing website backlinks       Create   \n",
       "6976                        Reviewing website backlinks        To Do   \n",
       "6977                        Reviewing website backlinks    Completed   \n",
       "6978                        Reviewing website backlinks    Completed   \n",
       "\n",
       "     One Hot Encoded Topic One Hot Encoded Action    Verb/Noun  \n",
       "0                    [0,1]            [0,0,0,0,1]  SYNREPLACED  \n",
       "1                    [0,1]            [0,0,1,0,0]  SYNREPLACED  \n",
       "2                    [1,0]            [0,0,1,0,0]  SYNREPLACED  \n",
       "3                    [1,0]            [0,0,1,0,0]  SYNREPLACED  \n",
       "4                    [1,0]            [0,1,0,0,0]  SYNREPLACED  \n",
       "...                    ...                    ...          ...  \n",
       "6974                 [0,1]            [0,0,0,0,1]  SYNREPLACED  \n",
       "6975                 [0,1]            [1,0,0,0,0]  SYNREPLACED  \n",
       "6976                 [1,0]            [1,0,0,0,0]  SYNREPLACED  \n",
       "6977                 [1,0]            [0,0,0,0,1]  SYNREPLACED  \n",
       "6978                 [1,0]            [0,0,0,0,1]  SYNREPLACED  \n",
       "\n",
       "[6979 rows x 7 columns]"
      ]
     },
     "execution_count": 13,
     "metadata": {},
     "output_type": "execute_result"
    }
   ],
   "source": [
    "df = pd.read_csv('data/Augmented_Data2.csv')\n",
    "df"
   ]
  },
  {
   "cell_type": "markdown",
   "metadata": {},
   "source": [
    "## EDA to Develop Rules"
   ]
  },
  {
   "cell_type": "code",
   "execution_count": 11,
   "metadata": {},
   "outputs": [],
   "source": [
    "#create dataframe for adding tag data\n",
    "identifier_pos = pd.DataFrame(columns = ['Text Command', 'Identifier', 'Tag Start', 'Tag End', 'First Tag', 'Last Tag'])"
   ]
  },
  {
   "cell_type": "markdown",
   "metadata": {},
   "source": [
    "### POS Tagging"
   ]
  },
  {
   "cell_type": "code",
   "execution_count": 18,
   "metadata": {},
   "outputs": [
    {
     "name": "stdout",
     "output_type": "stream",
     "text": [
      "Commands tagged: 6978\r"
     ]
    }
   ],
   "source": [
    "\"\"\"\n",
    "This method finds the POS of the first word in the sentence (Tag Start), last word of the\n",
    "sentence (Tag End), the word preceding the identifier (First Tag), and the word that comes\n",
    "right after the identifier (Last Tag).\n",
    "\"\"\"\n",
    "for i in df.index.values:\n",
    "    sentence = df.loc[i][0]\n",
    "    #create list of words that make up identifier\n",
    "    identifier = df.loc[i][2].split()\n",
    "    #first word in the identifier\n",
    "    identifier_start = identifier[0]\n",
    "    #last word in the identifier\n",
    "    identifier_end = identifier[-1]\n",
    "    text_command_lst = df.loc[i][0].split()\n",
    "    word_stems = [ps.stem(word) if word not in identifier else word for word in text_command_lst]\n",
    "    s = ' '\n",
    "    sentence = s.join(word_stems)\n",
    "    #convert sentence into list of words with tags associated to each word\n",
    "    sentence = nlp(sentence)\n",
    "    #intialize the start of sentence tag\n",
    "    last_word = nlp('SS')\n",
    "#     for token in last_word:\n",
    "#         #last word starts as SS token\n",
    "#         last_word = token\n",
    "    #intialize the tag after the identifier as None\n",
    "    tag_end = None\n",
    "    #iterate through the words in the text command\n",
    "    for j in range(len(sentence)):\n",
    "        token = sentence[j]\n",
    "        #if the word is equal to the first word in the identifer...\n",
    "        if token.text == identifier_start:\n",
    "            #if the last word variable is still the SS token then the tag that starts the identifier is the\n",
    "            #start of the sentence\n",
    "            if last_word.text == 'SS':\n",
    "                tag_start = 'SS'\n",
    "            #if not then the start tag is the POS tag of the last checked word\n",
    "            else:\n",
    "                tag_start = last_word.tag_\n",
    "        #if the word is equal to the last word in the identifier...\n",
    "        if last_word.text == identifier_end:\n",
    "            tag_end = token.tag_\n",
    "        #check the POS tag of the first word in the sentence\n",
    "        if j == 0:\n",
    "            if token.text == identifier_start:\n",
    "                first_tag = 'ID'\n",
    "            else:\n",
    "                first_tag = token.tag_\n",
    "        #check the POS tag of the last word in the sentence\n",
    "        if j == len(sentence)-1:\n",
    "            if token.text == identifier_end:\n",
    "                last_tag = 'ID'\n",
    "            else:\n",
    "                last_tag = token.tag_\n",
    "        #save the current word as last word for the above conditionals \n",
    "        last_word = token\n",
    "    #if tag end hasn't been updated then we know that the identifier is at the end of the sentence\n",
    "    if tag_end == None:\n",
    "        tag_end = 'ES'\n",
    "    identifier_pos.loc[i] = [str(sentence), df.loc[i][2], tag_start, tag_end, first_tag, last_tag]\n",
    "    print('Commands tagged: ' + str(i), end='\\r')"
   ]
  },
  {
   "cell_type": "code",
   "execution_count": 19,
   "metadata": {},
   "outputs": [
    {
     "data": {
      "text/html": [
       "<div>\n",
       "<style scoped>\n",
       "    .dataframe tbody tr th:only-of-type {\n",
       "        vertical-align: middle;\n",
       "    }\n",
       "\n",
       "    .dataframe tbody tr th {\n",
       "        vertical-align: top;\n",
       "    }\n",
       "\n",
       "    .dataframe thead th {\n",
       "        text-align: right;\n",
       "    }\n",
       "</style>\n",
       "<table border=\"1\" class=\"dataframe\">\n",
       "  <thead>\n",
       "    <tr style=\"text-align: right;\">\n",
       "      <th></th>\n",
       "      <th>Text Command</th>\n",
       "      <th>Identifier</th>\n",
       "      <th>Tag Start</th>\n",
       "      <th>Tag End</th>\n",
       "      <th>First Tag</th>\n",
       "      <th>Last Tag</th>\n",
       "    </tr>\n",
       "  </thead>\n",
       "  <tbody>\n",
       "    <tr>\n",
       "      <th>0</th>\n",
       "      <td>finish plan Developing editorial calendar for ...</td>\n",
       "      <td>Developing editorial calendar for content sharing</td>\n",
       "      <td>NN</td>\n",
       "      <td>ES</td>\n",
       "      <td>NN</td>\n",
       "      <td>ID</td>\n",
       "    </tr>\n",
       "    <tr>\n",
       "      <th>1</th>\n",
       "      <td>move plan Developing editorial calendar for co...</td>\n",
       "      <td>Developing editorial calendar for content sharing</td>\n",
       "      <td>NN</td>\n",
       "      <td>IN</td>\n",
       "      <td>VB</td>\n",
       "      <td>NN</td>\n",
       "    </tr>\n",
       "    <tr>\n",
       "      <th>2</th>\n",
       "      <td>fix Developing editorial calendar for content ...</td>\n",
       "      <td>Developing editorial calendar for content sharing</td>\n",
       "      <td>VB</td>\n",
       "      <td>NN</td>\n",
       "      <td>VB</td>\n",
       "      <td>NN</td>\n",
       "    </tr>\n",
       "    <tr>\n",
       "      <th>3</th>\n",
       "      <td>audit task Developing editorial calendar for c...</td>\n",
       "      <td>Developing editorial calendar for content sharing</td>\n",
       "      <td>NN</td>\n",
       "      <td>ES</td>\n",
       "      <td>NN</td>\n",
       "      <td>ID</td>\n",
       "    </tr>\n",
       "    <tr>\n",
       "      <th>4</th>\n",
       "      <td>offset on Developing editorial calendar for co...</td>\n",
       "      <td>Developing editorial calendar for content sharing</td>\n",
       "      <td>IN</td>\n",
       "      <td>NN</td>\n",
       "      <td>VB</td>\n",
       "      <td>NN</td>\n",
       "    </tr>\n",
       "    <tr>\n",
       "      <th>...</th>\n",
       "      <td>...</td>\n",
       "      <td>...</td>\n",
       "      <td>...</td>\n",
       "      <td>...</td>\n",
       "      <td>...</td>\n",
       "      <td>...</td>\n",
       "    </tr>\n",
       "    <tr>\n",
       "      <th>6974</th>\n",
       "      <td>end throw Reviewing website backlinks</td>\n",
       "      <td>Reviewing website backlinks</td>\n",
       "      <td>VB</td>\n",
       "      <td>ES</td>\n",
       "      <td>NN</td>\n",
       "      <td>ID</td>\n",
       "    </tr>\n",
       "    <tr>\n",
       "      <th>6975</th>\n",
       "      <td>to do Reviewing website backlinks plan</td>\n",
       "      <td>Reviewing website backlinks</td>\n",
       "      <td>VB</td>\n",
       "      <td>VBP</td>\n",
       "      <td>TO</td>\n",
       "      <td>VBP</td>\n",
       "    </tr>\n",
       "    <tr>\n",
       "      <th>6976</th>\n",
       "      <td>Reviewing website backlinks project</td>\n",
       "      <td>Reviewing website backlinks</td>\n",
       "      <td>SS</td>\n",
       "      <td>NN</td>\n",
       "      <td>ID</td>\n",
       "      <td>NN</td>\n",
       "    </tr>\n",
       "    <tr>\n",
       "      <th>6977</th>\n",
       "      <td>Reviewing website backlinks chore wa complet</td>\n",
       "      <td>Reviewing website backlinks</td>\n",
       "      <td>SS</td>\n",
       "      <td>VBP</td>\n",
       "      <td>ID</td>\n",
       "      <td>NN</td>\n",
       "    </tr>\n",
       "    <tr>\n",
       "      <th>6978</th>\n",
       "      <td>through with task Reviewing website backlinks</td>\n",
       "      <td>Reviewing website backlinks</td>\n",
       "      <td>NN</td>\n",
       "      <td>ES</td>\n",
       "      <td>IN</td>\n",
       "      <td>ID</td>\n",
       "    </tr>\n",
       "  </tbody>\n",
       "</table>\n",
       "<p>6979 rows × 6 columns</p>\n",
       "</div>"
      ],
      "text/plain": [
       "                                           Text Command  \\\n",
       "0     finish plan Developing editorial calendar for ...   \n",
       "1     move plan Developing editorial calendar for co...   \n",
       "2     fix Developing editorial calendar for content ...   \n",
       "3     audit task Developing editorial calendar for c...   \n",
       "4     offset on Developing editorial calendar for co...   \n",
       "...                                                 ...   \n",
       "6974              end throw Reviewing website backlinks   \n",
       "6975             to do Reviewing website backlinks plan   \n",
       "6976                Reviewing website backlinks project   \n",
       "6977       Reviewing website backlinks chore wa complet   \n",
       "6978      through with task Reviewing website backlinks   \n",
       "\n",
       "                                             Identifier Tag Start Tag End  \\\n",
       "0     Developing editorial calendar for content sharing        NN      ES   \n",
       "1     Developing editorial calendar for content sharing        NN      IN   \n",
       "2     Developing editorial calendar for content sharing        VB      NN   \n",
       "3     Developing editorial calendar for content sharing        NN      ES   \n",
       "4     Developing editorial calendar for content sharing        IN      NN   \n",
       "...                                                 ...       ...     ...   \n",
       "6974                        Reviewing website backlinks        VB      ES   \n",
       "6975                        Reviewing website backlinks        VB     VBP   \n",
       "6976                        Reviewing website backlinks        SS      NN   \n",
       "6977                        Reviewing website backlinks        SS     VBP   \n",
       "6978                        Reviewing website backlinks        NN      ES   \n",
       "\n",
       "     First Tag Last Tag  \n",
       "0           NN       ID  \n",
       "1           VB       NN  \n",
       "2           VB       NN  \n",
       "3           NN       ID  \n",
       "4           VB       NN  \n",
       "...        ...      ...  \n",
       "6974        NN       ID  \n",
       "6975        TO      VBP  \n",
       "6976        ID       NN  \n",
       "6977        ID       NN  \n",
       "6978        IN       ID  \n",
       "\n",
       "[6979 rows x 6 columns]"
      ]
     },
     "execution_count": 19,
     "metadata": {},
     "output_type": "execute_result"
    }
   ],
   "source": [
    "identifier_pos"
   ]
  },
  {
   "cell_type": "markdown",
   "metadata": {},
   "source": [
    "### Descriptive Analytics"
   ]
  },
  {
   "cell_type": "code",
   "execution_count": 20,
   "metadata": {},
   "outputs": [],
   "source": [
    "\"\"\"\n",
    "This method finds the counts of each tab combo\n",
    "\"\"\"\n",
    "#intialize the dictionaries that contain counts of POS tags associated with text commands\n",
    "tag_start_dict = dict()\n",
    "tag_end_dict = dict()\n",
    "tag_combo_dict = dict()\n",
    "first_tag_dict = dict()\n",
    "last_tag_dict = dict()\n",
    "first_last_combo_dict = dict()\n",
    "for i in range(len(identifier_pos.index)):\n",
    "    tag_start = identifier_pos.loc[i][2]\n",
    "    tag_end = identifier_pos.loc[i][3]\n",
    "    #string combination of the two tags that the identifier is between\n",
    "    tag_combo = tag_start + '-' + tag_end\n",
    "    #POS tag of the first word in text command\n",
    "    first_tag = identifier_pos.loc[i][4]\n",
    "    last_tag = identifier_pos.loc[i][5]\n",
    "    #string combination of first and last tag\n",
    "    first_last_combo = first_tag + '-' + last_tag\n",
    "    #update counts of text commands where POS tag indicates start of identifier\n",
    "    if tag_start_dict.get(tag_start,0) == 0:\n",
    "        tag_start_dict[tag_start] = 1\n",
    "    else:\n",
    "        tag_start_dict[tag_start] += 1\n",
    "    #same thing but for end of identifier \n",
    "    if tag_end_dict.get(tag_end,0) == 0:\n",
    "        tag_end_dict[tag_end] = 1\n",
    "    else:\n",
    "        tag_end_dict[tag_end] += 1\n",
    "    #update counts of text commands where identifier is between combo of start and end POS tags\n",
    "    if tag_combo_dict.get(tag_combo,0) == 0:\n",
    "        tag_combo_dict[tag_combo] = 1\n",
    "    else:\n",
    "        tag_combo_dict[tag_combo] += 1\n",
    "    #update counts of text commands with a nested dictionary. Keys in the outer dictionary are the POS tag assigned\n",
    "    #to the first word in the text command. Key in the inner dictionary is the combo of start and end POS tags\n",
    "    if first_tag_dict.get(first_tag,0) == 0:\n",
    "        first_tag_dict[first_tag] = dict()\n",
    "        first_tag_dict[first_tag][tag_combo] = 1\n",
    "    else:\n",
    "        if first_tag_dict[first_tag].get(tag_combo,0) == 0:\n",
    "            first_tag_dict[first_tag][tag_combo] = 1\n",
    "        else:\n",
    "            first_tag_dict[first_tag][tag_combo] += 1\n",
    "        tag_combo_dict[tag_combo] += 1\n",
    "    #same for the last word in the text command\n",
    "    if last_tag_dict.get(last_tag,0) == 0:\n",
    "        last_tag_dict[last_tag] = dict()\n",
    "        last_tag_dict[last_tag][tag_combo] = 1\n",
    "    else:\n",
    "        if last_tag_dict[last_tag].get(tag_combo,0) == 0:\n",
    "            last_tag_dict[last_tag][tag_combo] = 1\n",
    "        else:\n",
    "            last_tag_dict[last_tag][tag_combo] += 1\n",
    "    #same for the combo of the first and last word in the text command \n",
    "    if first_last_combo_dict.get(first_last_combo,0) == 0:\n",
    "        first_last_combo_dict[first_last_combo] = dict()\n",
    "        first_last_combo_dict[first_last_combo][tag_combo] = 1\n",
    "    else:\n",
    "        if first_last_combo_dict[first_last_combo].get(tag_combo,0) == 0:\n",
    "            first_last_combo_dict[first_last_combo][tag_combo] = 1\n",
    "        else:\n",
    "            first_last_combo_dict[first_last_combo][tag_combo] += 1"
   ]
  },
  {
   "cell_type": "code",
   "execution_count": 106,
   "metadata": {},
   "outputs": [],
   "source": [
    "#sorted dictionary of the text commands where the first and last words in the text command are nouns\n",
    "sorted_combo_tag_dict = {k: v for k, v in sorted(first_last_combo_dict['VB-NN'].items(), key=lambda item: item[1],reverse=True)}"
   ]
  },
  {
   "cell_type": "code",
   "execution_count": 107,
   "metadata": {},
   "outputs": [
    {
     "data": {
      "text/plain": [
       "<BarContainer object of 23 artists>"
      ]
     },
     "execution_count": 107,
     "metadata": {},
     "output_type": "execute_result"
    },
    {
     "data": {
      "image/png": "[encoded data removed]",
      "text/plain": [
       "<Figure size 1440x360 with 1 Axes>"
      ]
     },
     "metadata": {
      "needs_background": "light"
     },
     "output_type": "display_data"
    }
   ],
   "source": [
    "#visualize the number of text commands with a certain start end POS combo for the above condition\n",
    "plt.figure(figsize=(20,5))\n",
    "plt.bar(list(sorted_combo_tag_dict.keys()),list(sorted_combo_tag_dict.values()),width=0.5)"
   ]
  },
  {
   "cell_type": "markdown",
   "metadata": {},
   "source": [
    "### Rule Creation"
   ]
  },
  {
   "cell_type": "code",
   "execution_count": null,
   "metadata": {},
   "outputs": [],
   "source": [
    "#applys the rule where if the text command starts and ends with a noun then we look for the first instance\n",
    "#of a noun, then every word after is included in the identifier until a noun, preposition, or verb is found\n",
    "def IdentifierIdentifier(pos_tagger,text_command):\n",
    "    sentence = pos_tagger(text_command)\n",
    "    first_tag = sentence[0].tag_\n",
    "    last_tag = sentence[-1].tag_\n",
    "    first_idx = None\n",
    "    last_idx = None\n",
    "    identifier_start = False\n",
    "    \n",
    "    \n",
    "    for i in range(len(sentence)):\n",
    "        tag = sentence[i].tag_\n",
    "        if i+1 <= len(sentence)-1:\n",
    "            next_tag = sentence[i+1].tag_\n",
    "        else:\n",
    "            next_tag = None\n",
    "        if first_tag == 'VB' and last_tag == 'NN':\n",
    "            if sentence[1].tag_ == 'NN' and sentence[-2].tag_ == 'IN':\n",
    "                first_idx = 2\n",
    "                last"
   ]
  },
  {
   "cell_type": "code",
   "execution_count": 113,
   "metadata": {},
   "outputs": [],
   "source": [
    "#applys the rule where if the text command starts and ends with a noun then we look for the first instance\n",
    "#of a noun, then every word after is included in the identifier until a noun, preposition, or verb is found\n",
    "def IdentifierIdentifier(pos_tagger,text_command):\n",
    "    sentence = pos_tagger(text_command)\n",
    "    first_tag = sentence[0].tag_\n",
    "    last_tag = sentence[-1].tag_\n",
    "    first_idx = None\n",
    "    last_idx = None\n",
    "    identifier_start = False\n",
    "    if first_tag == 'VB' and last_tag == 'NN':\n",
    "        if sentence[1].tag_ == 'IN':\n",
    "            first_idx = 2\n",
    "            if sentence[-1].tag_ == 'NN':\n",
    "                last_idx = len(sentence)-1\n",
    "            else:\n",
    "                last_idx = len(sentence)\n",
    "        else:\n",
    "            if sentence[1].tag_ == 'NN' and sentence[-2].tag_ == 'IN':\n",
    "                first_idx = 2\n",
    "                last_idx = -2\n",
    "            else:\n",
    "                first_idx = 1\n",
    "                last_idx = len(sentence)-1\n",
    "        \n",
    "    if first_tag == 'NNP' and last_tag == 'NN':\n",
    "        if sentence[1].tag_ == 'NN' and sentence[-2].tag_ == 'IN':\n",
    "            first_idx = 2\n",
    "            last_idx = -2\n",
    "        else:\n",
    "            for i in range(len(sentence)):\n",
    "                tag = sentence[i].tag_\n",
    "                if i+1 <= len(sentence)-1:\n",
    "                    next_tag = sentence[i+1].tag_\n",
    "                else:\n",
    "                    next_tag = None\n",
    "                if tag == 'NN' and next_tag == 'IN':\n",
    "                    first_idx = 1\n",
    "                    last_idx = i\n",
    "                    break\n",
    "                if i == len(sentence) - 1:\n",
    "                    first_idx = 1\n",
    "                    last_idx = len(sentence)-1\n",
    "                    break\n",
    "            \n",
    "    identifier = sentence[first_idx:last_idx]\n",
    "                \n",
    "    return identifier"
   ]
  },
  {
   "cell_type": "code",
   "execution_count": 99,
   "metadata": {},
   "outputs": [
    {
     "data": {
      "text/plain": [
       "'el'"
      ]
     },
     "execution_count": 99,
     "metadata": {},
     "output_type": "execute_result"
    }
   ],
   "source": [
    "'hello'[1:-2]"
   ]
  },
  {
   "cell_type": "markdown",
   "metadata": {},
   "source": [
    "## Testing Rules"
   ]
  },
  {
   "cell_type": "code",
   "execution_count": 63,
   "metadata": {},
   "outputs": [],
   "source": [
    "def print_tags(pos_tagger,text_command):\n",
    "    sentence = pos_tagger(text_command)\n",
    "    lst = []\n",
    "    for word in sentence:\n",
    "        lst.append(word.tag_)\n",
    "    return str(sentence),lst"
   ]
  },
  {
   "cell_type": "code",
   "execution_count": 114,
   "metadata": {},
   "outputs": [
    {
     "name": "stdout",
     "output_type": "stream",
     "text": [
      "Commands misclassified: \n",
      "---\n",
      "assign Developing editorial calendar for content sharing job complet, ['NNP', 'VBG', 'JJ', 'NN', 'IN', 'NN', 'NN', 'NN', 'NN'], Developing editorial\n",
      "chore Developing editorial calendar for content sharing wa complet, ['NNP', 'VBG', 'JJ', 'NN', 'IN', 'NN', 'NN', 'NNP', 'NN'], Developing editorial\n",
      "ascrib Updating Facebook Pages task complet, ['NNP', 'NNP', 'NNP', 'NNPS', 'NN', 'NN'], Updating Facebook Pages task\n",
      "assign throw Updating Google+ risk, ['NNP', 'NN', 'NNP', 'NNP', 'NN'], throw Updating Google+\n",
      "assign to chore Updating Google+ in progress, ['NNP', 'TO', 'VB', 'NNP', 'NNP', 'IN', 'NN'], to chore Updating Google+ in\n",
      "act Updating Google+ to in review, ['NNP', 'NNP', 'NNP', 'IN', 'IN', 'NN'], Updating Google+ to in\n",
      "chore Updating Google+ is complet, ['NNP', 'NNP', 'NNP', 'VBZ', 'NN'], Updating Google+ is\n",
      "cast Updating Google+ at risk, ['NNP', 'NNP', 'NNP', 'IN', 'NN'], Updating Google+ at\n",
      "attribut in review to Updating LinkedIn task, ['NNP', 'IN', 'NN', 'IN', 'VBG', 'NNP', 'NN'], in\n",
      "assign labor Updating LinkedIn block, ['NNP', 'NN', 'VBG', 'NNP', 'NN'], labor Updating LinkedIn\n",
      "deleg Updating Twitter at risk, ['NNP', 'NNP', 'NNP', 'IN', 'NN'], Updating Twitter at\n",
      "assign out of use to Answering LinkedIn questions task, ['NNP', 'IN', 'IN', 'NN', 'IN', 'VBG', 'NNP', 'NNS', 'NN'], out of\n",
      "assign Answering LinkedIn questions at chanc, ['NNP', 'NNP', 'NNP', 'NNS', 'IN', 'NN'], Answering LinkedIn questions at\n",
      "assign to a realiz Updating Tumblr, Instagram, Vine, and other social networks project, ['NNP', 'IN', 'DT', 'JJ', 'NNP', 'NNP', ',', 'NNP', ',', 'NNP', ',', 'CC', 'JJ', 'JJ', 'NNS', 'NN'], to a realiz Updating Tumblr, Instagram, Vine, and other social networks\n",
      "assign in progress to Updating Tumblr, Instagram, Vine, and other social networks tax, ['NNP', 'IN', 'NN', 'IN', 'NNP', 'NNP', ',', 'NNP', ',', 'NNP', ',', 'CC', 'JJ', 'JJ', 'NNS', 'NN'], in\n",
      "assign Managing your Yelp profile job block, ['NNP', 'VBG', 'PRP$', 'NNP', 'NN', 'NN', 'NN'], Managing your Yelp profile job\n",
      "assign Managing your Yelp profile task realiz, ['NNP', 'VBG', 'PRP$', 'NNP', 'NN', 'NN', 'NN'], Managing your Yelp profile task\n",
      "chore Managing your Yelp profile alloc block, ['NNP', 'VBG', 'PRP$', 'NNP', 'NN', 'NN', 'NN'], Managing your Yelp profile alloc\n",
      "assign to a complet Managing your Yelp profile design, ['NNP', 'IN', 'DT', 'NN', 'VBG', 'PRP$', 'NNP', 'NN', 'NN'], to a complet Managing your Yelp profile\n",
      "launch Bookmarking blog content on social bookmarking sites project, ['NNP', 'NNP', 'NN', 'NN', 'IN', 'JJ', 'NN', 'NNS', 'NN'], Bookmarking blog\n",
      "assign to a accomplish Bookmarking blog content on social bookmarking sites project, ['NNP', 'IN', 'DT', 'JJ', 'NN', 'NN', 'NN', 'IN', 'JJ', 'NN', 'NNS', 'NN'], to a accomplish Bookmarking blog\n",
      "assign Bookmarking blog content on social bookmarking sites task under recap, ['NNP', 'NNP', 'NN', 'NN', 'IN', 'JJ', 'NN', 'NNS', 'NN', 'IN', 'NN'], Bookmarking blog\n",
      "assign cast Bookmarking blog content on social bookmarking sites risk, ['NNP', 'NNP', 'NNP', 'NN', 'NN', 'IN', 'JJ', 'NN', 'NNS', 'NN'], cast Bookmarking blog\n",
      "mark Bookmarking blog content on social bookmarking sites task, ['NNP', 'NNP', 'NN', 'NN', 'IN', 'JJ', 'NN', 'NNS', 'NN'], Bookmarking blog\n",
      "assign Building out custom Facebook pages task complet, ['NNP', 'NNP', 'RP', 'NN', 'NNP', 'NNS', 'NN', 'NN'], Building out custom Facebook pages task\n",
      "deleg block task to Building out custom Facebook pages task, ['NNP', 'NN', 'NN', 'IN', 'VBG', 'RP', 'NN', 'NNP', 'NNS', 'NN'], block\n",
      "assign to a complet Building out custom Facebook pages project, ['NNP', 'IN', 'DT', 'NN', 'VBG', 'RP', 'NN', 'NNP', 'NNS', 'NN'], to a complet Building out custom Facebook pages\n",
      "assign Building out custom Facebook pages out of use, ['NNP', 'NNP', 'RP', 'NN', 'NNP', 'NNS', 'IN', 'IN', 'NN'], Building out custom Facebook pages out of\n",
      "assign task Designing cover images for social profiles in build, ['NNP', 'NN', 'VBG', 'NN', 'NNS', 'IN', 'JJ', 'NNS', 'IN', 'NN'], task Designing cover images for social profiles in\n",
      "assign Designing cover images for social profiles project complet, ['NNP', 'NNP', 'NN', 'NNS', 'IN', 'JJ', 'NNS', 'NN', 'NN'], Designing cover images for social profiles project\n",
      "assign Designing cover images for social profiles project risk, ['NNP', 'NNP', 'NN', 'NNS', 'IN', 'JJ', 'NNS', 'NN', 'NN'], Designing cover images for social profiles project\n",
      "assign to task Designing cover images for social profiles in review, ['NNP', 'IN', 'NN', 'VBG', 'NN', 'NNS', 'IN', 'JJ', 'NNS', 'IN', 'NN'], to task Designing cover images for social profiles in\n",
      "assign in build to Designing cover images for social profiles task, ['NNP', 'IN', 'NN', 'IN', 'VBG', 'NN', 'NNS', 'IN', 'JJ', 'NNS', 'NN'], in\n",
      "assign plan Designing cover images for social profiles danger, ['NNP', 'NN', 'VBG', 'NN', 'NNS', 'IN', 'JJ', 'NNS', 'NN'], plan Designing cover images for social profiles\n",
      "assign throw Developing social media marketing plans at risk, ['NNP', 'NN', 'VBG', 'JJ', 'NNS', 'NN', 'NNS', 'IN', 'NN'], throw Developing social media marketing plans at\n",
      "assign task Developing social media marketing plans in follow-up, ['NNP', 'NN', 'VBG', 'JJ', 'NNS', 'NN', 'NNS', 'IN', 'NN', 'HYPH', 'NN'], task Developing social media marketing plans in follow-\n",
      "assign at risk to Developing social media marketing plans project, ['NNP', 'IN', 'NN', 'IN', 'VBG', 'JJ', 'NNS', 'NN', 'NNS', 'NN'], at\n",
      "cast Guest writing for industry blogs or websites is delay, ['NNP', 'NNP', 'NN', 'IN', 'NN', 'NNS', 'CC', 'NNS', 'VBZ', 'NN'], Guest\n",
      "assign Guest writing for industry blogs or websites in follow-up, ['NNP', 'NNP', 'VBG', 'IN', 'NN', 'NNS', 'CC', 'NNS', 'IN', 'NN', 'HYPH', 'NN'], Guest writing for industry blogs or websites in follow-\n",
      "assign Guest writing for industry blogs or websites project at risk, ['NNP', 'NNP', 'VBG', 'IN', 'NN', 'NNS', 'CC', 'NNS', 'VBP', 'IN', 'NN'], Guest writing for industry blogs or websites project at\n",
      "assign Guest writing for industry blogs or websites plan at risk, ['NNP', 'NNP', 'VBG', 'IN', 'NN', 'NNS', 'CC', 'NNS', 'VBP', 'IN', 'NN'], Guest writing for industry blogs or websites plan at\n",
      "assign tax Guest writing for industry blogs or websites under review, ['NNP', 'NN', 'NNP', 'VBG', 'IN', 'NN', 'NNS', 'CC', 'NNS', 'IN', 'NN'], tax Guest writing for industry blogs or websites under\n",
      "labor Interacting with consumers via social media is under review, ['NNP', 'VBG', 'IN', 'NNS', 'IN', 'JJ', 'NNS', 'VBZ', 'IN', 'NN'], Interacting with consumers via social media is under\n",
      "attribut block task to Interacting with consumers via social media task, ['NNP', 'NN', 'NN', 'IN', 'VBG', 'IN', 'NNS', 'IN', 'JJ', 'NNS', 'NN'], block\n",
      "deleg Interacting with consumers via social media on target, ['NNP', 'VBG', 'IN', 'NNS', 'IN', 'JJ', 'NNS', 'IN', 'NN'], Interacting with consumers via social media on\n",
      "assign to Interacting with consumers via social media in review, ['NNP', 'IN', 'VBG', 'IN', 'NNS', 'IN', 'JJ', 'NNS', 'IN', 'NN'], to Interacting with consumers via social media in\n",
      "assign at peril to Recruiting guest bloggers project, ['NNP', 'IN', 'NN', 'IN', 'VBG', 'NN', 'NNS', 'NN'], at\n",
      "assign Recruiting guest bloggers project peril, ['NNP', 'VBG', 'NN', 'NNS', 'NN', 'NN'], Recruiting guest bloggers project\n",
      "assign Recruiting guest bloggers see complet, ['NNP', 'VBG', 'NN', 'NNS', 'VBP', 'NN'], Recruiting guest bloggers see\n",
      "assign to Recruiting guest bloggers chore in progress, ['NNP', 'IN', 'VBG', 'NN', 'NNS', 'VBP', 'IN', 'NN'], to Recruiting guest bloggers chore in\n",
      "project Researching bloggers is in review, ['NNP', 'NNP', 'NNS', 'VBZ', 'IN', 'NN'], Researching bloggers is in\n",
      "assign Researching bloggers throw on target, ['NNP', 'NNP', 'NNS', 'VBP', 'RP', 'NN'], Researching bloggers throw on\n",
      "ascrib to Researching bloggers task in review, ['NNP', 'IN', 'VBG', 'NNS', 'NN', 'IN', 'NN'], to Researching bloggers\n",
      "act project Researching bloggers to a riski locat, ['NNP', 'NN', 'VBG', 'NNS', 'IN', 'DT', 'NNP', 'NN'], project Researching bloggers to a riski\n",
      "assign Researching bloggers task under refresh, ['NNP', 'NNP', 'NNS', 'VBG', 'IN', 'NN'], Researching bloggers task under\n",
      "assign Writing a social media corporate policy on mark, ['NNP', 'NNP', 'DT', 'JJ', 'NNS', 'JJ', 'NN', 'IN', 'NN'], Writing a social media corporate\n",
      "assign obstruct task to Responding to questions on Quora task, ['NNP', 'NN', 'NN', 'IN', 'VBG', 'IN', 'NNS', 'IN', 'NNP', 'NN'], obstruct\n",
      "assign plan Responding to questions on Quora on target, ['NNP', 'NN', 'VBG', 'IN', 'NNS', 'IN', 'NNP', 'IN', 'NN'], plan Responding to questions on Quora on\n"
     ]
    },
    {
     "name": "stdout",
     "output_type": "stream",
     "text": [
      "project Researching bloggers is on place, ['NNP', 'NNP', 'NNS', 'VBZ', 'IN', 'NN'], Researching bloggers is on\n",
      "assign Researching bloggers design on target, ['NNP', 'VBG', 'NNS', 'VBP', 'IN', 'NN'], Researching bloggers design on\n",
      "assign accomplish to Researching bloggers task, ['NNP', 'NN', 'IN', 'VBG', 'NNS', 'NN'], \n",
      "project Researching bloggers is under review, ['NNP', 'NNP', 'NNS', 'VBZ', 'IN', 'NN'], Researching bloggers is under\n",
      "act project Monitoring competitors’ social media updates to on target, ['NNP', 'NN', 'NNP', 'NNS', 'POS', 'JJ', 'NNS', 'VBZ', 'TO', 'IN', 'NN'], project Monitoring competitors’ social media updates to on\n",
      "deleg Monitoring competitors’ social media updates in progress, ['NNP', 'NNP', 'NNS', 'POS', 'JJ', 'NNS', 'VBZ', 'IN', 'NN'], Monitoring competitors’ social media updates in\n",
      "ascrib in review to Monitoring competitors’ social media updates task, ['NNP', 'IN', 'NN', 'IN', 'NNP', 'NNS', 'POS', 'JJ', 'NNS', 'VBZ', 'NN'], in\n",
      "assign to labor Monitoring competitors’ social media updates in review, ['NNP', 'IN', 'NN', 'NNP', 'NNS', 'POS', 'JJ', 'NNS', 'VBZ', 'IN', 'NN'], to labor Monitoring competitors’ social media updates in\n",
      "assign see Developing contests to promote a business or product risk, ['NNP', 'VBP', 'VBG', 'NNS', 'TO', 'VB', 'DT', 'NN', 'CC', 'NN', 'NN'], see Developing contests to promote a business or product\n",
      "deleg in review to Developing contests to promote a business or product task, ['NNP', 'IN', 'NN', 'IN', 'VBG', 'NNS', 'TO', 'VB', 'DT', 'NN', 'CC', 'NN', 'NN'], in\n",
      "ascrib Developing contests to promote a business or product at risk, ['NNP', 'VBG', 'NNS', 'TO', 'VB', 'DT', 'NN', 'CC', 'NN', 'IN', 'NN'], Developing contests to promote a business or\n",
      "assign to a complet Developing contests to promote a business or product project, ['NNP', 'IN', 'DT', 'NN', 'VBG', 'NNS', 'TO', 'VB', 'DT', 'NN', 'CC', 'NN', 'NN'], to a complet Developing contests to promote a business or product\n",
      "block Designing contest pages task assign, ['NNP', 'NNP', 'NN', 'NNS', 'NN', 'NN'], Designing contest pages task\n",
      "chore Designing contest pages is in progress, ['NNP', 'VBG', 'NN', 'NNS', 'VBZ', 'IN', 'NN'], Designing contest pages is in\n",
      "assign to Writing contest rules job in progress, ['NNP', 'IN', 'VBG', 'NN', 'NNS', 'NN', 'IN', 'NN'], to Writing contest rules\n",
      "assign job Writing contest rules block, ['NNP', 'NN', 'VBG', 'NN', 'NNS', 'NN'], job Writing contest rules\n",
      "assign to Writing contest rules task in progress, ['NNP', 'IN', 'VBG', 'NN', 'NNS', 'NN', 'IN', 'NN'], to Writing contest rules\n",
      "assign to task Promoting contests to contest directories in survey, ['NNP', 'IN', 'NN', 'VBG', 'NNS', 'TO', 'VB', 'NNS', 'IN', 'NN'], to task Promoting contests to contest directories in\n",
      "assign in review to Promoting contests to contest directories job, ['NNP', 'IN', 'NN', 'IN', 'VBG', 'NNS', 'TO', 'VB', 'NNS', 'NN'], in\n",
      "assign on aim to Promoting contests to contest directories project, ['NNP', 'IN', 'NN', 'IN', 'VBG', 'NNS', 'TO', 'VB', 'NNS', 'NN'], on\n",
      "ascrib to Promoting contests to contest directories in progress, ['NNP', 'IN', 'VBG', 'NNS', 'TO', 'VB', 'NNS', 'IN', 'NN'], to Promoting contests to contest directories in\n",
      "assign Promoting contests to contest directories task complet, ['NNP', 'VBG', 'NNS', 'TO', 'VB', 'NNS', 'NN', 'NN'], Promoting contests to contest directories task\n",
      "assign job Promoting contests to contest directories in review, ['NNP', 'NN', 'VBG', 'NNS', 'TO', 'VB', 'NNS', 'IN', 'NN'], job Promoting contests to contest directories in\n",
      "assign Promoting contests to contest directories at peril, ['NNP', 'VBG', 'NNS', 'TO', 'VB', 'NNS', 'IN', 'NN'], Promoting contests to contest directories at\n",
      "assign project Promoting contests to contest directories at peril, ['NNP', 'NN', 'VBG', 'NNS', 'TO', 'VB', 'NNS', 'IN', 'NN'], project Promoting contests to contest directories at\n",
      "alloc of complet Promoting contests online on company website task, ['NNP', 'IN', 'NN', 'VBG', 'NNS', 'RB', 'IN', 'NN', 'NN', 'NN'], of complet Promoting contests online on company website\n",
      "assign labor Promoting contests online through company’s social profiles in progress, ['NNP', 'NN', 'VBG', 'NNS', 'RB', 'IN', 'NN', 'POS', 'JJ', 'NNS', 'IN', 'NN'], labor Promoting contests online through company’s social profiles in\n",
      "assign consumm to Promoting contests through company’s email newsletters task, ['NNP', 'NNP', 'IN', 'VBG', 'NNS', 'IN', 'NN', 'POS', 'NN', 'NNS', 'NN'], consumm to Promoting contests through company’s email newsletters\n",
      "propos Tracking progress of contest entries project, ['NNP', 'NNP', 'NN', 'IN', 'NN', 'NNS', 'NN'], Tracking\n",
      "deleg project Tracking progress of contest entries risk, ['NNP', 'NN', 'NNP', 'NN', 'IN', 'NN', 'NNS', 'NN'], project Tracking\n",
      "chore Tracking progress of contest entries block, ['NNP', 'NNP', 'NN', 'IN', 'NN', 'NNS', 'NN'], Tracking\n",
      "labor Tracking progress of contest entries assign complet, ['NNP', 'NNP', 'NN', 'IN', 'NN', 'NNS', 'NN', 'NN'], Tracking\n",
      "chequer Tracking progress of contest entries task, ['NNP', 'NNP', 'NN', 'IN', 'NN', 'NNS', 'NN'], Tracking\n",
      "gener Tracking progress of contest entries chore, ['NNP', 'NNP', 'NN', 'IN', 'NN', 'NNS', 'NN'], Tracking\n",
      "assign Tracking progress of contest entries complet, ['NNP', 'NNP', 'NN', 'IN', 'NN', 'NNS', 'NN'], Tracking\n",
      "ascrib on target to Tracking progress of contest entries project, ['NNP', 'IN', 'NN', 'IN', 'NNP', 'NN', 'IN', 'NN', 'NNS', 'NN'], on\n",
      "labor Tracking progress of contest entries wa complet, ['NNP', 'NNP', 'NN', 'IN', 'NN', 'NNS', 'CD', 'NN'], Tracking\n",
      "chore Choosing winners of contests is finish, ['NNP', 'NNP', 'NNS', 'IN', 'NNS', 'VBZ', 'NN'], Choosing winners of contests is\n",
      "labor Choosing winners of contests is in review, ['NNP', 'NNP', 'NNS', 'IN', 'NNS', 'VBZ', 'IN', 'NN'], Choosing winners of contests is in\n",
      "chore Announcing contest winners wa block, ['NNP', 'VBG', 'NN', 'NNS', 'CD', 'NN'], Announcing contest winners wa\n",
      "assign in survey to Announcing contest winners task, ['NNP', 'IN', 'NN', 'IN', 'VBG', 'NN', 'NNS', 'NN'], in\n",
      "chore Announcing contest winners assign complet, ['NNP', 'VBG', 'NN', 'NNS', 'NN', 'NN'], Announcing contest winners assign\n",
      "ascrib project Notify winners of contests risk, ['NNP', 'NNP', 'NNP', 'NNS', 'IN', 'NNS', 'NN'], project Notify winners of contests\n",
      "assign project Notify winners of contests on point, ['NNP', 'NN', 'NNP', 'NNS', 'IN', 'NNS', 'IN', 'NN'], project Notify winners of contests on\n",
      "ascrib Notify winners of contests in progress, ['NNP', 'NNP', 'NNS', 'IN', 'NNS', 'IN', 'NN'], Notify winners of contests in\n",
      "ascrib danger to Distributing contest prizing project, ['NNP', 'NN', 'IN', 'VBG', 'NN', 'NN', 'NN'], \n",
      "assign to labor Distributing contest prizing in progress, ['NNP', 'IN', 'NN', 'VBG', 'NN', 'NN', 'IN', 'NN'], to labor Distributing contest\n",
      "attribut Distributing contest prizing task complet, ['NNP', 'VBG', 'NN', 'NN', 'NN', 'NN'], Distributing contest prizing task\n",
      "assign on target to Distributing contest prizing design, ['NNP', 'IN', 'NN', 'IN', 'VBG', 'NN', 'NN', 'NN'], on\n",
      "assign labor Distributing contest prizing under review, ['NNP', 'NN', 'VBG', 'NN', 'NN', 'IN', 'NN'], labor Distributing contest\n",
      "assign task Distributing contest prizing under critiqu, ['NNP', 'NN', 'VBG', 'NN', 'NN', 'IN', 'NN'], task Distributing contest\n",
      "assign Distributing coupon codes online throw complet, ['NNP', 'NNP', 'NN', 'NNS', 'JJ', 'NN', 'NN'], Distributing coupon codes online throw\n",
      "assign in review to Distributing coupon codes online labor, ['NNP', 'IN', 'NN', 'IN', 'VBG', 'NN', 'NNS', 'JJ', 'NN'], in\n",
      "assign Distributing coupon codes online on place, ['NNP', 'NNP', 'NN', 'NNS', 'RB', 'IN', 'NN'], Distributing coupon codes online on\n",
      "labor Distributing coupon codes online is complet, ['NNP', 'NNP', 'NN', 'NNS', 'NN', 'VBZ', 'NN'], Distributing coupon codes online is\n",
      "ascrib project Distributing coupon codes online on target, ['NNP', 'NNP', 'NNP', 'NN', 'NNS', 'RB', 'IN', 'NN'], project Distributing coupon codes online on\n",
      "attribut project Distributing coupon codes online complet, ['NNP', 'NNP', 'NNP', 'NN', 'NNS', 'JJ', 'NN'], project Distributing coupon codes online\n",
      "assign task Distributing coupon codes online block, ['NNP', 'NN', 'NNP', 'NN', 'NNS', 'JJ', 'NN'], task Distributing coupon codes online\n",
      "ascrib task Listing your events with local online events calendars in progress, ['NNP', 'NNP', 'VBG', 'PRP$', 'NNS', 'IN', 'JJ', 'JJ', 'NNS', 'NNS', 'IN', 'NN'], task Listing your events with local online events calendars in\n"
     ]
    },
    {
     "name": "stdout",
     "output_type": "stream",
     "text": [
      "assign Listing your events with local online events calendars plan danger, ['NNP', 'VBG', 'PRP$', 'NNS', 'IN', 'JJ', 'JJ', 'NNS', 'NNP', 'NN', 'NN'], Listing your events with local online events calendars plan\n",
      "deleg project Listing your events with local online events calendars complet, ['NNP', 'NN', 'VBG', 'PRP$', 'NNS', 'IN', 'JJ', 'JJ', 'NNS', 'VBZ', 'NN'], project Listing your events with local online events calendars\n",
      "assign task Listing your events with local online events calendars obstruct, ['NNP', 'NN', 'VBG', 'PRP$', 'NNS', 'IN', 'JJ', 'JJ', 'NNS', 'VBZ', 'NN'], task Listing your events with local online events calendars\n",
      "cast Ordering premiums created to hand out is in danger, ['NNP', 'NN', 'NNS', 'VBN', 'TO', 'VB', 'RP', 'VBZ', 'IN', 'NN'], Ordering premiums created to hand out is in\n",
      "assign in progress to Ordering premiums created to hand out project, ['NNP', 'IN', 'NN', 'IN', 'NN', 'NNS', 'VBN', 'TO', 'VB', 'RP', 'NN'], in\n",
      "assign project Writing white papers peril, ['NNP', 'NN', 'NNP', 'JJ', 'NNS', 'NN'], project Writing white papers\n",
      "assign Writing white papers plan on target, ['NNP', 'NNP', 'JJ', 'NNS', 'VBP', 'IN', 'NN'], Writing white papers plan on\n",
      "assign Writing white papers on object, ['NNP', 'NNP', 'JJ', 'NNS', 'IN', 'NN'], Writing white papers on\n",
      "alloc of consumm Writing white papers task, ['NNP', 'IN', 'NNP', 'VBG', 'JJ', 'NNS', 'NN'], of consumm Writing white papers\n",
      "ascrib Posting white papers online on sites like Scribd.com project danger, ['NNP', 'VBG', 'JJ', 'NNS', 'RB', 'IN', 'NNS', 'IN', 'NNP', 'NN', 'NN'], Posting white papers online on sites like Scribd.com project\n",
      "assign see Posting white papers online on sites like Scribd.com danger, ['NNP', 'VBP', 'VBG', 'JJ', 'NNS', 'RB', 'IN', 'NNS', 'IN', 'NNP', 'NN'], see Posting white papers online on sites like Scribd.com\n",
      "assign design Posting white papers online on sites like Scribd.com at risk, ['NNP', 'NN', 'VBG', 'JJ', 'NNS', 'RB', 'IN', 'NNS', 'IN', 'NNP', 'IN', 'NN'], design Posting white papers online on sites like Scribd.com at\n",
      "assign see Analyzing Google Analytics on target, ['NNP', 'VBP', 'NNP', 'NNP', 'NNP', 'IN', 'NN'], see Analyzing Google Analytics on\n",
      "assign on mark to Analyzing Google Analytics project, ['NNP', 'IN', 'NN', 'IN', 'NNP', 'NNP', 'NNP', 'NN'], on\n",
      "assign cast Analyzing Google Analytics on target, ['NNP', 'NN', 'NNP', 'NNP', 'NNP', 'IN', 'NN'], cast Analyzing Google Analytics on\n",
      "assign project Analyzing Google Analytics complet, ['NNP', 'NN', 'NNP', 'NNP', 'NNP', 'NN'], project Analyzing Google Analytics\n",
      "unschedul with Measuring search engine optimization results project, ['NNP', 'IN', 'NNP', 'NN', 'NN', 'NN', 'NNS', 'NN'], with Measuring search engine optimization results\n",
      "assign in review to Measuring search engine optimization results chore, ['NNP', 'IN', 'NN', 'IN', 'NNP', 'NN', 'NN', 'NN', 'NNS', 'NN'], in\n",
      "ascrib task Performing competitor keyword analysis complet, ['NNP', 'NNP', 'NNP', 'NN', 'NNP', 'NNP', 'NN'], task Performing competitor keyword analysis\n",
      "assign Performing competitor keyword analysis task in review, ['NNP', 'NNP', 'NN', 'NNP', 'NNP', 'NNP', 'IN', 'NN'], Performing competitor keyword analysis task in\n",
      "assign to task Performing competitor keyword analysis in progress, ['NNP', 'IN', 'NN', 'NNP', 'NN', 'NNP', 'NN', 'IN', 'NN'], to task Performing competitor keyword\n",
      "project Performing competitor keyword analysis on cross, ['NNP', 'NNP', 'NN', 'NNP', 'NN', 'IN', 'NN'], Performing competitor keyword\n",
      "project Performing competitor keyword analysis wa complet, ['NNP', 'NNP', 'NN', 'NNP', 'NNP', 'NNP', 'NN'], Performing competitor keyword analysis wa\n",
      "attribut task Performing competitor keyword analysis in progress, ['NNP', 'NN', 'NNP', 'NN', 'NNP', 'NN', 'IN', 'NN'], task Performing competitor keyword\n",
      "assign close to Reviewing ecommerce sales data task, ['NNP', 'RB', 'IN', 'VBG', 'NN', 'NNS', 'NNS', 'NN'], close to Reviewing ecommerce sales data\n",
      "assign peril to Review social media metrics, like Facebook Insights project, ['NNP', 'NN', 'IN', 'VB', 'JJ', 'NNS', 'NNS', ',', 'IN', 'NNP', 'NNPS', 'NN'], \n",
      "assign to Review social media metrics, like Facebook Insights in follow-up, ['NNP', 'TO', 'VB', 'JJ', 'NNS', 'NNS', ',', 'IN', 'NNP', 'NNPS', 'IN', 'NN', 'HYPH', 'NN'], to Review social media metrics, like Facebook Insights in follow-\n",
      "tax Review social media metrics, like Facebook Insights alloc block, ['NNP', 'NNP', 'JJ', 'NNS', 'NNS', ',', 'IN', 'NNP', 'NNPS', 'NNP', 'NN'], Review social media metrics, like Facebook Insights alloc\n",
      "alloc of accomplish Review social media metrics, like Facebook Insights task, ['NNP', 'IN', 'NNP', 'NNP', 'JJ', 'NNS', 'NNS', ',', 'IN', 'NNP', 'NNPS', 'NN'], of accomplish Review social media metrics, like Facebook Insights\n",
      "deleg Writing proposal project danger, ['NNP', 'NNP', 'NN', 'NN', 'NN'], Writing proposal project\n",
      "ascrib task Writing sales follow up copy block, ['NNP', 'NNP', 'NNP', 'NNS', 'VBP', 'RP', 'NN', 'NN'], task Writing sales follow up copy\n",
      "deleg complet task to Writing sales follow up copy task, ['NNP', 'NN', 'NN', 'IN', 'VBG', 'NNS', 'VB', 'RP', 'NN', 'NN'], complet\n",
      "assign Writing sales follow up copy design complet, ['NNP', 'NNP', 'NNS', 'VBP', 'RP', 'NN', 'NN', 'NN'], Writing sales follow up copy design\n",
      "cast Writing sales scripts wa finish, ['NNP', 'VBG', 'NNS', 'NNS', 'NNP', 'NN'], Writing sales scripts wa\n",
      "assign Writing sales scripts task block, ['NNP', 'NNP', 'NNS', 'VBZ', 'NN', 'NN'], Writing sales scripts task\n",
      "assign at jeopardi to Submitting ecommerce products to shopping aggregators project, ['NNP', 'IN', 'NNS', 'IN', 'VBG', 'NN', 'NNS', 'IN', 'NN', 'NNS', 'NN'], at jeopardi to Submitting ecommerce products to shopping aggregators\n",
      "act project Submitting ecommerce products to shopping aggregators to at risk, ['NNP', 'NN', 'VBG', 'NN', 'NNS', 'IN', 'NN', 'NNS', 'IN', 'IN', 'NN'], project Submitting ecommerce products to shopping aggregators to at\n",
      "act project Submitting ecommerce products to shopping aggregators to danger, ['NNP', 'NN', 'VBG', 'NN', 'NNS', 'IN', 'NN', 'NNS', 'IN', 'NN'], project Submitting ecommerce products to shopping aggregators to\n",
      "ascrib project Submitting ecommerce products to shopping aggregators danger, ['NNP', 'NNP', 'NNP', 'NN', 'NNS', 'IN', 'NN', 'NNS', 'NN'], project Submitting ecommerce products to shopping aggregators\n",
      "assign task Using lead scoring for prospects under review, ['NNP', 'NN', 'VBG', 'NN', 'VBG', 'IN', 'NNS', 'IN', 'NN'], task Using lead scoring for prospects under\n",
      "assign project Using lead scoring for prospects in progress, ['NNP', 'NN', 'VBG', 'NN', 'VBG', 'IN', 'NNS', 'IN', 'NN'], project Using lead scoring for prospects in\n",
      "assign close task to Using lead scoring for prospects task, ['NNP', 'JJ', 'NN', 'IN', 'VBG', 'NN', 'VBG', 'IN', 'NNS', 'NN'], close\n",
      "deleg project Developing demonstrations or tutorials at risk, ['NNP', 'NN', 'VBG', 'NNS', 'CC', 'NNS', 'IN', 'NN'], project Developing demonstrations or tutorials at\n",
      "ascrib complet to Developing demonstrations or tutorials project, ['NNP', 'NN', 'IN', 'VBG', 'NNS', 'CC', 'NNS', 'NN'], \n",
      "project Networking – in person! apport complet, ['NNP', 'NNP', ':', 'IN', 'NN', '.', 'NNP', 'NN'], Networking – in person! apport\n",
      "plan Networking – in person! is complet, ['NNP', 'NNP', ':', 'IN', 'NN', '.', 'VBZ', 'NN'], Networking – in person! is\n",
      "task Networking – in person! in refresh, ['NNP', 'NNP', ':', 'IN', 'NN', '.', 'IN', 'NN'], Networking – in person! in\n",
      "design Networking – in person! project complet, ['NNP', 'NNP', ':', 'IN', 'NN', '.', 'NN', 'NN'], Networking – in person! project\n",
      "assign on point to Networking – in person! project, ['NNP', 'IN', 'NN', 'IN', 'NNP', ':', 'IN', 'NN', '.', 'NN'], on\n",
      "task Networking – in person! wa block, ['NNP', 'NNP', ':', 'IN', 'NN', '.', 'NNP', 'NN'], Networking – in person! wa\n",
      "assign Writing tips & how-to articles to share with prospects or customers see at risk, ['NNP', 'NNP', 'NNS', 'CC', 'RB', 'HYPH', 'IN', 'NNS', 'TO', 'VB', 'IN', 'NNS', 'CC', 'NNS', 'VBP', 'IN', 'NN'], Writing tips & how-to articles to share with prospects or customers see at\n",
      "assign task Writing tips & how-to articles to share with prospects or customers in progress, ['NNP', 'NN', 'NNP', 'NNS', 'CC', 'RB', 'HYPH', 'IN', 'NNS', 'TO', 'VB', 'IN', 'NNS', 'CC', 'NNS', 'IN', 'NN'], task Writing tips & how-to articles to share with prospects or customers in\n",
      "ascrib to Researching affiliate programs in review, ['NNP', 'IN', 'VBG', 'NN', 'NNS', 'IN', 'NN'], to Researching affiliate programs in\n",
      "deleg Researching affiliate programs task block, ['NNP', 'VBG', 'NN', 'NNS', 'NN', 'NN'], Researching affiliate programs task\n"
     ]
    },
    {
     "name": "stdout",
     "output_type": "stream",
     "text": [
      "act Researching affiliate programs to on target, ['NNP', 'VBG', 'NN', 'NNS', 'TO', 'IN', 'NN'], Researching affiliate programs to on\n",
      "assign Researching affiliate programs in progress, ['NNP', 'NNP', 'NN', 'NNS', 'IN', 'NN'], Researching affiliate programs in\n",
      "deleg danger to Choosing an email marketing software vendor project, ['NNP', 'NN', 'IN', 'VBG', 'DT', 'NN', 'NN', 'NN', 'NN', 'NN'], \n",
      "assign Choosing an email marketing software vendor cast complet, ['NNP', 'VBG', 'DT', 'NN', 'NN', 'NN', 'NN', 'NN', 'NN'], Choosing an email marketing software vendor cast\n",
      "ascrib at risk to Choosing an email marketing software vendor project, ['NNP', 'IN', 'NN', 'IN', 'VBG', 'DT', 'NN', 'NN', 'NN', 'NN', 'NN'], at\n",
      "assign at risk to Designing email newsletter templates design, ['NNP', 'IN', 'NN', 'IN', 'NN', 'NN', 'NN', 'VBZ', 'NN'], at\n",
      "ascrib in progress to Designing email newsletter templates task, ['NNP', 'IN', 'NN', 'IN', 'NN', 'NN', 'NN', 'VBZ', 'NN'], in\n",
      "assign design Distributing email newsletter complet, ['NNP', 'NN', 'NNP', 'NN', 'NN', 'NN'], design Distributing email newsletter\n",
      "assign Distributing email newsletter throw danger, ['NNP', 'NNP', 'NN', 'NN', 'NN', 'NN'], Distributing email newsletter throw\n",
      "assign Writing email newsletter copy tax block, ['NNP', 'NNP', 'NN', 'NN', 'NN', 'NN', 'NN'], Writing email newsletter copy tax\n",
      "ascrib task Writing email newsletter copy in review, ['NNP', 'NNP', 'NNP', 'NN', 'NN', 'VBP', 'IN', 'NN'], task Writing email newsletter copy in\n",
      "assign project Writing email newsletter copy on target, ['NNP', 'NN', 'NNP', 'NN', 'NN', 'NN', 'IN', 'NN'], project Writing email newsletter\n",
      "fit Setting up an account with the email marketing software vendor task, ['NNP', 'VBG', 'RP', 'DT', 'NN', 'IN', 'DT', 'NN', 'NN', 'NN', 'NN', 'NN'], Setting up an\n",
      "assign Setting up an account with the email marketing software vendor design danger, ['NNP', 'VBG', 'RP', 'DT', 'NN', 'IN', 'DT', 'NN', 'NN', 'NN', 'NN', 'NN', 'NN'], Setting up an\n",
      "contriv Setting up an account with the email marketing software vendor task, ['NNP', 'VBG', 'RP', 'DT', 'NN', 'IN', 'DT', 'NN', 'NN', 'NN', 'NN', 'NN'], Setting up an\n",
      "conclus with Setting up an account with the email marketing software vendor task, ['NNP', 'IN', 'VBG', 'RP', 'DT', 'NN', 'IN', 'DT', 'NN', 'NN', 'NN', 'NN', 'NN'], with Setting up an\n",
      "assign Setting up an account with the email marketing software vendor project realiz, ['NNP', 'VBG', 'RP', 'DT', 'NN', 'IN', 'DT', 'NN', 'NN', 'NN', 'NN', 'NN', 'NN'], Setting up an\n",
      "assign Setting up an account with the email marketing software vendor throw at risk, ['NNP', 'VBG', 'RP', 'DT', 'NN', 'IN', 'DT', 'NN', 'NN', 'NN', 'NN', 'VBP', 'IN', 'NN'], Setting up an\n",
      "assign Setting up an account with the email marketing software vendor task in progress, ['NNP', 'VBG', 'RP', 'DT', 'NN', 'IN', 'DT', 'NN', 'NN', 'NN', 'NN', 'NN', 'IN', 'NN'], Setting up an\n",
      "suffix Setting up an account with the email marketing software vendor project, ['NNP', 'VBG', 'RP', 'DT', 'NN', 'IN', 'DT', 'NN', 'NN', 'NN', 'NN', 'NN'], Setting up an\n",
      "assign Sending test copies of the email newsletter see danger, ['NNP', 'VBG', 'NN', 'NNS', 'IN', 'DT', 'NN', 'NN', 'VB', 'NN'], Sending test copies of the email newsletter see\n",
      "assign in refresh to Segmenting email newsletter lists task, ['NNP', 'IN', 'NN', 'IN', 'NNP', 'NN', 'NN', 'VBZ', 'NN'], in\n",
      "chore Reviewing email newsletter metrics is complet, ['NNP', 'NNP', 'NN', 'NN', 'NNS', 'VBZ', 'NN'], Reviewing email newsletter metrics is\n",
      "assign at hazard to Cleaning up the database (fixing typos, adding in new data) project, ['NNP', 'IN', 'NN', 'IN', 'VBG', 'RP', 'DT', 'NN', '-LRB-', 'VBG', 'NNS', ',', 'VBG', 'IN', 'JJ', 'NNS', '-RRB-', 'NN'], at\n",
      "examin Cleaning up the database (fixing typos, adding in new data) chore, ['NNP', 'NNP', 'RP', 'DT', 'NN', '-LRB-', 'VBG', 'NNS', ',', 'VBG', 'IN', 'JJ', 'NNS', '-RRB-', 'NN'], Cleaning up the database (fixing typos, adding in new data)\n",
      "assign project Developing video content on object, ['NNP', 'NN', 'VBG', 'NN', 'NN', 'IN', 'NN'], project Developing video\n",
      "assign Hiring a vendor to develop video content chore block, ['NNP', 'VBG', 'DT', 'NN', 'TO', 'VB', 'NN', 'NN', 'NN', 'NN'], Hiring a vendor to develop video content chore\n",
      "assign to task Hiring a vendor to develop video content in follow-up, ['NNP', 'IN', 'NN', 'VBG', 'DT', 'NN', 'TO', 'VB', 'NN', 'NN', 'IN', 'NN', 'HYPH', 'NN'], to task Hiring a vendor to develop video\n",
      "assign to Hiring a vendor to develop video content chore in review, ['NNP', 'IN', 'VBG', 'DT', 'NN', 'TO', 'VB', 'NN', 'NN', 'NN', 'IN', 'NN'], to Hiring a vendor to develop video content\n",
      "assign Writing video scripts project block, ['NNP', 'NNP', 'NN', 'NNS', 'NN', 'NN'], Writing video scripts project\n",
      "assign Develop keyword lists for tagging videos on target, ['NNP', 'NNP', 'NN', 'NNS', 'IN', 'VBG', 'NNS', 'IN', 'NN'], Develop keyword lists for tagging videos on\n",
      "ascrib project Develop keyword lists for tagging videos complet, ['NNP', 'NN', 'NNP', 'NN', 'NNS', 'IN', 'VBG', 'NNS', 'NN'], project Develop keyword lists for tagging videos\n",
      "ascrib complet task to Develop keyword lists for tagging videos task, ['NNP', 'NNP', 'NN', 'IN', 'VB', 'NN', 'NNS', 'IN', 'VBG', 'NNS', 'NN'], complet\n",
      "assign task Writing video descriptions in review, ['NNP', 'NN', 'VBG', 'NN', 'NNS', 'IN', 'NN'], task Writing video descriptions in\n",
      "assign complet task to Writing video descriptions task, ['NNP', 'NN', 'NN', 'IN', 'VBG', 'NN', 'NNS', 'NN'], complet\n",
      "gener Publishing video to YouTube tax, ['NNP', 'NNP', 'NN', 'IN', 'NNP', 'NN'], Publishing\n",
      "initi Publishing video to YouTube project, ['NNP', 'NNP', 'NN', 'IN', 'NNP', 'NN'], Publishing\n",
      "gener Publishing video to YouTube task, ['NNP', 'NNP', 'NN', 'IN', 'NNP', 'NN'], Publishing\n",
      "project Publishing video to YouTube complet, ['NNP', 'NNP', 'NN', 'IN', 'NNP', 'NN'], Publishing\n",
      "project Publishing video to YouTube wa game on track, ['NNP', 'NNP', 'NN', 'IN', 'NNP', 'NNP', 'NN', 'IN', 'NN'], Publishing\n",
      "cast Publishing video to YouTube is finish, ['NNP', 'NNP', 'NN', 'IN', 'NNP', 'VBZ', 'NN'], Publishing\n",
      "design Publishing video to YouTube project on target, ['NNP', 'NNP', 'NN', 'IN', 'NNP', 'NN', 'IN', 'NN'], Publishing\n",
      "assign to task Publishing video to YouTube in progress, ['NNP', 'IN', 'NN', 'NNP', 'NN', 'IN', 'NNP', 'IN', 'NN'], to task Publishing\n",
      "project Publishing video to company website is cook, ['NNP', 'NNP', 'NN', 'IN', 'NN', 'NN', 'VBZ', 'NN'], Publishing\n",
      "creat Publishing video to company website project, ['NNP', 'NNP', 'NN', 'IN', 'NN', 'NN', 'NN'], Publishing\n",
      "stationari Publishing video to company website task, ['NNP', 'NNP', 'NN', 'IN', 'NN', 'NN', 'NN'], Publishing\n",
      "assign Publishing video to company website project in review, ['NNP', 'NNP', 'NN', 'IN', 'NN', 'NN', 'NN', 'IN', 'NN'], Publishing\n",
      "end Publishing video to company website job, ['NNP', 'NNP', 'NN', 'IN', 'NN', 'NN', 'NN'], Publishing\n",
      "design Publishing video to company website task under review, ['NNP', 'NNP', 'NN', 'IN', 'NN', 'NN', 'NN', 'IN', 'NN'], Publishing\n",
      "assign project Publishing video to company website risk, ['NNP', 'NN', 'NNP', 'NN', 'IN', 'NN', 'NN', 'NN'], project Publishing\n",
      "project Publishing video to company website risk, ['NNP', 'NNP', 'NN', 'IN', 'NN', 'NN', 'NN'], Publishing\n",
      "end Publishing video to company website labor, ['NNP', 'NNP', 'NN', 'IN', 'NN', 'NN', 'NN'], Publishing\n",
      "chore Writing ad copy in review, ['NNP', 'NNP', 'NN', 'NN', 'IN', 'NN'], Writing ad\n",
      "assign project Designing ad units block, ['NNP', 'NN', 'NNP', 'NN', 'NNS', 'NN'], project Designing ad units\n",
      "ascrib block to Monitoring Facebook Ad campaigns task, ['NNP', 'NN', 'IN', 'NNP', 'NNP', 'NNP', 'NNS', 'NN'], \n",
      "assign Monitoring Facebook Ad campaigns project on target, ['NNP', 'NNP', 'NNP', 'NNP', 'NNS', 'VBP', 'IN', 'NN'], Monitoring Facebook Ad campaigns project on\n",
      "assign Researching affiliate programs labor complet, ['NNP', 'NNP', 'NN', 'NNS', 'NN', 'NN'], Researching affiliate programs labor\n",
      "deleg Researching affiliate programs task complet, ['NNP', 'VBG', 'NN', 'NNS', 'NN', 'NN'], Researching affiliate programs task\n",
      "assign Researching affiliate programs in review, ['NNP', 'NNP', 'NN', 'NNS', 'IN', 'NN'], Researching affiliate programs in\n",
      "assign project Running ad campaigns in Google AdWords at chanc, ['NNP', 'NN', 'VBG', 'NN', 'NNS', 'IN', 'NNP', 'NNP', 'IN', 'NN'], project Running ad campaigns in Google AdWords at\n",
      "assign in review to Running ad campaigns in Google AdWords task, ['NNP', 'IN', 'NN', 'IN', 'VBG', 'NN', 'NNS', 'IN', 'NNP', 'NNP', 'NN'], in\n",
      "assign Running ads on LinkedIn to promote the business project danger, ['NNP', 'VBG', 'NNS', 'IN', 'NNP', 'TO', 'VB', 'DT', 'NN', 'NN', 'NN'], Running ads on LinkedIn to promote the business project\n",
      "assign realiz to Running ads on LinkedIn to promote the business project, ['NNP', 'NN', 'IN', 'VBG', 'NNS', 'IN', 'NNP', 'TO', 'VB', 'DT', 'NN', 'NN'], \n"
     ]
    },
    {
     "name": "stdout",
     "output_type": "stream",
     "text": [
      "emerg with Running ads on LinkedIn to promote the business project, ['NNP', 'IN', 'JJ', 'NNS', 'IN', 'NNP', 'TO', 'VB', 'DT', 'NN', 'NN'], with Running ads on LinkedIn to promote the business\n",
      "assign Running ads on LinkedIn to promote the business project complet, ['NNP', 'VBG', 'NNS', 'IN', 'NNP', 'TO', 'VB', 'DT', 'NN', 'NN', 'NN'], Running ads on LinkedIn to promote the business project\n",
      "assign in build up to Running estimates of audience size for Facebook ads task, ['NNP', 'IN', 'NN', 'RP', 'IN', 'NN', 'NNS', 'IN', 'NN', 'NN', 'IN', 'NNP', 'NNS', 'NN'], in build up to Running estimates of audience\n",
      "assign in progress to Running estimates of audience size for Facebook ads job, ['NNP', 'IN', 'NN', 'IN', 'NN', 'NNS', 'IN', 'NN', 'NN', 'IN', 'NNP', 'NNS', 'NN'], in\n",
      "specul Running estimates of audience size for Facebook ads project, ['NNP', 'NNP', 'NNS', 'IN', 'NN', 'NN', 'IN', 'NNP', 'NNS', 'NN'], Running estimates of audience\n",
      "attribut Buying ad space on specific or niche sites task in progress, ['NNP', 'VBG', 'NN', 'NN', 'IN', 'JJ', 'CC', 'NN', 'NNS', 'NN', 'IN', 'NN'], Buying ad\n",
      "assign project Buying ad space on specific or niche sites complet, ['NNP', 'NN', 'VBG', 'NN', 'NN', 'IN', 'JJ', 'CC', 'NN', 'NNS', 'NN'], project Buying ad\n",
      "thorough Buying ad space on specific or niche sites task, ['NNP', 'NNP', 'NN', 'NN', 'IN', 'JJ', 'CC', 'NN', 'NNS', 'NN'], Buying ad\n",
      "conclud Buying ad space on specific or niche sites labor, ['NNP', 'VBG', 'NN', 'NN', 'IN', 'JJ', 'CC', 'NN', 'NNS', 'NN'], Buying ad\n",
      "ascrib Buying ad space on specific or niche sites task in progress, ['NNP', 'VBG', 'NN', 'NN', 'IN', 'JJ', 'CC', 'NN', 'NNS', 'NN', 'IN', 'NN'], Buying ad\n",
      "fix Buying ad space on specific or niche sites task, ['NNP', 'NNP', 'NN', 'NN', 'IN', 'JJ', 'CC', 'NN', 'NNS', 'NN'], Buying ad\n",
      "ascrib Commenting on articles or blog posts online task block, ['NNP', 'VBG', 'IN', 'NNS', 'CC', 'NN', 'NNS', 'JJ', 'NN', 'NN'], Commenting on articles or blog posts online task\n",
      "assign Documenting online media placements in survey, ['NNP', 'NNP', 'JJ', 'NNS', 'NNS', 'IN', 'NN'], Documenting online media placements in\n",
      "assign throw Documenting online media placements on target, ['NNP', 'NN', 'NNP', 'JJ', 'NNS', 'NNS', 'IN', 'NN'], throw Documenting online media placements on\n",
      "assign plan Pitching bloggers to review a product complet, ['NNP', 'NN', 'VBG', 'NNS', 'TO', 'VB', 'DT', 'NN', 'NN'], plan Pitching bloggers to review a product\n",
      "labor Pitching bloggers to review a product is block, ['NNP', 'NNP', 'NNS', 'TO', 'VB', 'DT', 'NN', 'VBZ', 'NN'], Pitching bloggers to review a product is\n",
      "assign in advanc to Writing press releases task, ['NNP', 'IN', 'NN', 'IN', 'VBG', 'NN', 'NNS', 'NN'], in\n",
      "assign on place to Writing press releases project, ['NNP', 'IN', 'NN', 'IN', 'VBG', 'NN', 'NNS', 'NN'], on\n",
      "assign complet task to Submitting press releases thru online wire services task, ['NNP', 'NN', 'NN', 'IN', 'VBG', 'NN', 'NNS', 'IN', 'JJ', 'NN', 'NNS', 'NN'], complet\n",
      "assign chore Submitting press releases thru online wire services block, ['NNP', 'NN', 'VBG', 'NN', 'NNS', 'IN', 'JJ', 'NN', 'NNS', 'NN'], chore Submitting press releases thru online wire services\n",
      "assign in critiqu to Sending out product samples task, ['NNP', 'IN', 'NNP', 'IN', 'VBG', 'RP', 'NN', 'NNS', 'NN'], in critiqu to Sending out product samples\n",
      "assign to task Sending out product samples in refresh, ['NNP', 'IN', 'NN', 'VBG', 'RP', 'NN', 'NNS', 'IN', 'NN'], to task Sending out product samples in\n",
      "assign Sending out product samples plan complet, ['NNP', 'VBG', 'RP', 'NN', 'NNS', 'VBP', 'NN'], Sending out product samples plan\n",
      "protrus on Searching forums for influencers task, ['NNP', 'IN', 'VBG', 'NNS', 'IN', 'NNS', 'NN'], on Searching forums for influencers\n",
      "assign consumm task to Reviewing forums for consumer feedback task, ['NNP', 'NNP', 'NN', 'IN', 'NN', 'NNS', 'IN', 'NN', 'NN', 'NN'], consumm\n",
      "assign in progress to Reviewing forums for consumer feedback chore, ['NNP', 'IN', 'NN', 'IN', 'NN', 'NNS', 'IN', 'NN', 'NN', 'NN'], in\n",
      "assign task Reviewing forums for consumer feedback under recap, ['NNP', 'NN', 'NNP', 'NNS', 'IN', 'NN', 'NN', 'IN', 'NN'], task Reviewing forums for consumer\n",
      "assign design Reviewing forums for consumer feedback risk, ['NNP', 'NN', 'NNP', 'NNS', 'IN', 'NN', 'NN', 'NN'], design Reviewing forums for consumer feedback\n",
      "assign Designing web graphics in build, ['NNP', 'NNP', 'NN', 'NNS', 'IN', 'NN'], Designing web graphics in\n",
      "attribut Designing web graphics in review, ['NNP', 'NNP', 'NN', 'NNS', 'IN', 'NN'], Designing web graphics in\n",
      "project Editing web copy is on target, ['NNP', 'NNP', 'NN', 'NN', 'VBZ', 'IN', 'NN'], Editing web copy is on\n",
      "deleg Editing web copy project complet, ['NNP', 'NNP', 'NN', 'NN', 'NN', 'NN'], Editing web copy project\n",
      "project Editing web copy wa delay, ['NNP', 'NNP', 'NN', 'NN', 'NNP', 'NN'], Editing web copy wa\n",
      "assign to task Editing web copy in build, ['NNP', 'IN', 'NN', 'NNP', 'NN', 'VBP', 'IN', 'NN'], to task Editing web copy in\n",
      "assign Editing web copy in refresh, ['NNP', 'NNP', 'NN', 'NN', 'IN', 'NN'], Editing web\n",
      "attribut project Editing web copy at risk, ['NNP', 'NNP', 'NNP', 'NN', 'NN', 'IN', 'NN'], project Editing web\n",
      "assign task Fixing broken links on the company website under follow-up, ['NNP', 'NN', 'VBG', 'JJ', 'NNS', 'IN', 'DT', 'NN', 'NN', 'IN', 'NN', 'HYPH', 'NN'], task Fixing broken links on the company\n",
      "assign to Fixing broken links on the company website tax in progress, ['NNP', 'IN', 'VBG', 'JJ', 'NNS', 'IN', 'DT', 'NN', 'NN', 'NN', 'IN', 'NN'], to Fixing broken links on the company website\n",
      "assign task Installing tracking codes on the company website complet, ['NNP', 'NN', 'VBG', 'NN', 'NNS', 'IN', 'DT', 'NN', 'NN', 'NN'], task Installing tracking codes on the company website\n",
      "deleg project Installing tracking codes on the company website on target, ['NNP', 'NN', 'VBG', 'NN', 'NNS', 'IN', 'DT', 'NN', 'NN', 'IN', 'NN'], project Installing tracking codes on the company\n",
      "assign project Installing tracking codes on the company website on place, ['NNP', 'NN', 'VBG', 'NN', 'NNS', 'IN', 'DT', 'NN', 'NN', 'IN', 'NN'], project Installing tracking codes on the company\n",
      "project Publishing blog posts wa in hazard, ['NNP', 'NNP', 'NN', 'NNS', 'VBP', 'IN', 'NN'], Publishing blog posts wa in\n",
      "ascrib Publishing blog posts in review, ['NNP', 'NNP', 'NN', 'NNS', 'IN', 'NN'], Publishing blog posts in\n",
      "assign to Publishing blog posts tax in review, ['NNP', 'IN', 'NNP', 'NN', 'NNS', 'NN', 'IN', 'NN'], to Publishing blog posts\n",
      "ascrib Publishing blog posts project complet, ['NNP', 'NNP', 'NN', 'NNS', 'NN', 'NN'], Publishing blog posts project\n",
      "assign in progress to Renewing domains and hosting plans task, ['NNP', 'IN', 'NN', 'IN', 'VBG', 'NNS', 'CC', 'VBG', 'NNS', 'NN'], in\n",
      "assign Renewing domains and hosting plans project accomplish, ['NNP', 'VBG', 'NNS', 'CC', 'VBG', 'NNS', 'NN', 'NN'], Renewing domains and hosting plans project\n",
      "alloc of realiz Renewing domains and hosting plans task, ['NNP', 'IN', 'NN', 'VBG', 'NNS', 'CC', 'VBG', 'NNS', 'NN'], of realiz Renewing domains and hosting plans\n",
      "assign cast Sourcing images to accompany blog posts and status updates complet, ['NNP', 'VBD', 'NNP', 'NNS', 'TO', 'VB', 'NN', 'NNS', 'CC', 'NN', 'VBZ', 'NN'], cast Sourcing images to accompany blog posts and status updates\n",
      "assign Developing customer service plans cast at risk, ['NNP', 'VBG', 'NN', 'NN', 'NNS', 'VBN', 'IN', 'NN'], Developing customer service plans cast at\n",
      "assign to a complet Developing customer service plans plan, ['NNP', 'IN', 'DT', 'JJ', 'VBG', 'NN', 'NN', 'NNS', 'NN'], to a complet Developing customer service plans\n",
      "chore Responding to customers questions or concerns on social media wa finish, ['NNP', 'VBG', 'IN', 'NNS', 'NNS', 'CC', 'NNS', 'IN', 'JJ', 'NNS', 'NN', 'NN'], Responding to customers questions or concerns on social media wa\n",
      "assign task Responding to customers questions or concerns on social media accomplish, ['NNP', 'NN', 'VBG', 'IN', 'NNS', 'NNS', 'CC', 'NNS', 'IN', 'JJ', 'NNS', 'NN'], task Responding to customers questions or concerns on social media\n",
      "assign on object to Responding to customers questions or concerns on social media project, ['NNP', 'IN', 'NN', 'IN', 'VBG', 'IN', 'NNS', 'NNS', 'CC', 'NNS', 'IN', 'JJ', 'NNS', 'NN'], on\n",
      "assign realiz task to Responding to customers questions or concerns on social media task, ['NNP', 'NN', 'NN', 'IN', 'VBG', 'IN', 'NNS', 'NNS', 'CC', 'NNS', 'IN', 'JJ', 'NNS', 'NN'], realiz\n",
      "attribut Responding to customers questions or concerns on social media at risk, ['NNP', 'VBG', 'IN', 'NNS', 'NNS', 'CC', 'NNS', 'IN', 'JJ', 'NNS', 'IN', 'NN'], Responding to customers questions or concerns on social media at\n",
      "assign at risk to Responding to customers questions or concerns on social media plan, ['NNP', 'IN', 'NN', 'IN', 'VBG', 'IN', 'NNS', 'NNS', 'CC', 'NNS', 'IN', 'JJ', 'NNS', 'NN'], at\n",
      "chore Getting content approved by key stakeholders is under review, ['NNP', 'VBG', 'NN', 'VBN', 'IN', 'JJ', 'NNS', 'VBZ', 'IN', 'NN'], Getting content approved by key stakeholders is under\n"
     ]
    },
    {
     "name": "stdout",
     "output_type": "stream",
     "text": [
      "assign to project Getting content approved by key stakeholders in review, ['NNP', 'TO', 'VB', 'VBG', 'NN', 'VBN', 'IN', 'JJ', 'NNS', 'IN', 'NN'], to project Getting content approved by key stakeholders in\n",
      "assign see Getting content approved by key stakeholders at risk, ['NNP', 'UH', 'VBG', 'NN', 'VBN', 'IN', 'JJ', 'NNS', 'IN', 'NN'], see Getting content approved by key stakeholders at\n",
      "cast project Getting content approved by key stakeholders at risk, ['NNP', 'NN', 'VBG', 'NN', 'VBN', 'IN', 'JJ', 'NNS', 'IN', 'NN'], project Getting content approved by key stakeholders at\n",
      "ascrib task Getting content approved by key stakeholders under review, ['NNP', 'NN', 'VBG', 'NN', 'VBN', 'IN', 'JJ', 'NNS', 'IN', 'NN'], task Getting content approved by key stakeholders under\n",
      "examin Posting jobs or RFPs online to recruit staff or vendors project, ['NNP', 'NNP', 'NNS', 'CC', 'NNS', 'RB', 'TO', 'VB', 'NN', 'CC', 'NNS', 'NN'], Posting jobs or RFPs online to recruit staff or vendors\n",
      "fillet Posting jobs or RFPs online to recruit staff or vendors project, ['NNP', 'VBG', 'NNS', 'CC', 'NNS', 'RB', 'TO', 'VB', 'NN', 'CC', 'NNS', 'NN'], Posting jobs or RFPs online to recruit staff or vendors\n",
      "analyz Posting jobs or RFPs online to recruit staff or vendors task, ['NNP', 'NNP', 'NNS', 'CC', 'NNS', 'RB', 'TO', 'VB', 'NN', 'CC', 'NNS', 'NN'], Posting jobs or RFPs online to recruit staff or vendors\n",
      "ascrib block task to Giving presentations on your work task, ['NNP', 'NNP', 'NN', 'IN', 'VBG', 'NNS', 'IN', 'PRP$', 'NN', 'NN'], block\n",
      "assign labor Giving presentations on your work complet, ['NNP', 'NN', 'VBG', 'NNS', 'IN', 'PRP$', 'NN', 'NN'], labor Giving presentations on your work\n",
      "deleg block to Formatting documents (Excel, Powerpoint, Word) task, ['NNP', 'NN', 'IN', 'VBG', 'NNS', '-LRB-', 'NNP', ',', 'NNP', ',', 'NNP', '-RRB-', 'NN'], \n",
      "assign Writing case studies of projects or clients project consumm, ['NNP', 'NNP', 'NN', 'NNS', 'IN', 'NNS', 'CC', 'NNS', 'NN', 'NN'], Writing case studies of projects or clients project\n",
      "assign Writing case studies of projects or clients tax complet, ['NNP', 'NNP', 'NN', 'NNS', 'IN', 'NNS', 'CC', 'NNS', 'NN', 'NN'], Writing case studies of projects or clients tax\n",
      "assign project Writing case studies of projects or clients in review, ['NNP', 'NN', 'NNP', 'NN', 'NNS', 'IN', 'NNS', 'CC', 'NNS', 'IN', 'NN'], project Writing case studies of projects or clients in\n",
      "block Writing case studies of projects or clients tax assign, ['NNP', 'NNP', 'NN', 'NNS', 'IN', 'NNS', 'CC', 'NNS', 'NN', 'NN'], Writing case studies of projects or clients tax\n",
      "assign to a consumm Writing case studies of projects or clients project, ['NNP', 'IN', 'DT', 'NN', 'NN', 'NN', 'NNS', 'IN', 'NNS', 'CC', 'NNS', 'NN'], to a consumm Writing case studies of projects or clients\n",
      "attribut Writing case studies of projects or clients task block, ['NNP', 'VBG', 'NN', 'NNS', 'IN', 'NNS', 'CC', 'NNS', 'NN', 'NN'], Writing case studies of projects or clients task\n",
      "assign in progress to Writing case studies of projects or clients task, ['NNP', 'IN', 'NN', 'IN', 'NNP', 'NN', 'NNS', 'IN', 'NNS', 'CC', 'NNS', 'NN'], in\n",
      "chore Updating editorial calendars in progress, ['NNP', 'NNP', 'JJ', 'NNS', 'IN', 'NN'], Updating editorial calendars in\n",
      "assign cast Updating editorial calendars at risk, ['NNP', 'NNP', 'VBG', 'JJ', 'NNS', 'IN', 'NN'], cast Updating editorial calendars at\n",
      "assign accomplish task to Updating editorial calendars task, ['NNP', 'JJ', 'NN', 'IN', 'VBG', 'JJ', 'NNS', 'NN'], accomplish\n",
      "assign Updating editorial calendars chore complet, ['NNP', 'NNP', 'JJ', 'NNP', 'NN', 'NN'], Updating editorial calendars chore\n",
      "assign at chanc to Training staff on social media involvement project, ['NNP', 'IN', 'NN', 'IN', 'NNP', 'NN', 'IN', 'JJ', 'NNS', 'NN', 'NN'], at\n",
      "conclud Training staff on social media involvement design, ['NNP', 'NNP', 'NN', 'IN', 'JJ', 'NNS', 'NN', 'NN'], Training\n",
      "programm Training staff on social media involvement project, ['NNP', 'NNP', 'NN', 'IN', 'JJ', 'NNS', 'NN', 'NN'], Training\n",
      "deleg Training staff on social media involvement project on target, ['NNP', 'NNP', 'NN', 'IN', 'JJ', 'NNS', 'NN', 'NN', 'IN', 'NN'], Training\n",
      "assign Training staff on social media involvement in progress, ['NNP', 'NNP', 'NN', 'IN', 'JJ', 'NNS', 'NN', 'IN', 'NN'], Training\n",
      "chore Training staff on social media involvement wa complet, ['NNP', 'NNP', 'NN', 'IN', 'JJ', 'NNS', 'NN', 'NN', 'NN'], Training\n",
      "complet Training staff on social media involvement throw, ['NNP', 'NNP', 'NN', 'IN', 'JJ', 'NNS', 'NN', 'NN'], Training\n",
      "labor Training staff on social media involvement is in progress, ['NNP', 'NNP', 'NN', 'IN', 'JJ', 'NNS', 'NN', 'VBZ', 'IN', 'NN'], Training\n",
      "assign realiz to Speaking at industry conferences or meetings task, ['NNP', 'NN', 'IN', 'VBG', 'IN', 'NN', 'NNS', 'CC', 'NNS', 'NN'], \n",
      "assign Speaking at industry conferences or meetings cast on target, ['NNP', 'VBG', 'IN', 'NN', 'NNS', 'CC', 'NNS', 'VBN', 'IN', 'NN'], Speaking at industry conferences or meetings cast on\n",
      "assign throw Speaking at industry conferences or meetings danger, ['NNP', 'NN', 'VBG', 'IN', 'NN', 'NNS', 'CC', 'NNS', 'NN'], throw Speaking at industry conferences or meetings\n",
      "assign Speaking at industry conferences or meetings task obstruct, ['NNP', 'VBG', 'IN', 'NN', 'NNS', 'CC', 'NNS', 'NN', 'NN'], Speaking at industry conferences or meetings task\n",
      "mark over Speaking at industry conferences or meetings task, ['NNP', 'IN', 'VBG', 'IN', 'NN', 'NNS', 'CC', 'NNS', 'NN'], over Speaking at industry conferences or meetings\n",
      "assign in recap to Sitting through many demos of marketing tools & dashboards task, ['NNP', 'IN', 'NN', 'IN', 'VBG', 'IN', 'JJ', 'NNS', 'IN', 'NN', 'NNS', 'CC', 'NNS', 'NN'], in\n",
      "ascrib complet to Setting up Google Alerts on key companies, people or products task, ['NNP', 'NN', 'IN', 'VBG', 'RP', 'NNP', 'NNPS', 'IN', 'JJ', 'NNS', ',', 'NNS', 'CC', 'NNS', 'NN'], \n",
      "assign Sending thank you notes or emails to customers at hazard, ['NNP', 'NNP', 'VBP', 'PRP', 'NNS', 'CC', 'NNS', 'IN', 'NNS', 'IN', 'NN'], Sending thank you notes or emails to customers at\n",
      "ascrib Sending thank you notes or emails to customers on target, ['NNP', 'VBG', 'VBP', 'PRP', 'NNS', 'CC', 'NNS', 'IN', 'NNS', 'IN', 'NN'], Sending thank you notes or emails to customers on\n",
      "attribut project Reviewing metrics, metrics, metrics danger, ['NNP', 'NN', 'NNP', 'NNS', ',', 'NNS', ',', 'NNS', 'NN'], project Reviewing metrics, metrics, metrics\n",
      "assign Reviewing metrics, metrics, metrics on point, ['NNP', 'NNP', 'NNS', ',', 'NNS', ',', 'NNS', 'IN', 'NN'], Reviewing metrics, metrics, metrics on\n",
      "assign plan Reviewing metrics, metrics, metrics risk, ['NNP', 'NN', 'NNP', 'NNS', ',', 'NNS', ',', 'NNS', 'NN'], plan Reviewing metrics, metrics, metrics\n",
      "assign task Reviewing metrics, metrics, metrics out of use, ['NNP', 'NN', 'NNP', 'NNS', ',', 'NNS', ',', 'NNS', 'IN', 'IN', 'NN'], task Reviewing metrics, metrics, metrics out of\n",
      "chore Reviewing reports with clients is block, ['NNP', 'NNP', 'VBZ', 'IN', 'NNS', 'VBZ', 'NN'], Reviewing reports with clients is\n",
      "assign Researching the latest digital marketing trends & tools cast danger, ['NNP', 'VBG', 'DT', 'JJS', 'JJ', 'NN', 'NNS', 'CC', 'NNS', 'VBD', 'NN'], Researching the latest digital marketing trends & tools cast\n",
      "consumm Developing keyword lists project, ['NNP', 'NNP', 'NN', 'VBZ', 'NN'], Developing keyword lists\n",
      "alloc of complet Developing keyword lists task, ['NNP', 'IN', 'NN', 'NNP', 'NN', 'NNS', 'NN'], of complet Developing keyword lists\n",
      "assign design Developing keyword lists danger, ['NNP', 'NN', 'NNP', 'NN', 'NNS', 'NN'], design Developing keyword lists\n",
      "inessenti Developing keyword lists project, ['NNP', 'NNP', 'NN', 'VBZ', 'NN'], Developing keyword lists\n",
      "assign in follow-up to Appropriately naming images on the company website task, ['NNP', 'IN', 'NN', 'HYPH', 'NN', 'IN', 'RB', 'VBG', 'NNS', 'IN', 'DT', 'NN', 'NN', 'NN'], in follow-\n",
      "assign Appropriately naming images on the company website at risk, ['NNP', 'RB', 'VBG', 'NNS', 'IN', 'DT', 'NN', 'NN', 'IN', 'NN'], Appropriately naming images on the company\n",
      "assign to Choosing anchor text for backlinks in survey, ['NNP', 'IN', 'VBG', 'NN', 'NN', 'IN', 'NNS', 'IN', 'NN'], to Choosing anchor\n",
      "project Choosing anchor text for backlinks wa in risk, ['NNP', 'VBG', 'NN', 'NN', 'IN', 'NNS', 'VBP', 'IN', 'NN'], Choosing anchor\n"
     ]
    },
    {
     "name": "stdout",
     "output_type": "stream",
     "text": [
      "assign in advanc to Choosing anchor text for backlinks task, ['NNP', 'IN', 'NN', 'IN', 'VBG', 'NN', 'NN', 'IN', 'NNS', 'NN'], in\n",
      "complet Choosing anchor text for backlinks task, ['NNP', 'VBG', 'NN', 'NN', 'IN', 'NNS', 'NN'], Choosing anchor\n",
      "project Choosing anchor text for backlinks is end, ['NNP', 'VBG', 'NN', 'NN', 'IN', 'NNS', 'VBZ', 'NN'], Choosing anchor\n",
      "complet Choosing anchor text for backlinks labor, ['NNP', 'VBG', 'NN', 'NN', 'IN', 'NNP', 'NN'], Choosing anchor\n",
      "chequer over Distributing articles to article submission websites task, ['NNP', 'IN', 'VBG', 'NNS', 'IN', 'NN', 'NN', 'NNS', 'NN'], over Distributing articles to article submission websites\n",
      "assign task Distributing articles to article submission websites in survey, ['NNP', 'NN', 'VBG', 'NNS', 'IN', 'NN', 'NN', 'NNS', 'IN', 'NN'], task Distributing articles to article submission websites in\n",
      "project Distributing articles to article submission websites is stake on track, ['NNP', 'VBG', 'NNS', 'IN', 'NN', 'NN', 'NNS', 'VBZ', 'NN', 'IN', 'NN'], Distributing articles to article submission websites is\n",
      "assign Distributing articles to article submission websites see on target, ['NNP', 'VBG', 'NNS', 'IN', 'NN', 'NN', 'NNS', 'VBP', 'IN', 'NN'], Distributing articles to article submission websites see on\n",
      "paus Listing the company in online local business directories project, ['NNP', 'VBG', 'DT', 'NN', 'IN', 'JJ', 'JJ', 'NN', 'NNS', 'NN'], Listing the\n",
      "ascrib project Listing the company in online local business directories at risk, ['NNP', 'NNP', 'VBG', 'DT', 'NN', 'IN', 'JJ', 'JJ', 'NN', 'NNS', 'IN', 'NN'], project Listing the\n",
      "finish Listing the company in online local business directories project, ['NNP', 'VBG', 'DT', 'NN', 'IN', 'JJ', 'JJ', 'NN', 'NNS', 'NN'], Listing the\n",
      "assign block task to Listing the company website in niche directories task, ['NNP', 'NN', 'NN', 'IN', 'VBG', 'DT', 'NN', 'NN', 'IN', 'NN', 'NNS', 'NN'], block\n",
      "deleg Listing the company website in niche directories danger, ['NNP', 'VBG', 'DT', 'NN', 'NN', 'IN', 'NN', 'NNS', 'NN'], Listing the company\n",
      "labor Listing the company website in niche directories is finish, ['NNP', 'VBG', 'DT', 'NN', 'NN', 'IN', 'NN', 'NNS', 'VBZ', 'NN'], Listing the company\n",
      "assign to Listing the company website in niche directories in refresh, ['NNP', 'IN', 'VBG', 'DT', 'NN', 'NN', 'IN', 'NN', 'NNS', 'IN', 'NN'], to Listing the company\n",
      "gener Listing the company website in niche directories design, ['NNP', 'VBG', 'DT', 'NN', 'NN', 'IN', 'NN', 'NNS', 'NN'], Listing the company\n",
      "assign labor Managing relationships with the major search engines in review, ['NNP', 'NN', 'VBG', 'NNS', 'IN', 'DT', 'JJ', 'NN', 'NNS', 'IN', 'NN'], labor Managing relationships with the major search engines in\n",
      "block Managing relationships with the major search engines job assign, ['NNP', 'NNP', 'NNS', 'IN', 'DT', 'JJ', 'NN', 'NNS', 'NN', 'NN'], Managing relationships with the major search engines job\n",
      "assign to Managing relationships with the major search engines task in build, ['NNP', 'IN', 'VBG', 'NNS', 'IN', 'DT', 'JJ', 'NN', 'NNS', 'NN', 'IN', 'NN'], to Managing relationships with the major search engines\n",
      "assign on target to Pinging sites after new content has been published cast, ['NNP', 'IN', 'NN', 'IN', 'VBG', 'NNS', 'IN', 'JJ', 'NN', 'VBZ', 'VBN', 'VBN', 'NN'], on\n",
      "assign task Renaming files so they are optimized for search engines under refresh, ['NNP', 'NN', 'VBG', 'NNS', 'IN', 'PRP', 'VBP', 'VBN', 'IN', 'NN', 'NNS', 'IN', 'NN'], task Renaming files so they are optimized for search engines under\n",
      "assign Renaming files so they are optimized for search engines labor block, ['NNP', 'NNP', 'NNS', 'IN', 'PRP', 'VBP', 'VBN', 'IN', 'NN', 'NNS', 'NN', 'NN'], Renaming files so they are optimized for search engines labor\n",
      "assign task Renaming files so they are optimized for search engines in refresh, ['NNP', 'NN', 'VBG', 'NNS', 'IN', 'PRP', 'VBP', 'VBN', 'IN', 'NN', 'NNS', 'IN', 'NN'], task Renaming files so they are optimized for search engines in\n",
      "assign in review to Writing blog content based on a keyword strategy tax, ['NNP', 'IN', 'NN', 'IN', 'VBG', 'NN', 'NN', 'VBN', 'IN', 'DT', 'NN', 'NN', 'NN'], in\n",
      "cast Writing blog content based on a keyword strategy ha finish, ['NNP', 'VBG', 'NN', 'NN', 'VBN', 'IN', 'DT', 'NN', 'NN', 'UH', 'NN'], Writing blog content based on a keyword strategy ha\n",
      "assign cast Writing blog content based on a keyword strategy danger, ['NNP', 'NNP', 'NNP', 'NN', 'NN', 'VBN', 'IN', 'DT', 'NN', 'NN', 'NN'], cast Writing blog content based on a keyword strategy\n",
      "assign consumm to Writing article content to publish online project, ['NNP', 'NNP', 'IN', 'NN', 'NN', 'NN', 'TO', 'VB', 'JJ', 'NN'], consumm to Writing article content to publish online\n",
      "assign see Writing article content to publish online complet, ['NNP', 'VBP', 'NNP', 'NN', 'NN', 'TO', 'VB', 'JJ', 'NN'], see Writing article content to publish online\n",
      "block Writing article content to publish online project assign, ['NNP', 'NNP', 'NN', 'NN', 'TO', 'VB', 'JJ', 'NN', 'NN'], Writing article content to publish online project\n",
      "assign tax Writing article content to publish online in review, ['NNP', 'NN', 'NNP', 'NN', 'NN', 'TO', 'VB', 'RB', 'IN', 'NN'], tax Writing article content to publish online in\n",
      "assign in progress to Writing article content to publish online labor, ['NNP', 'IN', 'NN', 'IN', 'NN', 'NN', 'NN', 'TO', 'VB', 'JJ', 'NN'], in\n",
      "assign design Reviewing website backlinks on target, ['NNP', 'NN', 'NNP', 'NN', 'NNS', 'IN', 'NN'], design Reviewing website backlinks on\n",
      "---\n",
      "Rule accuracy:  0.4170542635658915\n"
     ]
    }
   ],
   "source": [
    "new_df = identifier_pos[(identifier_pos['First Tag'] == 'NNP') & (identifier_pos['Last Tag'] == 'NN')]\n",
    "count = 0\n",
    "print('Commands misclassified: ')\n",
    "print('---')\n",
    "for i in new_df.index.values:\n",
    "    text_command = new_df.loc[i][0]\n",
    "    identifier = new_df.loc[i][1]\n",
    "    predicted_identifier = IdentifierIdentifier(nlp, text_command)\n",
    "    if str(predicted_identifier) == identifier:\n",
    "        count += 1\n",
    "    else:\n",
    "        print(print_tags(nlp,text_command)[0] + ', '+str(print_tags(nlp,text_command)[1])+', ' + str(predicted_identifier))\n",
    "print('---')\n",
    "print('Rule accuracy: ', count/len(new_df.index.values)) "
   ]
  },
  {
   "cell_type": "markdown",
   "metadata": {},
   "source": [
    "## Generic Rule Generator (UNFINISHED)"
   ]
  },
  {
   "cell_type": "code",
   "execution_count": 42,
   "metadata": {
    "scrolled": false
   },
   "outputs": [
    {
     "data": {
      "text/plain": [
       "{'ID-NN': 1294,\n",
       " 'VB-NN': 739,\n",
       " 'NNP-NN': 645,\n",
       " 'NN-NN': 589,\n",
       " 'VB-ID': 576,\n",
       " 'NNP-ID': 560,\n",
       " 'NN-ID': 467,\n",
       " 'VB-VB': 189,\n",
       " 'ID-NNP': 188,\n",
       " 'JJ-ID': 145,\n",
       " 'JJ-NN': 115,\n",
       " 'IN-ID': 87,\n",
       " 'ID-VB': 87,\n",
       " 'NN-NNP': 82,\n",
       " 'NN-VBP': 70,\n",
       " 'ID-JJ': 69,\n",
       " 'VB-NNP': 61,\n",
       " 'NN-VB': 51,\n",
       " 'NNP-NNP': 49,\n",
       " 'ID-RB': 45,\n",
       " 'NNP-VBP': 45,\n",
       " 'NN-JJ': 41,\n",
       " 'IN-NN': 41,\n",
       " 'NNP-VB': 40,\n",
       " 'ID-VBN': 40,\n",
       " 'VBN-ID': 37,\n",
       " 'ID-VBP': 37,\n",
       " 'VBD-NN': 37,\n",
       " 'NN-VBN': 31,\n",
       " 'VB-VBP': 29,\n",
       " 'VBN-NN': 26,\n",
       " 'ID-NNS': 24,\n",
       " 'VBD-ID': 21,\n",
       " 'ID-IN': 18,\n",
       " 'NNS-ID': 15,\n",
       " 'NN-RB': 14,\n",
       " 'VB--RRB-': 13,\n",
       " 'NNP-VBN': 12,\n",
       " 'NN-NNS': 12,\n",
       " 'NNS-NN': 11,\n",
       " 'TO-ID': 11,\n",
       " 'PRP-ID': 11,\n",
       " 'CC-NN': 11,\n",
       " 'VBP-ID': 11,\n",
       " 'ID-RP': 11,\n",
       " 'VB-VBN': 10,\n",
       " 'NNP-JJ': 10,\n",
       " 'ID-DT': 10,\n",
       " 'NN-VBD': 10,\n",
       " 'VB-NNS': 9,\n",
       " 'RB-NN': 9,\n",
       " 'TO-NN': 9,\n",
       " 'JJ--RRB-': 9,\n",
       " 'NN--RRB-': 9,\n",
       " 'NN-IN': 8,\n",
       " 'VB-JJ': 8,\n",
       " 'NNP-.': 8,\n",
       " 'NNP--RRB-': 8,\n",
       " 'RB-ID': 7,\n",
       " 'NNP-RP': 7,\n",
       " 'ID-PRP': 7,\n",
       " 'CC-ID': 7,\n",
       " 'VB-VBD': 6,\n",
       " 'NN-DT': 6,\n",
       " 'VBZ-ID': 6,\n",
       " 'JJ-VBP': 5,\n",
       " 'VB-RP': 5,\n",
       " 'IN-VBP': 5,\n",
       " 'NN-RP': 5,\n",
       " 'JJ-NNP': 5,\n",
       " 'VBD-VBP': 4,\n",
       " 'JJ-VB': 4,\n",
       " 'NNP-VBD': 4,\n",
       " 'VBZ-NN': 4,\n",
       " 'VB-RB': 4,\n",
       " 'NNP-RB': 3,\n",
       " 'VB-DT': 3,\n",
       " 'DT-ID': 3,\n",
       " 'NNP-NNS': 3,\n",
       " 'VBD-NNP': 3,\n",
       " 'IN-NNP': 3,\n",
       " 'VBP-NN': 3,\n",
       " 'VB-.': 3,\n",
       " 'NN-XX': 2,\n",
       " 'NNP-IN': 2,\n",
       " 'VBN-NNP': 2,\n",
       " 'DT-NN': 2,\n",
       " 'NN-PRP': 2,\n",
       " 'NNP-DT': 2,\n",
       " 'ID-.': 2,\n",
       " 'VBD-VBN': 2,\n",
       " 'VBD-VB': 1,\n",
       " 'IN-VB': 1,\n",
       " 'ID-FW': 1,\n",
       " 'ID-VBG': 1,\n",
       " 'JJ-VBD': 1,\n",
       " 'LS-LS': 1,\n",
       " 'UH-VB': 1,\n",
       " 'VBN-.': 1,\n",
       " 'NN-.': 1,\n",
       " 'IN-VBN': 1,\n",
       " 'UH-ID': 1,\n",
       " 'TO-VB': 1,\n",
       " 'JJR-RB': 1,\n",
       " 'TO--RRB-': 1,\n",
       " 'VBZ--RRB-': 1,\n",
       " 'LS-NN': 1,\n",
       " 'NNP-PRP': 1,\n",
       " 'RBR-ID': 1,\n",
       " 'JJ-VBN': 1,\n",
       " 'JJ-JJ': 1,\n",
       " 'RB-VBN': 1,\n",
       " 'ID-JJR': 1,\n",
       " 'JJR-NN': 1,\n",
       " 'TO-VBP': 1}"
      ]
     },
     "execution_count": 42,
     "metadata": {},
     "output_type": "execute_result"
    }
   ],
   "source": [
    "first_last_combo_totals = dict()\n",
    "for key in first_last_combo_dict.keys():\n",
    "    first_last_combo_totals[key] = sum(first_last_combo_dict[key].values())\n",
    "#sorted dictionary of the text commands where the first and last words in the text command are nouns\n",
    "first_last_combo_totals = {k: v for k, v in sorted(first_last_combo_totals.items(), key=lambda item: item[1],reverse=True)}\n",
    "first_last_combo_totals"
   ]
  },
  {
   "cell_type": "code",
   "execution_count": 44,
   "metadata": {},
   "outputs": [
    {
     "data": {
      "image/png": "[encoded data removed]",
      "text/plain": [
       "<Figure size 1440x360 with 1 Axes>"
      ]
     },
     "metadata": {
      "needs_background": "light"
     },
     "output_type": "display_data"
    },
    {
     "data": {
      "image/png": "[encoded data removed]",
      "text/plain": [
       "<Figure size 1440x360 with 1 Axes>"
      ]
     },
     "metadata": {
      "needs_background": "light"
     },
     "output_type": "display_data"
    },
    {
     "data": {
      "image/png": "[encoded data removed]",
      "text/plain": [
       "<Figure size 1440x360 with 1 Axes>"
      ]
     },
     "metadata": {
      "needs_background": "light"
     },
     "output_type": "display_data"
    },
    {
     "data": {
      "image/png": "[encoded data removed]",
      "text/plain": [
       "<Figure size 1440x360 with 1 Axes>"
      ]
     },
     "metadata": {
      "needs_background": "light"
     },
     "output_type": "display_data"
    },
    {
     "data": {
      "image/png": "[encoded data removed]",
      "text/plain": [
       "<Figure size 1440x360 with 1 Axes>"
      ]
     },
     "metadata": {
      "needs_background": "light"
     },
     "output_type": "display_data"
    },
    {
     "data": {
      "image/png": "[encoded data removed]",
      "text/plain": [
       "<Figure size 1440x360 with 1 Axes>"
      ]
     },
     "metadata": {
      "needs_background": "light"
     },
     "output_type": "display_data"
    },
    {
     "data": {
      "image/png": "[encoded data removed]",
      "text/plain": [
       "<Figure size 1440x360 with 1 Axes>"
      ]
     },
     "metadata": {
      "needs_background": "light"
     },
     "output_type": "display_data"
    },
    {
     "data": {
      "image/png": "[encoded data removed]",
      "text/plain": [
       "<Figure size 1440x360 with 1 Axes>"
      ]
     },
     "metadata": {
      "needs_background": "light"
     },
     "output_type": "display_data"
    },
    {
     "data": {
      "image/png": "[encoded data removed]",
      "text/plain": [
       "<Figure size 1440x360 with 1 Axes>"
      ]
     },
     "metadata": {
      "needs_background": "light"
     },
     "output_type": "display_data"
    },
    {
     "data": {
      "image/png": "[encoded data removed]",
      "text/plain": [
       "<Figure size 1440x360 with 1 Axes>"
      ]
     },
     "metadata": {
      "needs_background": "light"
     },
     "output_type": "display_data"
    },
    {
     "data": {
      "image/png": "[encoded data removed]",
      "text/plain": [
       "<Figure size 1440x360 with 1 Axes>"
      ]
     },
     "metadata": {
      "needs_background": "light"
     },
     "output_type": "display_data"
    },
    {
     "data": {
      "image/png": "[encoded data removed]",
      "text/plain": [
       "<Figure size 1440x360 with 1 Axes>"
      ]
     },
     "metadata": {
      "needs_background": "light"
     },
     "output_type": "display_data"
    },
    {
     "data": {
      "image/png": "[encoded data removed]",
      "text/plain": [
       "<Figure size 1440x360 with 1 Axes>"
      ]
     },
     "metadata": {
      "needs_background": "light"
     },
     "output_type": "display_data"
    },
    {
     "data": {
      "image/png": "[encoded data removed]",
      "text/plain": [
       "<Figure size 1440x360 with 1 Axes>"
      ]
     },
     "metadata": {
      "needs_background": "light"
     },
     "output_type": "display_data"
    },
    {
     "data": {
      "image/png": "[encoded data removed]",
      "text/plain": [
       "<Figure size 1440x360 with 1 Axes>"
      ]
     },
     "metadata": {
      "needs_background": "light"
     },
     "output_type": "display_data"
    },
    {
     "data": {
      "image/png": "[encoded data removed]",
      "text/plain": [
       "<Figure size 1440x360 with 1 Axes>"
      ]
     },
     "metadata": {
      "needs_background": "light"
     },
     "output_type": "display_data"
    },
    {
     "data": {
      "image/png": "[encoded data removed]",
      "text/plain": [
       "<Figure size 1440x360 with 1 Axes>"
      ]
     },
     "metadata": {
      "needs_background": "light"
     },
     "output_type": "display_data"
    },
    {
     "data": {
      "image/png": "[encoded data removed]",
      "text/plain": [
       "<Figure size 1440x360 with 1 Axes>"
      ]
     },
     "metadata": {
      "needs_background": "light"
     },
     "output_type": "display_data"
    },
    {
     "data": {
      "image/png": "[encoded data removed]",
      "text/plain": [
       "<Figure size 1440x360 with 1 Axes>"
      ]
     },
     "metadata": {
      "needs_background": "light"
     },
     "output_type": "display_data"
    },
    {
     "data": {
      "image/png": "[encoded data removed]",
      "text/plain": [
       "<Figure size 1440x360 with 1 Axes>"
      ]
     },
     "metadata": {
      "needs_background": "light"
     },
     "output_type": "display_data"
    }
   ],
   "source": [
    "for i in list(first_last_combo_totals.keys())[:20]:\n",
    "    #sorted dictionary of the text commands where the first and last words in the text command are nouns\n",
    "    sorted_combo_tag_dict = {k: v for k, v in sorted(first_last_combo_dict[i].items(), key=lambda item: item[1],reverse=True)}\n",
    "    #visualize the number of text commands with a certain start end POS combo for the above condition\n",
    "    plt.figure(figsize=(20,5))\n",
    "    plt.title(i)\n",
    "    plt.bar(list(sorted_combo_tag_dict.keys()),list(sorted_combo_tag_dict.values()),width=0.5)"
   ]
  },
  {
   "cell_type": "code",
   "execution_count": null,
   "metadata": {},
   "outputs": [],
   "source": [
    "#applys the rule where if the text command starts and ends with a noun then we look for the first instance\n",
    "#of a noun, then every word after is included in the identifier until a noun, preposition, or verb is found\n",
    "def IdentifierIdentifier(pos_tagger,text_command):\n",
    "    sentence = pos_tagger(text_command)\n",
    "    first_tag = sentence[0].tag_\n",
    "    last_tag = sentence[-1].tag_\n",
    "    first_idx = None\n",
    "    last_idx = None\n",
    "    identifier_start = False\n",
    "#     if first_tag == 'NN' and last_tag == 'NN':\n",
    "#         for i in range(len(sentence)):\n",
    "#             tag = sentence[i].tag_\n",
    "#             if identifier_start and (tag == 'IN' or tag == 'VBZ' or tag == 'NN'):\n",
    "#                 if tag == 'NN':\n",
    "#                     last_idx = i+1\n",
    "#                 else:\n",
    "#                     last_idx = i\n",
    "#                 break\n",
    "#             if not identifier_start and tag == 'NN':\n",
    "#                 first_idx = i\n",
    "#                 identifier_start = True\n",
    "    #if first_tag == 'VBN':\n",
    "    for i in range(len(sentence)):\n",
    "        tag = sentence[i].tag_\n",
    "        if i+1 <= len(sentence)-1:\n",
    "            next_tag = sentence[i+1].tag_\n",
    "        else:\n",
    "            next_tag = None\n",
    "        if (tag == 'IN' and next_tag == 'NN') or ((tag == 'NN' and next_tag == 'IN') or (tag == 'NN' and next_tag == 'VBN')):\n",
    "            first_idx = i+2\n",
    "            break\n",
    "        if (tag == 'NN' or tag == 'IN'):\n",
    "            first_idx = i+1\n",
    "            break\n",
    "    last_idx = len(sentence)\n",
    "        \n",
    "    identifier = sentence[first_idx:last_idx]\n",
    "    return identifier"
   ]
  },
  {
   "cell_type": "code",
   "execution_count": 42,
   "metadata": {},
   "outputs": [
    {
     "name": "stdout",
     "output_type": "stream",
     "text": [
      "0.5331161780673181\n"
     ]
    }
   ],
   "source": [
    "first_tags = []\n",
    "last_tags = []\n",
    "for key in list(first_last_combo_totals.keys())[:20]:\n",
    "    if key.split('-')[1] == 'ID':\n",
    "        first_tags.append(key.split('-')[0])\n",
    "        #last_tags.append(key.split('-')[1])\n",
    "\n",
    "count = 0\n",
    "total = 0\n",
    "for first_tag in first_tags:\n",
    "    new_df = identifier_pos[(identifier_pos['Last Tag'] == 'ID') & (identifier_pos['First Tag'] == first_tag)]\n",
    "    total += len(new_df.index.values)\n",
    "    for i in new_df.index.values:\n",
    "        text_command = new_df.loc[i][0]\n",
    "        identifier = new_df.loc[i][1]\n",
    "        \n",
    "        predicted_identifier = IdentifierIdentifier(nlp, text_command)\n",
    "        \n",
    "        if str(predicted_identifier) == identifier:\n",
    "            count += 1\n",
    "    #     else:\n",
    "    #         print(print_tags(nlp,text_command)[0] + ', '+str(print_tags(nlp,text_command)[1])+', ' + str(predicted_identifier))\n",
    "\n",
    "    print(count/total) "
   ]
  },
  {
   "cell_type": "code",
   "execution_count": 92,
   "metadata": {},
   "outputs": [
    {
     "data": {
      "text/plain": [
       "{'SS-NN': 277,\n",
       " 'SS-VBZ': 68,\n",
       " 'SS-VBP': 67,\n",
       " 'SS-IN': 38,\n",
       " 'SS-VB': 33,\n",
       " 'SS-VBD': 25,\n",
       " 'SS-JJ': 24,\n",
       " 'SS-EX': 15,\n",
       " 'SS-VBN': 7,\n",
       " 'SS-VBG': 6,\n",
       " 'SS-NNS': 5,\n",
       " 'SS-RB': 4,\n",
       " 'SS-RP': 1}"
      ]
     },
     "execution_count": 92,
     "metadata": {},
     "output_type": "execute_result"
    }
   ],
   "source": [
    "tag_combo = {k: v for k, v in sorted(first_last_combo_dict['ID-NN'].items(), key=lambda item: item[1],reverse=True)}\n",
    "tag_combo"
   ]
  },
  {
   "cell_type": "code",
   "execution_count": 98,
   "metadata": {},
   "outputs": [
    {
     "name": "stdout",
     "output_type": "stream",
     "text": [
      "SS-NN 277\n",
      "SS-VBZ 68\n",
      "SS-VBP 67\n",
      "SS-IN 38\n",
      "SS-VB 33\n",
      "SS-VBD 25\n",
      "SS-JJ 24\n",
      "SS-EX 15\n",
      "SS-VBN 7\n",
      "SS-VBG 6\n",
      "SS-NNS 5\n",
      "SS-RB 4\n",
      "SS-RP 1\n"
     ]
    }
   ],
   "source": [
    "threshold = 0.70\n",
    "threshold_num = round(sum(list(tag_combo.values()))*threshold)\n",
    "threshold_num\n",
    "\n",
    "counter_thresh = 0\n",
    "for tags, count in tag_combo.items():\n",
    "    counter_thresh += count\n",
    "    if counter_thresh > threshold_num:\n",
    "        break\n",
    "    else:\n",
    "        "
   ]
  },
  {
   "cell_type": "code",
   "execution_count": 46,
   "metadata": {},
   "outputs": [
    {
     "data": {
      "text/html": [
       "<div>\n",
       "<style scoped>\n",
       "    .dataframe tbody tr th:only-of-type {\n",
       "        vertical-align: middle;\n",
       "    }\n",
       "\n",
       "    .dataframe tbody tr th {\n",
       "        vertical-align: top;\n",
       "    }\n",
       "\n",
       "    .dataframe thead th {\n",
       "        text-align: right;\n",
       "    }\n",
       "</style>\n",
       "<table border=\"1\" class=\"dataframe\">\n",
       "  <thead>\n",
       "    <tr style=\"text-align: right;\">\n",
       "      <th></th>\n",
       "      <th>Text Command</th>\n",
       "      <th>Identifier</th>\n",
       "      <th>Tag Start</th>\n",
       "      <th>Tag End</th>\n",
       "      <th>First Tag</th>\n",
       "      <th>Last Tag</th>\n",
       "    </tr>\n",
       "  </thead>\n",
       "  <tbody>\n",
       "  </tbody>\n",
       "</table>\n",
       "</div>"
      ],
      "text/plain": [
       "Empty DataFrame\n",
       "Columns: [Text Command, Identifier, Tag Start, Tag End, First Tag, Last Tag]\n",
       "Index: []"
      ]
     },
     "execution_count": 46,
     "metadata": {},
     "output_type": "execute_result"
    }
   ],
   "source": [
    "tmp = new_df[(new_df['Tag Start'] == 'SS') & (new_df['Tag End'] == 'NN')]\n",
    "tmp"
   ]
  },
  {
   "cell_type": "code",
   "execution_count": 47,
   "metadata": {},
   "outputs": [],
   "source": [
    "for i in list(list(tmp['Text Command'].values)):\n",
    "    tmp2 = nlp(i)\n",
    "\n",
    "    for i in tmp2:\n",
    "        print(i, i.tag_, ',', end='')\n",
    "    print('')"
   ]
  }
 ],
 "metadata": {
  "kernelspec": {
   "display_name": "Python 3",
   "language": "python",
   "name": "python3"
  },
  "language_info": {
   "codemirror_mode": {
    "name": "ipython",
    "version": 3
   },
   "file_extension": ".py",
   "mimetype": "text/x-python",
   "name": "python",
   "nbconvert_exporter": "python",
   "pygments_lexer": "ipython3",
   "version": "3.7.1"
  }
 },
 "nbformat": 4,
 "nbformat_minor": 2
}
