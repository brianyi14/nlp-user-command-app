{
  "nbformat": 4,
  "nbformat_minor": 0,
  "metadata": {
    "colab": {
      "name": "Topic_Modeler.ipynb",
      "provenance": [],
      "collapsed_sections": []
    },
    "kernelspec": {
      "name": "python3",
      "display_name": "Python 3"
    }
  },
  "cells": [
    {
      "cell_type": "code",
      "metadata": {
        "id": "mTI_C9o5Ce1_",
        "colab": {
          "base_uri": "https://localhost:8080/"
        },
        "outputId": "91e82458-fde7-4f30-e6a8-07cf22b1856a"
      },
      "source": [
        "!pip install pyspellchecker"
      ],
      "execution_count": 1,
      "outputs": [
        {
          "output_type": "stream",
          "text": [
            "Collecting pyspellchecker\n",
            "\u001b[?25l  Downloading https://files.pythonhosted.org/packages/f1/96/827c132397d0eb5731c1eda05dbfb019ede064ca8c7d0f329160ce0a4acd/pyspellchecker-0.5.5-py2.py3-none-any.whl (1.9MB)\n",
            "\u001b[K     |████████████████████████████████| 1.9MB 12.0MB/s \n",
            "\u001b[?25hInstalling collected packages: pyspellchecker\n",
            "Successfully installed pyspellchecker-0.5.5\n"
          ],
          "name": "stdout"
        }
      ]
    },
    {
      "cell_type": "code",
      "metadata": {
        "id": "U0ekH39jS38S"
      },
      "source": [
        "import torch.nn as nn\n",
        "import torch\n",
        "import pandas as pd\n",
        "from gensim import models\n",
        "import gensim.downloader as api\n",
        "import numpy as np\n",
        "import matplotlib.pyplot as plt\n",
        "from torch import optim\n",
        "from spellchecker import SpellChecker"
      ],
      "execution_count": 2,
      "outputs": []
    },
    {
      "cell_type": "code",
      "metadata": {
        "id": "eiEqONSSihF8"
      },
      "source": [
        "augmented_data = pd.read_csv('./drive/My Drive/Augmented_Data2.csv')"
      ],
      "execution_count": 3,
      "outputs": []
    },
    {
      "cell_type": "code",
      "metadata": {
        "id": "IHRPtHXNLWJZ",
        "colab": {
          "base_uri": "https://localhost:8080/",
          "height": 742
        },
        "outputId": "f60dbcf3-7bf3-4f99-f77a-de59ff084915"
      },
      "source": [
        "augmented_data[(augmented_data['Topic']=='Task')]"
      ],
      "execution_count": null,
      "outputs": [
        {
          "output_type": "execute_result",
          "data": {
            "text/html": [
              "<div>\n",
              "<style scoped>\n",
              "    .dataframe tbody tr th:only-of-type {\n",
              "        vertical-align: middle;\n",
              "    }\n",
              "\n",
              "    .dataframe tbody tr th {\n",
              "        vertical-align: top;\n",
              "    }\n",
              "\n",
              "    .dataframe thead th {\n",
              "        text-align: right;\n",
              "    }\n",
              "</style>\n",
              "<table border=\"1\" class=\"dataframe\">\n",
              "  <thead>\n",
              "    <tr style=\"text-align: right;\">\n",
              "      <th></th>\n",
              "      <th>Text Command</th>\n",
              "      <th>Topic</th>\n",
              "      <th>Identifier</th>\n",
              "      <th>Action</th>\n",
              "      <th>One Hot Encoded Topic</th>\n",
              "      <th>One Hot Encoded Action</th>\n",
              "      <th>Verb/Noun</th>\n",
              "    </tr>\n",
              "  </thead>\n",
              "  <tbody>\n",
              "    <tr>\n",
              "      <th>2</th>\n",
              "      <td>fixed Developing editorial calendar for conten...</td>\n",
              "      <td>Task</td>\n",
              "      <td>Developing editorial calendar for content sharing</td>\n",
              "      <td>In Review</td>\n",
              "      <td>[1,0]</td>\n",
              "      <td>[0,0,1,0,0]</td>\n",
              "      <td>SYNREPLACED</td>\n",
              "    </tr>\n",
              "    <tr>\n",
              "      <th>3</th>\n",
              "      <td>audit task Developing editorial calendar for c...</td>\n",
              "      <td>Task</td>\n",
              "      <td>Developing editorial calendar for content sharing</td>\n",
              "      <td>In Review</td>\n",
              "      <td>[1,0]</td>\n",
              "      <td>[0,0,1,0,0]</td>\n",
              "      <td>SYNREPLACED</td>\n",
              "    </tr>\n",
              "    <tr>\n",
              "      <th>4</th>\n",
              "      <td>offset on Developing editorial calendar for co...</td>\n",
              "      <td>Task</td>\n",
              "      <td>Developing editorial calendar for content sharing</td>\n",
              "      <td>In Progress</td>\n",
              "      <td>[1,0]</td>\n",
              "      <td>[0,1,0,0,0]</td>\n",
              "      <td>SYNREPLACED</td>\n",
              "    </tr>\n",
              "    <tr>\n",
              "      <th>5</th>\n",
              "      <td>Developing editorial calendar for content shar...</td>\n",
              "      <td>Task</td>\n",
              "      <td>Developing editorial calendar for content sharing</td>\n",
              "      <td>In Progress</td>\n",
              "      <td>[1,0]</td>\n",
              "      <td>[0,1,0,0,0]</td>\n",
              "      <td>SYNREPLACED</td>\n",
              "    </tr>\n",
              "    <tr>\n",
              "      <th>6</th>\n",
              "      <td>set task Developing editorial calendar for con...</td>\n",
              "      <td>Task</td>\n",
              "      <td>Developing editorial calendar for content sharing</td>\n",
              "      <td>In Review</td>\n",
              "      <td>[1,0]</td>\n",
              "      <td>[0,0,1,0,0]</td>\n",
              "      <td>SYNREPLACED</td>\n",
              "    </tr>\n",
              "    <tr>\n",
              "      <th>...</th>\n",
              "      <td>...</td>\n",
              "      <td>...</td>\n",
              "      <td>...</td>\n",
              "      <td>...</td>\n",
              "      <td>...</td>\n",
              "      <td>...</td>\n",
              "      <td>...</td>\n",
              "    </tr>\n",
              "    <tr>\n",
              "      <th>6964</th>\n",
              "      <td>act task Reviewing website backlinks to block</td>\n",
              "      <td>Task</td>\n",
              "      <td>Reviewing website backlinks</td>\n",
              "      <td>Blocked</td>\n",
              "      <td>[1,0]</td>\n",
              "      <td>[0,0,0,1,0]</td>\n",
              "      <td>SYNREPLACED</td>\n",
              "    </tr>\n",
              "    <tr>\n",
              "      <th>6971</th>\n",
              "      <td>designing Reviewing website backlinks labor</td>\n",
              "      <td>Task</td>\n",
              "      <td>Reviewing website backlinks</td>\n",
              "      <td>To Do</td>\n",
              "      <td>[1,0]</td>\n",
              "      <td>[1,0,0,0,0]</td>\n",
              "      <td>SYNREPLACED</td>\n",
              "    </tr>\n",
              "    <tr>\n",
              "      <th>6976</th>\n",
              "      <td>Reviewing website backlinks project</td>\n",
              "      <td>Task</td>\n",
              "      <td>Reviewing website backlinks</td>\n",
              "      <td>To Do</td>\n",
              "      <td>[1,0]</td>\n",
              "      <td>[1,0,0,0,0]</td>\n",
              "      <td>SYNREPLACED</td>\n",
              "    </tr>\n",
              "    <tr>\n",
              "      <th>6977</th>\n",
              "      <td>Reviewing website backlinks chore was complete</td>\n",
              "      <td>Task</td>\n",
              "      <td>Reviewing website backlinks</td>\n",
              "      <td>Completed</td>\n",
              "      <td>[1,0]</td>\n",
              "      <td>[0,0,0,0,1]</td>\n",
              "      <td>SYNREPLACED</td>\n",
              "    </tr>\n",
              "    <tr>\n",
              "      <th>6978</th>\n",
              "      <td>through with task Reviewing website backlinks</td>\n",
              "      <td>Task</td>\n",
              "      <td>Reviewing website backlinks</td>\n",
              "      <td>Completed</td>\n",
              "      <td>[1,0]</td>\n",
              "      <td>[0,0,0,0,1]</td>\n",
              "      <td>SYNREPLACED</td>\n",
              "    </tr>\n",
              "  </tbody>\n",
              "</table>\n",
              "<p>3790 rows × 7 columns</p>\n",
              "</div>"
            ],
            "text/plain": [
              "                                           Text Command  ...    Verb/Noun\n",
              "2     fixed Developing editorial calendar for conten...  ...  SYNREPLACED\n",
              "3     audit task Developing editorial calendar for c...  ...  SYNREPLACED\n",
              "4     offset on Developing editorial calendar for co...  ...  SYNREPLACED\n",
              "5     Developing editorial calendar for content shar...  ...  SYNREPLACED\n",
              "6     set task Developing editorial calendar for con...  ...  SYNREPLACED\n",
              "...                                                 ...  ...          ...\n",
              "6964      act task Reviewing website backlinks to block  ...  SYNREPLACED\n",
              "6971        designing Reviewing website backlinks labor  ...  SYNREPLACED\n",
              "6976                Reviewing website backlinks project  ...  SYNREPLACED\n",
              "6977     Reviewing website backlinks chore was complete  ...  SYNREPLACED\n",
              "6978      through with task Reviewing website backlinks  ...  SYNREPLACED\n",
              "\n",
              "[3790 rows x 7 columns]"
            ]
          },
          "metadata": {
            "tags": []
          },
          "execution_count": 53
        }
      ]
    },
    {
      "cell_type": "code",
      "metadata": {
        "id": "L0NPk5rJimb2"
      },
      "source": [
        "#load Google Word2Vec\n",
        "w = models.KeyedVectors.load_word2vec_format('./drive/My Drive/google-word2vec.bin', binary=True)"
      ],
      "execution_count": 4,
      "outputs": []
    },
    {
      "cell_type": "code",
      "metadata": {
        "colab": {
          "base_uri": "https://localhost:8080/"
        },
        "id": "cx0wH4ZrZ_O6",
        "outputId": "33528efa-f62b-4cd1-8c94-4d1035dea2e6"
      },
      "source": [
        "w.wv.save_word2vec_format('/content/drive/MyDrive/google-word2vec.bin', binary=True)"
      ],
      "execution_count": null,
      "outputs": [
        {
          "output_type": "stream",
          "text": [
            "/usr/local/lib/python3.6/dist-packages/ipykernel_launcher.py:1: DeprecationWarning: Call to deprecated `wv` (Attribute will be removed in 4.0.0, use self instead).\n",
            "  \"\"\"Entry point for launching an IPython kernel.\n"
          ],
          "name": "stderr"
        }
      ]
    },
    {
      "cell_type": "code",
      "metadata": {
        "id": "wiPLY5p1aWHU",
        "colab": {
          "base_uri": "https://localhost:8080/"
        },
        "outputId": "5244feb8-9db8-4774-e617-5ee2ea453f4d"
      },
      "source": [
        "word_vectors = w.wv\n",
        "word_vectors.save(\"word2vec.wordvectors\")\n",
        "\n",
        "w =models.KeyedVectors.load(\"word2vec.wordvectors\", mmap='r')"
      ],
      "execution_count": null,
      "outputs": [
        {
          "output_type": "stream",
          "text": [
            "/usr/local/lib/python3.6/dist-packages/ipykernel_launcher.py:1: DeprecationWarning: Call to deprecated `wv` (Attribute will be removed in 4.0.0, use self instead).\n",
            "  \"\"\"Entry point for launching an IPython kernel.\n"
          ],
          "name": "stderr"
        }
      ]
    },
    {
      "cell_type": "markdown",
      "metadata": {
        "id": "hBYgg1kpa_cr"
      },
      "source": [
        ""
      ]
    },
    {
      "cell_type": "code",
      "metadata": {
        "id": "5_VuPLYsihs3"
      },
      "source": [
        "#words that will not be vectorized\n",
        "stopwords = [\"i\", \"me\", \"my\", \"myself\", \"we\", \"our\", \"ours\", \"ourselves\", \"you\", \"your\", \"yours\", \"yourself\", \"yourselves\", \"he\", \"him\", \"his\", \"himself\", \"she\", \"her\", \"hers\", \"herself\", \"it\", \"its\", \"itself\", \"they\", \"them\", \"their\", \"theirs\", \"themselves\", \"what\", \"which\", \"who\", \"whom\", \"this\", \"that\", \"these\", \"those\", \"am\", \"is\", \"are\", \"was\", \"were\", \"be\", \"been\", \"being\", \"have\", \"has\", \"had\", \"having\", \"do\", \"does\", \"did\", \"doing\", \"a\", \"an\", \"the\", \"and\", \"but\", \"if\", \"or\", \"because\", \"as\", \"until\", \"while\", \"of\", \"at\", \"by\", \"for\", \"with\", \"about\", \"against\", \"between\", \"into\", \"through\", \"during\", \"before\", \"after\", \"above\", \"below\", \"to\", \"from\", \"up\", \"down\", \"in\", \"out\", \"on\", \"off\", \"over\", \"under\", \"again\", \"further\", \"then\", \"once\", \"here\", \"there\", \"when\", \"where\", \"why\", \"how\", \"all\", \"any\", \"both\", \"each\", \"few\", \"more\", \"most\", \"other\", \"some\", \"such\", \"no\", \"nor\", \"not\", \"only\", \"own\", \"same\", \"so\", \"than\", \"too\", \"very\", \"s\", \"t\", \"can\", \"will\", \"just\", \"don\", \"should\", \"now\"]  "
      ],
      "execution_count": 5,
      "outputs": []
    },
    {
      "cell_type": "code",
      "metadata": {
        "id": "04UTYE1pirNJ"
      },
      "source": [
        "#function for cleaning sentence by removing grammmar \n",
        "def clean_sentence(sentence):\n",
        "  cleaned_sentence = ''\n",
        "  for char in sentence:\n",
        "    if char.isalpha() or char == ' ':\n",
        "      cleaned_sentence += char\n",
        "    if char == '-':\n",
        "      cleaned_sentence += ' '\n",
        "  return cleaned_sentence"
      ],
      "execution_count": 6,
      "outputs": []
    },
    {
      "cell_type": "code",
      "metadata": {
        "id": "pjGX6ZJLitnp"
      },
      "source": [
        "#function for transforming sentence into 2D numerical array \n",
        "def vectorize_sentence(sentence,vectorizer,max_len):\n",
        "  spell_checker = SpellChecker()\n",
        "  cleaned_sentence = clean_sentence(sentence)\n",
        "  sentence_lst = cleaned_sentence.split()\n",
        "  num_words = len(sentence_lst)\n",
        "  sentence_vector = np.zeros((max_len,300))\n",
        "  for i in range(num_words):\n",
        "    word = sentence_lst[i]\n",
        "    if word not in stopwords:\n",
        "      try:\n",
        "        vectorized_word = vectorizer.wv[word]\n",
        "      except:\n",
        "        misspelled = spell_checker.unknown([word])\n",
        "        corrected_word = None\n",
        "        for word in misspelled:\n",
        "          corrected_word = spell_checker.correction(word)\n",
        "        try:\n",
        "          vectorized_word = vectorizer.wv[corrected_word]\n",
        "        except:\n",
        "          vectorized_word = np.zeros(300)\n",
        "    else:\n",
        "      #stop word is empty vector of 0s\n",
        "      vectorized_word = np.zeros(300)\n",
        "    sentence_vector[i] = vectorized_word\n",
        "  for j in range(num_words,max_len,1):\n",
        "    sentence_vector[j] = np.zeros(300)\n",
        "  return sentence_vector"
      ],
      "execution_count": 7,
      "outputs": []
    },
    {
      "cell_type": "code",
      "metadata": {
        "id": "cCz-pbIMjb8Q",
        "colab": {
          "base_uri": "https://localhost:8080/"
        },
        "outputId": "4eb4eb9c-5af9-4af4-9686-a46c952f2326"
      },
      "source": [
        "print(torch.tensor(vectorize_sentence('Done with project data cleaning',w,10)))"
      ],
      "execution_count": null,
      "outputs": [
        {
          "output_type": "stream",
          "text": [
            "tensor([[ 0.0654,  0.2305, -0.2891,  ..., -0.2715, -0.0043,  0.1611],\n",
            "        [ 0.0000,  0.0000,  0.0000,  ...,  0.0000,  0.0000,  0.0000],\n",
            "        [-0.0181,  0.0085,  0.0698,  ..., -0.1250, -0.0562, -0.1084],\n",
            "        ...,\n",
            "        [ 0.0000,  0.0000,  0.0000,  ...,  0.0000,  0.0000,  0.0000],\n",
            "        [ 0.0000,  0.0000,  0.0000,  ...,  0.0000,  0.0000,  0.0000],\n",
            "        [ 0.0000,  0.0000,  0.0000,  ...,  0.0000,  0.0000,  0.0000]],\n",
            "       dtype=torch.float64)\n"
          ],
          "name": "stdout"
        },
        {
          "output_type": "stream",
          "text": [
            "/usr/local/lib/python3.6/dist-packages/ipykernel_launcher.py:12: DeprecationWarning: Call to deprecated `wv` (Attribute will be removed in 4.0.0, use self instead).\n",
            "  if sys.path[0] == '':\n"
          ],
          "name": "stderr"
        }
      ]
    },
    {
      "cell_type": "code",
      "metadata": {
        "id": "iQULMiY2iyBb"
      },
      "source": [
        "#function for changing pandas dataframe from sentences to 2D numerical array\n",
        "def vectorize_dataset(df, column, filter=None):\n",
        "  df = df.sample(frac=1).reset_index(drop=True)\n",
        "  if filter != None:\n",
        "    df = df.loc[df['Topic'] == filter]\n",
        "  text_commands = df['Text Command']\n",
        "  num_rows = len(df.index)\n",
        "  max_len = max([len(text_commands.loc[i].split()) for i in df.index.values])\n",
        "  data_vector = np.zeros((num_rows,max_len,300))\n",
        "  idx = 0\n",
        "  for i in df.index.values:\n",
        "    sentence = df.loc[i][0]\n",
        "    vectorized_sentence = vectorize_sentence(sentence,w,max_len) \n",
        "    data_vector[idx] = vectorized_sentence\n",
        "    idx += 1\n",
        "  return data_vector, df[column], max_len, text_commands"
      ],
      "execution_count": 8,
      "outputs": []
    },
    {
      "cell_type": "code",
      "metadata": {
        "id": "frAB-G2wQdFy",
        "colab": {
          "base_uri": "https://localhost:8080/"
        },
        "outputId": "3e16bf10-883d-49c6-c101-2c03767be92f"
      },
      "source": [
        "#load all the data and labels associated with the different use cases\n",
        "topic_data, topic_labels, topic_max_len, topic_text_commands = vectorize_dataset(augmented_data, 'One Hot Encoded Topic')\n",
        "task_action_data, task_action_labels, task_action_max_len, task_action_text_commands = vectorize_dataset(augmented_data, 'One Hot Encoded Action', 'Task')\n",
        "project_action_data, project_action_labels, project_action_max_len, project_action_text_commands = vectorize_dataset(augmented_data, 'One Hot Encoded Action', 'Project')\n"
      ],
      "execution_count": 9,
      "outputs": [
        {
          "output_type": "stream",
          "text": [
            "/usr/local/lib/python3.6/dist-packages/ipykernel_launcher.py:12: DeprecationWarning: Call to deprecated `wv` (Attribute will be removed in 4.0.0, use self instead).\n",
            "  if sys.path[0] == '':\n",
            "/usr/local/lib/python3.6/dist-packages/ipykernel_launcher.py:19: DeprecationWarning: Call to deprecated `wv` (Attribute will be removed in 4.0.0, use self instead).\n"
          ],
          "name": "stderr"
        }
      ]
    },
    {
      "cell_type": "code",
      "metadata": {
        "id": "AkXKk_f_BRXB"
      },
      "source": [
        "#function for converting the data represented by numpy arrays into tensors\n",
        "def data_to_tensor(labels,data,array_size):\n",
        "  labels_tensor = np.zeros((len(labels.index),array_size))\n",
        "  idx = 0\n",
        "  for i in (labels.index.values):\n",
        "    labels_tensor[idx] = np.fromstring(labels.loc[i][1:-1], dtype=np.float64, sep=',') \n",
        "    idx += 1\n",
        "  data_tensor = torch.tensor(data)\n",
        "  labels_tensor = torch.tensor(labels_tensor)\n",
        "  return labels_tensor, data_tensor"
      ],
      "execution_count": 10,
      "outputs": []
    },
    {
      "cell_type": "code",
      "metadata": {
        "id": "1tTukgpEEo7e"
      },
      "source": [
        "#convert all the data into tensor format \n",
        "topic_labels, topic_data = data_to_tensor(topic_labels,topic_data,2)\n",
        "task_action_labels, task_action_data = data_to_tensor(task_action_labels,task_action_data,5)\n",
        "project_action_labels, project_action_data = data_to_tensor(project_action_labels, project_action_data,5)\n",
        "\n"
      ],
      "execution_count": 11,
      "outputs": []
    },
    {
      "cell_type": "code",
      "metadata": {
        "id": "Ki5pArx7TBUE"
      },
      "source": [
        "#LSTM architecture that takes input of vectorized sentences and outputs probability for each topic\n",
        "class TopicModel(nn.Module):\n",
        "  def __init__(self):\n",
        "    super(TopicModel,self).__init__()\n",
        "    self.lstm = nn.LSTM(300,100,batch_first = True)\n",
        "    \"\"\"Change the second parameter according to whether topic or project and task are being trained. 2 is for topic, 5 is for project/task\"\"\"\n",
        "    self.outputtopic = nn.Linear(100,2)\n",
        "    self.softmax = nn.LogSoftmax(dim=-1)\n",
        "\n",
        "  def forward(self,x):\n",
        "    output, (h_n,c_n) = self.lstm(x)\n",
        "    outputt = self.outputtopic(h_n)\n",
        "    prob_output = self.softmax(outputt)\n",
        "    return prob_output\n",
        "\n"
      ],
      "execution_count": 44,
      "outputs": []
    },
    {
      "cell_type": "code",
      "metadata": {
        "id": "H8G1LsToZw4w"
      },
      "source": [
        "#set feature size of hidden units\n",
        "hidden_size = 100\n",
        "\n",
        "#feature dimension of Google Word2Vec word vector(default is 300)\n",
        "input_size = 300\n",
        "\"\"\"Change this number according to whether topic or project and task are being trained. 2 is for topic, 5 is for project/task\"\"\"\n",
        "#number of topics to predict\n",
        "num_topics = 2\n",
        "\n",
        "#set learning rate \n",
        "lr = .1\n",
        "\n",
        "#set training loss metric\n",
        "loss_metric = nn.NLLLoss()"
      ],
      "execution_count": 45,
      "outputs": []
    },
    {
      "cell_type": "code",
      "metadata": {
        "id": "TAQ4k_0vpGQ0"
      },
      "source": [
        "topic_text_commands,topic_text_commands_raw_text = topic_data, topic_text_commands\n",
        "project_action_text_commands,project_action_text_commands_raw_text = project_action_data, project_action_text_commands\n",
        "task_action_text_commands,task_action_text_commands_raw_text = task_action_data, task_action_text_commands\n"
      ],
      "execution_count": 14,
      "outputs": []
    },
    {
      "cell_type": "code",
      "metadata": {
        "id": "Pp_Oz8mZC0t_"
      },
      "source": [
        "def train(topic_tensor, text_command_tensor):\n",
        "    model.train()\n",
        "    #reset the model gradients to 0\n",
        "    model.zero_grad()\n",
        "    #predicted label from model\n",
        "    output = model(text_command_tensor.float())[0]\n",
        "    idxs = torch.argmax(topic_tensor,dim=-1)\n",
        "    #calculate negative log likelihood loss from batch of data \n",
        "    loss = loss_metric(output, idxs)\n",
        "    #backpropogate through the model based on NLL loss\n",
        "    loss.backward()\n",
        "    #update model parameters using gradients \n",
        "    optimizer.step()\n",
        "    \n",
        "\n",
        "    return output, loss.item()"
      ],
      "execution_count": 15,
      "outputs": []
    },
    {
      "cell_type": "code",
      "metadata": {
        "id": "O5Px2RUnzbEL"
      },
      "source": [
        "#function for testing model on batch of data\n",
        "def test(model, topic_tensor, text_command_tensor):\n",
        "  model.eval()\n",
        "  loss_metric = nn.NLLLoss(reduction='none')\n",
        "  num_labels = len(topic_tensor[0])\n",
        "  preds = model(text_command_tensor.float())[0]\n",
        "  idxs = torch.argmax(topic_tensor[0],dim=-1)\n",
        "  loss = loss_metric(preds, idxs)\n",
        "  \"\"\"Change this list to either 2 or 5 zeros based on what labels the model is training on \"\"\"\n",
        "  label_losses = torch.zeros(2)\n",
        "  label_counts = torch.zeros(2)\n",
        "  correct = 0\n",
        "  for i in range(num_labels):\n",
        "    label = topic_tensor[0][i]\n",
        "    label_idx = torch.argmax(label)\n",
        "    label_counts[label_idx] += 1\n",
        "    label_loss = torch.zeros(2)\n",
        "    label_loss[label_idx] = loss[i]\n",
        "    label_losses += label_loss\n",
        "    pred = preds[i]\n",
        "    pred_idx = torch.argmax(pred)\n",
        "    if pred_idx == label_idx:\n",
        "      correct += 1\n",
        "  return ((correct/num_labels), label_losses/label_counts)\n",
        "\n"
      ],
      "execution_count": 46,
      "outputs": []
    },
    {
      "cell_type": "code",
      "metadata": {
        "id": "JL2aPOiFey9Y"
      },
      "source": [
        "def predict(model, text_input, wordvec,label2pred):\n",
        "  model.eval()\n",
        "  vectorized_sentence = vectorize_sentence(text_input,wordvec,10)\n",
        "  sentence_tensor = torch.tensor(vectorized_sentence)\n",
        "  batch_sentence_tensor = torch.unsqueeze(sentence_tensor,0)\n",
        "  pred = model(batch_sentence_tensor.float())\n",
        "  return label2pred[int(torch.argmax(pred,dim=-1))]\n"
      ],
      "execution_count": 17,
      "outputs": []
    },
    {
      "cell_type": "code",
      "metadata": {
        "id": "35wS5h08J4lA"
      },
      "source": [
        "def optimize(model, topic_tensor, text_command_tensor,prob_thresh,weights):\n",
        "  model.eval()\n",
        "  num_labels = len(topic_tensor[0])\n",
        "  preds = model(text_command_tensor.float())[0]\n",
        "  idxs = torch.argmax(topic_tensor[0],dim=-1)\n",
        "  loss = loss_metric(preds, idxs)\n",
        "  correct = 0\n",
        "  incorrect = 0\n",
        "  NA = 0\n",
        "  log_prob_thresh = np.log(prob_thresh)\n",
        "  for i in range(num_labels):\n",
        "    pred = preds[i]\n",
        "    pred_idx = torch.argmax(pred)\n",
        "    pred_log_prob = torch.max(pred)\n",
        "    label = topic_tensor[0][i]\n",
        "    label_idx = torch.argmax(label)\n",
        "    if pred_log_prob >= log_prob_thresh:\n",
        "      if pred_idx == label_idx:\n",
        "        correct += 1\n",
        "      else:\n",
        "        incorrect += 1\n",
        "    else:\n",
        "      NA += 1\n",
        "  \n",
        "  time_saved = correct*weights[0]-incorrect*weights[1]-NA*weights[2]\n",
        "  return time_saved"
      ],
      "execution_count": 18,
      "outputs": []
    },
    {
      "cell_type": "code",
      "metadata": {
        "id": "X0qHMGo8lIpO",
        "colab": {
          "base_uri": "https://localhost:8080/"
        },
        "outputId": "7dc59eba-bff5-40d2-f7e2-1ddc311f64d8"
      },
      "source": [
        "device = torch.device(\"cuda\" if torch.cuda.is_available() else \"cpu\")\n",
        "#Training topic\n",
        "epochs = 100\n",
        "#set batch size \n",
        "batch_size = 40\n",
        "\n",
        "# Keep track of losses for plotting\n",
        "testing_losses = []\n",
        "testing_accuracies = []\n",
        "testing_losses = torch.zeros(2)\n",
        "for i in range(20):\n",
        "  print(i)\n",
        "  current_loss = 0\n",
        "  all_losses = []\n",
        "  model = TopicModel().to(device)\n",
        "  optimizer = optim.SGD(model.parameters(), lr=lr)\n",
        "\n",
        "  idxs = torch.randperm(len(topic_text_commands))\n",
        "  text_commands = topic_text_commands[idxs]\n",
        "  labels = topic_labels[idxs]\n",
        "\n",
        "  training_text_commands,testing_text_commands = text_commands[:5520], text_commands[5520:6900]\n",
        "  training_labels, testing_labels = labels[:5520], labels[5520:6900]\n",
        "\n",
        "  #set number of batches\n",
        "  training_num_batches = int(len(training_text_commands)/batch_size) \n",
        "\n",
        "  #reshape text commands and labels to fit training\n",
        "  training_text_commands = torch.reshape(training_text_commands,(training_num_batches,batch_size,topic_max_len,300))\n",
        "  training_labels = torch.reshape(training_labels,(training_num_batches,batch_size,num_topics))\n",
        "  testing_labels = torch.reshape(testing_labels,(1,testing_labels.shape[0],testing_labels.shape[1]))\n",
        "  training_losses = []\n",
        "  for iter in range(1, epochs + 1):\n",
        "    for batch_iter in range(training_num_batches):\n",
        "      text_batch, label_batch = training_text_commands[batch_iter], training_labels[batch_iter]\n",
        "      output, loss = train(label_batch, text_batch)\n",
        "      current_loss += loss\n",
        "\n",
        "    training_losses.append(current_loss/training_num_batches)\n",
        "\n",
        "    # Add current loss avg to list of losses\n",
        "    if iter == epochs:\n",
        "      testing_accuracy, testing_loss = test(model, testing_labels, testing_text_commands)\n",
        "      testing_accuracies.append(testing_accuracy)\n",
        "      testing_losses += testing_loss\n",
        "      all_losses.append(current_loss / training_num_batches)\n",
        "    current_loss = 0\n",
        "  #times_saved = []\n",
        "  #for i in range(100):\n",
        "    #percent = i/100\n",
        "    #time_saved = optimize(model,testing_labels,testing_text_commands,percent,[2,12,5])\n",
        "    #times_saved.append(time_saved)\n",
        "  #print(max(times_saved))\n"
      ],
      "execution_count": 47,
      "outputs": [
        {
          "output_type": "stream",
          "text": [
            "0\n",
            "1\n",
            "2\n",
            "3\n",
            "4\n",
            "5\n",
            "6\n",
            "7\n",
            "8\n",
            "9\n",
            "10\n",
            "11\n",
            "12\n",
            "13\n",
            "14\n",
            "15\n",
            "16\n",
            "17\n",
            "18\n",
            "19\n"
          ],
          "name": "stdout"
        }
      ]
    },
    {
      "cell_type": "code",
      "metadata": {
        "colab": {
          "base_uri": "https://localhost:8080/"
        },
        "id": "IL4Ky-79xYTO",
        "outputId": "da162cc1-00f3-485b-953a-d2086767e8a8"
      },
      "source": [
        "testing_losses/len(testing_accuracies)"
      ],
      "execution_count": 48,
      "outputs": [
        {
          "output_type": "execute_result",
          "data": {
            "text/plain": [
              "tensor([0.1512, 0.1355], grad_fn=<DivBackward0>)"
            ]
          },
          "metadata": {
            "tags": []
          },
          "execution_count": 48
        }
      ]
    },
    {
      "cell_type": "code",
      "metadata": {
        "id": "xnyNS8dplIYG",
        "colab": {
          "base_uri": "https://localhost:8080/"
        },
        "outputId": "ea533934-53fd-4cc8-8936-9ab897b9b788"
      },
      "source": [
        "sum(testing_accuracies)/len(testing_accuracies)"
      ],
      "execution_count": 49,
      "outputs": [
        {
          "output_type": "execute_result",
          "data": {
            "text/plain": [
              "0.9635869565217392"
            ]
          },
          "metadata": {
            "tags": []
          },
          "execution_count": 49
        }
      ]
    },
    {
      "cell_type": "code",
      "metadata": {
        "id": "cabiEtEvaKqA",
        "colab": {
          "base_uri": "https://localhost:8080/"
        },
        "outputId": "f355bd38-37d8-45c5-f6fa-e3bd23220e13"
      },
      "source": [
        "sum(testing_losses)/len(testing_losses)"
      ],
      "execution_count": null,
      "outputs": [
        {
          "output_type": "execute_result",
          "data": {
            "text/plain": [
              "0.10654371976852417"
            ]
          },
          "metadata": {
            "tags": []
          },
          "execution_count": 37
        }
      ]
    },
    {
      "cell_type": "code",
      "metadata": {
        "id": "e8ZMMSTbLa3G",
        "colab": {
          "base_uri": "https://localhost:8080/",
          "height": 282
        },
        "outputId": "61c94585-b623-42c5-f259-352eb4e4d737"
      },
      "source": [
        "plt.plot(training_losses)"
      ],
      "execution_count": null,
      "outputs": [
        {
          "output_type": "execute_result",
          "data": {
            "text/plain": [
              "[<matplotlib.lines.Line2D at 0x7ff3a538bfd0>]"
            ]
          },
          "metadata": {
            "tags": []
          },
          "execution_count": 38
        },
        {
          "output_type": "display_data",
          "data": {
            "image/png": "[encoded data removed]",
            "text/plain": [
              "<Figure size 432x288 with 1 Axes>"
            ]
          },
          "metadata": {
            "tags": [],
            "needs_background": "light"
          }
        }
      ]
    },
    {
      "cell_type": "code",
      "metadata": {
        "id": "Qsj2xb94Ua1m"
      },
      "source": [
        "torch.save(model.state_dict(), '/topic_trained.pt')"
      ],
      "execution_count": null,
      "outputs": []
    },
    {
      "cell_type": "code",
      "metadata": {
        "id": "2rv_Lzt8BPVB",
        "colab": {
          "base_uri": "https://localhost:8080/"
        },
        "outputId": "b4630232-0e7b-4718-8d73-d82e625e87e2"
      },
      "source": [
        "device = torch.device(\"cuda\" if torch.cuda.is_available() else \"cpu\")\n",
        "#Training project action\n",
        "epochs = 150\n",
        "#set batch size \n",
        "batch_size = 40\n",
        "\n",
        "# Keep track of losses for plotting\n",
        "testing_losses = []\n",
        "testing_accuracies = []\n",
        "testing_losses = torch.zeros(5)\n",
        "for i in range(20):\n",
        "  print(i)\n",
        "  current_loss = 0\n",
        "  all_losses = []\n",
        "  model = TopicModel().to(device)\n",
        "  optimizer = optim.SGD(model.parameters(), lr=lr)\n",
        "\n",
        "  idxs = torch.randperm(len(project_action_text_commands))\n",
        "  text_commands = project_action_text_commands[idxs]\n",
        "  labels = project_action_labels[idxs]\n",
        "\n",
        "  training_text_commands,testing_text_commands = text_commands[:2480], text_commands[2480:3100]\n",
        "  training_labels, testing_labels = labels[:2480], labels[2480:3100]\n",
        "\n",
        "  #set number of batches\n",
        "  training_num_batches = int(len(training_text_commands)/batch_size) \n",
        "\n",
        "  #reshape text commands and labels to fit training\n",
        "  training_text_commands = torch.reshape(training_text_commands,(training_num_batches,batch_size,project_action_max_len,300))\n",
        "  training_labels = torch.reshape(training_labels,(training_num_batches,batch_size,num_topics))\n",
        "  testing_labels = torch.reshape(testing_labels,(1,testing_labels.shape[0],testing_labels.shape[1]))\n",
        "  training_losses = []\n",
        "  for iter in range(1, epochs + 1):\n",
        "    for batch_iter in range(training_num_batches):\n",
        "      text_batch, label_batch = training_text_commands[batch_iter], training_labels[batch_iter]\n",
        "      output, loss = train(label_batch, text_batch)\n",
        "      current_loss += loss\n",
        "\n",
        "    # Print iter number, loss, name and guess\n",
        "    #if iter % print_every == 0:\n",
        "        #guess, guess_i = categoryFromOutput(output)\n",
        "        #correct = '✓' if guess == category else '✗ (%s)' % category\n",
        "        #print('%d %d%% (%s) %.4f %s / %s %s' % (iter, iter / n_iters * 100, timeSince(start), loss, line, guess, correct))\n",
        "\n",
        "    # Add current loss avg to list of losses\n",
        "    training_losses.append(current_loss/training_num_batches)\n",
        "    if iter == epochs:\n",
        "      testing_accuracy, testing_loss = test(model, testing_labels, testing_text_commands)\n",
        "      testing_accuracies.append(testing_accuracy)\n",
        "      testing_losses += testing_loss\n",
        "      all_losses.append(current_loss / training_num_batches)\n",
        "    current_loss = 0\n",
        "#times_saved = []\n",
        "#for i in range(100):\n",
        "  #percent = i/100\n",
        "  #time_saved = optimize(model,testing_labels,testing_text_commands,percent,[2,12,5])\n",
        "  #times_saved.append(time_saved)"
      ],
      "execution_count": 34,
      "outputs": [
        {
          "output_type": "stream",
          "text": [
            "0\n",
            "1\n",
            "2\n",
            "3\n",
            "4\n",
            "5\n",
            "6\n",
            "7\n",
            "8\n",
            "9\n",
            "10\n",
            "11\n",
            "12\n",
            "13\n",
            "14\n",
            "15\n",
            "16\n",
            "17\n",
            "18\n",
            "19\n"
          ],
          "name": "stdout"
        }
      ]
    },
    {
      "cell_type": "code",
      "metadata": {
        "colab": {
          "base_uri": "https://localhost:8080/"
        },
        "id": "5ct50lCXzcvI",
        "outputId": "f8a7084f-2770-4431-a561-b5af59fd5d7a"
      },
      "source": [
        "testing_losses/len(testing_accuracies)"
      ],
      "execution_count": 35,
      "outputs": [
        {
          "output_type": "execute_result",
          "data": {
            "text/plain": [
              "tensor([0.5237, 0.1936, 0.4414, 0.4380, 0.2647], grad_fn=<DivBackward0>)"
            ]
          },
          "metadata": {
            "tags": []
          },
          "execution_count": 35
        }
      ]
    },
    {
      "cell_type": "code",
      "metadata": {
        "colab": {
          "base_uri": "https://localhost:8080/"
        },
        "id": "lT7zkiENBxbH",
        "outputId": "a230dce2-d747-4383-9f19-7ee4d056f3b9"
      },
      "source": [
        "sum(testing_accuracies)/len(testing_accuracies)"
      ],
      "execution_count": 36,
      "outputs": [
        {
          "output_type": "execute_result",
          "data": {
            "text/plain": [
              "0.9105645161290322"
            ]
          },
          "metadata": {
            "tags": []
          },
          "execution_count": 36
        }
      ]
    },
    {
      "cell_type": "code",
      "metadata": {
        "colab": {
          "base_uri": "https://localhost:8080/",
          "height": 282
        },
        "id": "-QCkQZ6LI8-Y",
        "outputId": "3cef6b5e-fbca-4a54-b3e6-5b01670ef153"
      },
      "source": [
        "plt.plot(training_losses)"
      ],
      "execution_count": 38,
      "outputs": [
        {
          "output_type": "execute_result",
          "data": {
            "text/plain": [
              "[<matplotlib.lines.Line2D at 0x7fa8aa604278>]"
            ]
          },
          "metadata": {
            "tags": []
          },
          "execution_count": 38
        },
        {
          "output_type": "display_data",
          "data": {
            "image/png": "[encoded data removed]",
            "text/plain": [
              "<Figure size 432x288 with 1 Axes>"
            ]
          },
          "metadata": {
            "tags": [],
            "needs_background": "light"
          }
        }
      ]
    },
    {
      "cell_type": "code",
      "metadata": {
        "id": "7z73ZbgkXZs8"
      },
      "source": [
        "torch.save(model.state_dict(), '/project_action_trained.pt')"
      ],
      "execution_count": null,
      "outputs": []
    },
    {
      "cell_type": "code",
      "metadata": {
        "id": "2Z0WhKEECT_0",
        "colab": {
          "base_uri": "https://localhost:8080/"
        },
        "outputId": "e112b68b-eb7a-48ad-ce8f-d48a28a830c2"
      },
      "source": [
        "device = torch.device(\"cuda\" if torch.cuda.is_available() else \"cpu\")\n",
        "#Training task action\n",
        "epochs = 205\n",
        "#set batch size \n",
        "batch_size = 40\n",
        "\n",
        "# Keep track of losses for plotting\n",
        "testing_losses = []\n",
        "testing_accuracies = []\n",
        "testing_losses = torch.zeros(5)\n",
        "for i in range(20):\n",
        "  print(i)\n",
        "  current_loss = 0\n",
        "  all_losses = []\n",
        "  model = TopicModel().to(device)\n",
        "  optimizer = optim.SGD(model.parameters(), lr=lr)\n",
        "\n",
        "  idxs = torch.randperm(len(task_action_text_commands))\n",
        "  text_commands = task_action_text_commands[idxs]\n",
        "  labels = task_action_labels[idxs]\n",
        "\n",
        "  training_text_commands,testing_text_commands = text_commands[:2960], text_commands[2960:3700]\n",
        "  training_labels, testing_labels = labels[:2960], labels[2960:3700]\n",
        "\n",
        "  #set number of batches\n",
        "  training_num_batches = int(len(training_text_commands)/batch_size) \n",
        "\n",
        "  #reshape text commands and labels to fit training\n",
        "  training_text_commands = torch.reshape(training_text_commands,(training_num_batches,batch_size,task_action_max_len,300))\n",
        "  training_labels = torch.reshape(training_labels,(training_num_batches,batch_size,num_topics))\n",
        "  testing_labels = torch.reshape(testing_labels,(1,testing_labels.shape[0],testing_labels.shape[1]))\n",
        "  training_losses = []\n",
        "  for iter in range(1, epochs + 1):\n",
        "    for batch_iter in range(training_num_batches):\n",
        "      text_batch, label_batch = training_text_commands[batch_iter], training_labels[batch_iter]\n",
        "      output, loss = train(label_batch, text_batch)\n",
        "      current_loss += loss\n",
        "\n",
        "    training_losses.append(current_loss/training_num_batches)\n",
        "\n",
        "    # Add current loss avg to list of losses\n",
        "    if iter == epochs:\n",
        "      testing_accuracy, testing_loss = test(model, testing_labels, testing_text_commands)\n",
        "      testing_accuracies.append(testing_accuracy)\n",
        "      testing_losses += testing_loss\n",
        "      all_losses.append(current_loss / training_num_batches)\n",
        "    \n",
        "    current_loss = 0\n",
        "#times_saved = []\n",
        "#for i in range(100):\n",
        "  #percent = i/100\n",
        "  #time_saved = optimize(model,testing_labels,testing_text_commands,percent,[2,12,5])\n",
        "  #times_saved.append(time_saved)"
      ],
      "execution_count": 41,
      "outputs": [
        {
          "output_type": "stream",
          "text": [
            "0\n",
            "1\n",
            "2\n",
            "3\n",
            "4\n",
            "5\n",
            "6\n",
            "7\n",
            "8\n",
            "9\n",
            "10\n",
            "11\n",
            "12\n",
            "13\n",
            "14\n",
            "15\n",
            "16\n",
            "17\n",
            "18\n",
            "19\n"
          ],
          "name": "stdout"
        }
      ]
    },
    {
      "cell_type": "code",
      "metadata": {
        "colab": {
          "base_uri": "https://localhost:8080/"
        },
        "id": "tm5byr5k2dR6",
        "outputId": "27995739-e3d1-4c1e-add5-00e93c0b93be"
      },
      "source": [
        "torch.argmax(torch.tensor(times_saved))"
      ],
      "execution_count": 44,
      "outputs": [
        {
          "output_type": "execute_result",
          "data": {
            "text/plain": [
              "tensor(66)"
            ]
          },
          "metadata": {
            "tags": []
          },
          "execution_count": 44
        }
      ]
    },
    {
      "cell_type": "code",
      "metadata": {
        "colab": {
          "base_uri": "https://localhost:8080/"
        },
        "id": "DjYcvr2MCbON",
        "outputId": "ee8d2288-425a-44f0-9e2a-a3bbad856644"
      },
      "source": [
        "sum(testing_accuracies)/len(testing_accuracies)"
      ],
      "execution_count": 42,
      "outputs": [
        {
          "output_type": "execute_result",
          "data": {
            "text/plain": [
              "0.9082432432432433"
            ]
          },
          "metadata": {
            "tags": []
          },
          "execution_count": 42
        }
      ]
    },
    {
      "cell_type": "code",
      "metadata": {
        "colab": {
          "base_uri": "https://localhost:8080/"
        },
        "id": "l1CMLJASCb16",
        "outputId": "b78c2725-95fd-4ae4-c1fa-df6a000dd3c9"
      },
      "source": [
        "testing_losses/len(testing_accuracies)"
      ],
      "execution_count": 43,
      "outputs": [
        {
          "output_type": "execute_result",
          "data": {
            "text/plain": [
              "tensor([0.7365, 0.3043, 0.4305, 0.4225, 0.3840], grad_fn=<DivBackward0>)"
            ]
          },
          "metadata": {
            "tags": []
          },
          "execution_count": 43
        }
      ]
    },
    {
      "cell_type": "code",
      "metadata": {
        "colab": {
          "base_uri": "https://localhost:8080/",
          "height": 282
        },
        "id": "p5GK1VEyAxyw",
        "outputId": "28625038-99d5-4738-a927-68b63db4cd8c"
      },
      "source": [
        "plt.plot(training_losses)"
      ],
      "execution_count": null,
      "outputs": [
        {
          "output_type": "execute_result",
          "data": {
            "text/plain": [
              "[<matplotlib.lines.Line2D at 0x7ff3a53662e8>]"
            ]
          },
          "metadata": {
            "tags": []
          },
          "execution_count": 57
        },
        {
          "output_type": "display_data",
          "data": {
            "image/png": "[encoded data removed]",
            "text/plain": [
              "<Figure size 432x288 with 1 Axes>"
            ]
          },
          "metadata": {
            "tags": [],
            "needs_background": "light"
          }
        }
      ]
    },
    {
      "cell_type": "code",
      "metadata": {
        "id": "y9wGHkCvYcav"
      },
      "source": [
        "torch.save(model.state_dict(), '/task_action_trained.pt')"
      ],
      "execution_count": null,
      "outputs": []
    }
  ]
}