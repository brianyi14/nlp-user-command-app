{
  "nbformat": 4,
  "nbformat_minor": 0,
  "metadata": {
    "colab": {
      "name": "Topic_Modeler.ipynb",
      "provenance": [],
      "collapsed_sections": []
    },
    "kernelspec": {
      "name": "python3",
      "display_name": "Python 3"
    }
  },
  "cells": [
    {
      "cell_type": "code",
      "metadata": {
        "id": "U0ekH39jS38S"
      },
      "source": [
        "import torch.nn as nn\n",
        "import torch\n",
        "import pandas as pd\n",
        "from gensim import models\n",
        "import numpy as np\n",
        "import matplotlib.pyplot as plt\n",
        "from torch import optim"
      ],
      "execution_count": 1,
      "outputs": []
    },
    {
      "cell_type": "code",
      "metadata": {
        "id": "eiEqONSSihF8"
      },
      "source": [
        "augmented_data = pd.read_csv('./drive/My Drive/augmented_data.csv')"
      ],
      "execution_count": 2,
      "outputs": []
    },
    {
      "cell_type": "code",
      "metadata": {
        "id": "IHRPtHXNLWJZ"
      },
      "source": [
        "augmented_data"
      ],
      "execution_count": null,
      "outputs": []
    },
    {
      "cell_type": "code",
      "metadata": {
        "id": "L0NPk5rJimb2"
      },
      "source": [
        "w = models.KeyedVectors.load_word2vec_format(\n",
        "    './drive/My Drive/GoogleNews-vectors-negative300 (1).bin', binary=True)"
      ],
      "execution_count": 3,
      "outputs": []
    },
    {
      "cell_type": "code",
      "metadata": {
        "id": "5_VuPLYsihs3"
      },
      "source": [
        "stopwords = [\"i\", \"me\", \"my\", \"myself\", \"we\", \"our\", \"ours\", \"ourselves\", \"you\", \"your\", \"yours\", \"yourself\", \"yourselves\", \"he\", \"him\", \"his\", \"himself\", \"she\", \"her\", \"hers\", \"herself\", \"it\", \"its\", \"itself\", \"they\", \"them\", \"their\", \"theirs\", \"themselves\", \"what\", \"which\", \"who\", \"whom\", \"this\", \"that\", \"these\", \"those\", \"am\", \"is\", \"are\", \"was\", \"were\", \"be\", \"been\", \"being\", \"have\", \"has\", \"had\", \"having\", \"do\", \"does\", \"did\", \"doing\", \"a\", \"an\", \"the\", \"and\", \"but\", \"if\", \"or\", \"because\", \"as\", \"until\", \"while\", \"of\", \"at\", \"by\", \"for\", \"with\", \"about\", \"against\", \"between\", \"into\", \"through\", \"during\", \"before\", \"after\", \"above\", \"below\", \"to\", \"from\", \"up\", \"down\", \"in\", \"out\", \"on\", \"off\", \"over\", \"under\", \"again\", \"further\", \"then\", \"once\", \"here\", \"there\", \"when\", \"where\", \"why\", \"how\", \"all\", \"any\", \"both\", \"each\", \"few\", \"more\", \"most\", \"other\", \"some\", \"such\", \"no\", \"nor\", \"not\", \"only\", \"own\", \"same\", \"so\", \"than\", \"too\", \"very\", \"s\", \"t\", \"can\", \"will\", \"just\", \"don\", \"should\", \"now\"]  "
      ],
      "execution_count": 4,
      "outputs": []
    },
    {
      "cell_type": "code",
      "metadata": {
        "id": "04UTYE1pirNJ"
      },
      "source": [
        "def clean_sentence(sentence):\n",
        "  cleaned_sentence = ''\n",
        "  for char in sentence:\n",
        "    if char.isalpha() or char == ' ':\n",
        "      cleaned_sentence += char\n",
        "    if char == '-':\n",
        "      cleaned_sentence += ' '\n",
        "  return cleaned_sentence"
      ],
      "execution_count": 5,
      "outputs": []
    },
    {
      "cell_type": "code",
      "metadata": {
        "id": "pjGX6ZJLitnp"
      },
      "source": [
        "def vectorize_sentence(sentence,vectorizer,max_len):\n",
        "  cleaned_sentence = clean_sentence(sentence)\n",
        "  sentence_lst = cleaned_sentence.split()\n",
        "  num_words = len(sentence_lst)\n",
        "  sentence_vector = np.zeros((max_len,300))\n",
        "  for i in range(num_words):\n",
        "    word = sentence_lst[i]\n",
        "    if word not in stopwords:\n",
        "      vectorized_word = vectorizer.wv[word]\n",
        "    else:\n",
        "      vectorized_word = np.zeros(300)\n",
        "    sentence_vector[i] = vectorized_word\n",
        "  for j in range(num_words,max_len,1):\n",
        "    sentence_vector[j] = np.zeros(300)\n",
        "  return sentence_vector"
      ],
      "execution_count": 6,
      "outputs": []
    },
    {
      "cell_type": "code",
      "metadata": {
        "id": "iQULMiY2iyBb"
      },
      "source": [
        "def vectorize_dataset(df, column, filter=None):\n",
        "  df = df.sample(frac=1).reset_index(drop=True)\n",
        "  if filter != None:\n",
        "    df = df.loc[df['Topic'] == filter]\n",
        "  text_commands = df['Text Command']\n",
        "  num_rows = len(df.index)\n",
        "  max_len = max([len(text_commands.loc[i].split()) for i in df.index.values])\n",
        "  data_vector = np.zeros((num_rows,max_len,300))\n",
        "  idx = 0\n",
        "  for i in df.index.values:\n",
        "    sentence = df.loc[i][0]\n",
        "    vectorized_sentence = vectorize_sentence(sentence,w,max_len) \n",
        "    data_vector[idx] = vectorized_sentence\n",
        "    idx += 1\n",
        "  return data_vector, df[column], max_len"
      ],
      "execution_count": 7,
      "outputs": []
    },
    {
      "cell_type": "code",
      "metadata": {
        "id": "frAB-G2wQdFy",
        "outputId": "4fe03fe9-bb36-4409-d45b-f60b653df8c0",
        "colab": {
          "base_uri": "https://localhost:8080/"
        }
      },
      "source": [
        "topic_data, topic_labels, topic_max_len = vectorize_dataset(augmented_data, 'One Hot Encoded Topic')\n",
        "task_action_data, task_action_labels, task_action_max_len = vectorize_dataset(augmented_data, 'One Hot Encoded Action', 'Task')\n",
        "project_action_data, project_action_labels, project_action_max_len = vectorize_dataset(augmented_data, 'One Hot Encoded Action', 'Project')\n"
      ],
      "execution_count": 8,
      "outputs": [
        {
          "output_type": "stream",
          "text": [
            "/usr/local/lib/python3.6/dist-packages/ipykernel_launcher.py:9: DeprecationWarning: Call to deprecated `wv` (Attribute will be removed in 4.0.0, use self instead).\n",
            "  if __name__ == '__main__':\n"
          ],
          "name": "stderr"
        }
      ]
    },
    {
      "cell_type": "code",
      "metadata": {
        "id": "AkXKk_f_BRXB"
      },
      "source": [
        "def data_to_tensor(labels,data,array_size):\n",
        "  labels_tensor = np.zeros((len(labels.index),array_size))\n",
        "  idx = 0\n",
        "  for i in (labels.index.values):\n",
        "    labels_tensor[idx] = np.fromstring(labels.loc[i][1:-1], dtype=np.float64, sep=',') \n",
        "    idx += 1\n",
        "  data_tensor = torch.tensor(data)\n",
        "  labels_tensor = torch.tensor(labels_tensor)\n",
        "  return labels_tensor, data_tensor"
      ],
      "execution_count": 9,
      "outputs": []
    },
    {
      "cell_type": "code",
      "metadata": {
        "id": "1tTukgpEEo7e"
      },
      "source": [
        "topic_labels, topic_data = data_to_tensor(topic_labels,topic_data,2)\n",
        "task_action_labels, task_action_data = data_to_tensor(task_action_labels,task_action_data,5)\n",
        "project_action_labels, project_action_data = data_to_tensor(project_action_labels, project_action_data,5)\n",
        "\n"
      ],
      "execution_count": 10,
      "outputs": []
    },
    {
      "cell_type": "code",
      "metadata": {
        "id": "Ki5pArx7TBUE"
      },
      "source": [
        "#LSTM architecture that takes input of vectorized sentences and outputs probability for each topic\n",
        "class TopicModeler(nn.Module):\n",
        "  def __init__(self, input_size, hidden_size, output_size):\n",
        "    \n",
        "    super(TopicModeler,self).__init__()\n",
        "    self.hidden_size = hidden_size\n",
        "    self.LSTM = nn.LSTM(input_size,hidden_size,batch_first = True)\n",
        "    self.output2topic = nn.Linear(hidden_size,output_size)\n",
        "    self.softmax = nn.LogSoftmax(dim=1)\n",
        "\n",
        "  def forward(self,input):\n",
        "    output, (h_n,c_n) = self.LSTM(input)\n",
        "    topic_output = self.output2topic(h_n)\n",
        "    prob_output = self.softmax(topic_output)\n",
        "    return prob_output\n",
        "\n"
      ],
      "execution_count": 11,
      "outputs": []
    },
    {
      "cell_type": "code",
      "metadata": {
        "id": "H8G1LsToZw4w"
      },
      "source": [
        "#set feature size of hidden units\n",
        "hidden_size = 100\n",
        "\n",
        "#feature dimension of Google Word2Vec word vector(default is 300)\n",
        "input_size = 300\n",
        "\n",
        "#number of topics to predict\n",
        "num_topics = 5\n",
        "\n",
        "#initialize LSTM\n",
        "model = TopicModeler(input_size, hidden_size, num_topics)\n",
        "\n",
        "#set learning rate \n",
        "lr = .1\n",
        "\n",
        "#set training loss metric\n",
        "loss_metric = nn.NLLLoss()\n",
        "\n",
        "optimizer = optim.SGD(model.parameters(), lr=lr)"
      ],
      "execution_count": 12,
      "outputs": []
    },
    {
      "cell_type": "code",
      "metadata": {
        "id": "S57hxq8Xh_LZ"
      },
      "source": [
        "text_commands, labels, max_len = project_action_data, project_action_labels, project_action_max_len\n",
        "training_text_commands,testing_text_commands = text_commands[:960], text_commands[960:1200]\n",
        "training_labels, testing_labels = labels[:960], labels[960:1200]\n",
        "\n",
        "#set batch size \n",
        "batch_size = 40\n",
        "\n",
        "#set number of batches\n",
        "training_num_batches = int(len(training_text_commands)/batch_size)\n",
        "\n",
        "#reshape text commands and labels to fit training\n",
        "training_text_commands = torch.reshape(training_text_commands,(training_num_batches,batch_size,max_len,300))\n",
        "training_labels = torch.reshape(training_labels,(training_num_batches,batch_size,num_topics))\n",
        "testing_labels = torch.reshape(testing_labels,(1,testing_labels.shape[0],testing_labels.shape[1]))"
      ],
      "execution_count": 13,
      "outputs": []
    },
    {
      "cell_type": "code",
      "metadata": {
        "id": "Pp_Oz8mZC0t_"
      },
      "source": [
        "def train(topic_tensor, text_command_tensor):\n",
        "    model.train()\n",
        "    model.zero_grad()\n",
        "\n",
        "    output = model(text_command_tensor.float())\n",
        "    idxs = torch.argmax(topic_tensor,dim=-1)\n",
        "    loss = loss_metric(output[0], idxs)\n",
        "    loss.backward()\n",
        "    optimizer.step()\n",
        "    \n",
        "\n",
        "    return output, loss.item()"
      ],
      "execution_count": 14,
      "outputs": []
    },
    {
      "cell_type": "code",
      "metadata": {
        "id": "O5Px2RUnzbEL"
      },
      "source": [
        "def test(model, topic_tensor, text_command_tensor):\n",
        "  model.eval()\n",
        "  num_labels = len(topic_tensor[0])\n",
        "  preds = model(text_command_tensor.float())[0]\n",
        "  correct = 0\n",
        "  for i in range(num_labels):\n",
        "    pred = preds[i]\n",
        "    pred_idx = torch.argmax(pred)\n",
        "    label = topic_tensor[0][i]\n",
        "    label_idx = torch.argmax(label)\n",
        "    if pred_idx == label_idx:\n",
        "      correct += 1\n",
        "  return correct/num_labels\n",
        "\n"
      ],
      "execution_count": null,
      "outputs": []
    },
    {
      "cell_type": "code",
      "metadata": {
        "id": "X0qHMGo8lIpO"
      },
      "source": [
        "epochs = 100\n",
        "print_every = 100\n",
        "plot_every = 1\n",
        "\n",
        "\n",
        "\n",
        "# Keep track of losses for plotting\n",
        "current_loss = 0\n",
        "all_losses = []\n",
        "testing_accuracies = []\n",
        "\n",
        "for iter in range(1, epochs + 1):\n",
        "\n",
        "  for batch_iter in range(training_num_batches):\n",
        "    text_batch, label_batch = training_text_commands[batch_iter], training_labels[batch_iter]\n",
        "    output, loss = train(label_batch, text_batch)\n",
        "    current_loss += loss\n",
        "\n",
        "    # Print iter number, loss, name and guess\n",
        "    #if iter % print_every == 0:\n",
        "        #guess, guess_i = categoryFromOutput(output)\n",
        "        #correct = '✓' if guess == category else '✗ (%s)' % category\n",
        "        #print('%d %d%% (%s) %.4f %s / %s %s' % (iter, iter / n_iters * 100, timeSince(start), loss, line, guess, correct))\n",
        "\n",
        "    # Add current loss avg to list of losses\n",
        "  testing_accuracy = test(model, testing_labels, testing_text_commands)\n",
        "  testing_accuracies.append(testing_accuracy)\n",
        "  all_losses.append(current_loss / training_num_batches)\n",
        "  current_loss = 0"
      ],
      "execution_count": 17,
      "outputs": []
    },
    {
      "cell_type": "code",
      "metadata": {
        "id": "xnyNS8dplIYG",
        "outputId": "a188d511-3efb-47a3-9e07-c134651ce5db",
        "colab": {
          "base_uri": "https://localhost:8080/",
          "height": 282
        }
      },
      "source": [
        "plt.figure()\n",
        "plt.plot(all_losses)\n",
        "plt.plot(testing_accuracies)"
      ],
      "execution_count": 18,
      "outputs": [
        {
          "output_type": "execute_result",
          "data": {
            "text/plain": [
              "[<matplotlib.lines.Line2D at 0x7f9db39a8c18>]"
            ]
          },
          "metadata": {
            "tags": []
          },
          "execution_count": 18
        },
        {
          "output_type": "display_data",
          "data": {
            "image/png": "[encoded data removed]",
            "text/plain": [
              "<Figure size 432x288 with 1 Axes>"
            ]
          },
          "metadata": {
            "tags": [],
            "needs_background": "light"
          }
        }
      ]
    },
    {
      "cell_type": "code",
      "metadata": {
        "id": "BX0Jre5HrosL"
      },
      "source": [
        "testing_accuracies"
      ],
      "execution_count": null,
      "outputs": []
    }
  ]
}