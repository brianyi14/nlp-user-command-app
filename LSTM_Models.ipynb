{
  "nbformat": 4,
  "nbformat_minor": 0,
  "metadata": {
    "colab": {
      "name": "Topic_Modeler.ipynb",
      "provenance": [],
      "collapsed_sections": []
    },
    "kernelspec": {
      "name": "python3",
      "display_name": "Python 3"
    },
    "accelerator": "GPU"
  },
  "cells": [
    {
      "cell_type": "code",
      "metadata": {
        "id": "mTI_C9o5Ce1_",
        "colab": {
          "base_uri": "https://localhost:8080/"
        },
        "outputId": "49f4883f-728d-4e7c-9db9-bee53a931dd6"
      },
      "source": [
        "'''!!!!!!!!!!!!!!!!!DO NOT RUN THIS NOTEBOOK ON YOUR COMPUTER...RUN IT IN GOOGLE COLAB!!!!!!!!!!!!!!!\n",
        "for the fastest performance change the notebook runtime to GPU\n",
        "'''\n",
        "#install pyspellchecker\n",
        "!pip install pyspellchecker"
      ],
      "execution_count": 2,
      "outputs": [
        {
          "output_type": "stream",
          "text": [
            "Collecting pyspellchecker\n",
            "\u001b[?25l  Downloading https://files.pythonhosted.org/packages/f1/96/827c132397d0eb5731c1eda05dbfb019ede064ca8c7d0f329160ce0a4acd/pyspellchecker-0.5.5-py2.py3-none-any.whl (1.9MB)\n",
            "\u001b[K     |████████████████████████████████| 1.9MB 8.7MB/s \n",
            "\u001b[?25hInstalling collected packages: pyspellchecker\n",
            "Successfully installed pyspellchecker-0.5.5\n"
          ],
          "name": "stdout"
        }
      ]
    },
    {
      "cell_type": "code",
      "metadata": {
        "id": "U0ekH39jS38S"
      },
      "source": [
        "#import libraries\n",
        "import torch.nn as nn\n",
        "import torch\n",
        "import pandas as pd\n",
        "from gensim import models\n",
        "import gensim.downloader as api\n",
        "import numpy as np\n",
        "import matplotlib.pyplot as plt\n",
        "from torch import optim\n",
        "from spellchecker import SpellChecker"
      ],
      "execution_count": 3,
      "outputs": []
    },
    {
      "cell_type": "code",
      "metadata": {
        "id": "eiEqONSSihF8"
      },
      "source": [
        "#load dataset\n",
        "augmented_data = pd.read_csv('./drive/My Drive/Augmented_Data2.csv')"
      ],
      "execution_count": 4,
      "outputs": []
    },
    {
      "cell_type": "code",
      "metadata": {
        "colab": {
          "base_uri": "https://localhost:8080/",
          "height": 332
        },
        "id": "G0utSBCnI-jY",
        "outputId": "5407e2d0-e1da-43a9-99d1-de8a2db948d1"
      },
      "source": [
        "#distribution of labels for use case. Change Project to Tasks in the first line to plot distribution of task labels instead \n",
        "data = augmented_data[augmented_data['Topic'] == 'Project']\n",
        "plt.title('Distribution of project actions')\n",
        "plt.ylabel('Number of text commands')\n",
        "plt.hist(data['Action'])"
      ],
      "execution_count": 20,
      "outputs": [
        {
          "output_type": "execute_result",
          "data": {
            "text/plain": [
              "(array([797.,   0., 649.,   0.,   0., 440.,   0., 568.,   0., 735.]),\n",
              " array([0. , 0.4, 0.8, 1.2, 1.6, 2. , 2.4, 2.8, 3.2, 3.6, 4. ]),\n",
              " <a list of 10 Patch objects>)"
            ]
          },
          "metadata": {
            "tags": []
          },
          "execution_count": 20
        },
        {
          "output_type": "display_data",
          "data": {
            "image/png": "[encoded data removed]",
            "text/plain": [
              "<Figure size 432x288 with 1 Axes>"
            ]
          },
          "metadata": {
            "tags": [],
            "needs_background": "light"
          }
        }
      ]
    },
    {
      "cell_type": "code",
      "metadata": {
        "id": "IHRPtHXNLWJZ",
        "colab": {
          "base_uri": "https://localhost:8080/"
        },
        "outputId": "cfbfb3ff-7de2-43ca-a109-5e42986d3226"
      },
      "source": [
        "#code for calculating the average length of text commands in the dataset and then extrapolating \n",
        "#to find the number of seconds it would take an average user to type an average length text command\n",
        "lengths = []\n",
        "for i in augmented_data.index.values:\n",
        "  text_command = augmented_data.loc[i][0].split()\n",
        "  lengths.append(len(text_command))\n",
        "avg_num_words = sum(lengths)/len(lengths)\n",
        "avg_wpm = 41\n",
        "avg_wps = avg_wpm/60\n",
        "avg_time = avg_num_words/avg_wps\n",
        "print(avg_time)"
      ],
      "execution_count": 5,
      "outputs": [
        {
          "output_type": "stream",
          "text": [
            "12.116628631539216\n"
          ],
          "name": "stdout"
        }
      ]
    },
    {
      "cell_type": "code",
      "metadata": {
        "id": "L0NPk5rJimb2"
      },
      "source": [
        "#load Google Word2Vec...DO NOT RUN THIS CELL ON YOUR LOCAL COMPUTER\n",
        "w = models.KeyedVectors.load_word2vec_format('./drive/My Drive/google-word2vec.bin', binary=True)"
      ],
      "execution_count": 21,
      "outputs": []
    },
    {
      "cell_type": "code",
      "metadata": {
        "id": "5_VuPLYsihs3"
      },
      "source": [
        "#words that will not be vectorized\n",
        "stopwords = [\"i\", \"me\", \"my\", \"myself\", \"we\", \"our\", \"ours\", \"ourselves\", \"you\", \"your\", \"yours\", \"yourself\", \"yourselves\", \"he\", \"him\", \"his\", \"himself\", \"she\", \"her\", \"hers\", \"herself\", \"it\", \"its\", \"itself\", \"they\", \"them\", \"their\", \"theirs\", \"themselves\", \"what\", \"which\", \"who\", \"whom\", \"this\", \"that\", \"these\", \"those\", \"am\", \"is\", \"are\", \"was\", \"were\", \"be\", \"been\", \"being\", \"have\", \"has\", \"had\", \"having\", \"do\", \"does\", \"did\", \"doing\", \"a\", \"an\", \"the\", \"and\", \"but\", \"if\", \"or\", \"because\", \"as\", \"until\", \"while\", \"of\", \"at\", \"by\", \"for\", \"with\", \"about\", \"against\", \"between\", \"into\", \"through\", \"during\", \"before\", \"after\", \"above\", \"below\", \"to\", \"from\", \"up\", \"down\", \"in\", \"out\", \"on\", \"off\", \"over\", \"under\", \"again\", \"further\", \"then\", \"once\", \"here\", \"there\", \"when\", \"where\", \"why\", \"how\", \"all\", \"any\", \"both\", \"each\", \"few\", \"more\", \"most\", \"other\", \"some\", \"such\", \"no\", \"nor\", \"not\", \"only\", \"own\", \"same\", \"so\", \"than\", \"too\", \"very\", \"s\", \"t\", \"can\", \"will\", \"just\", \"don\", \"should\", \"now\"]  "
      ],
      "execution_count": 22,
      "outputs": []
    },
    {
      "cell_type": "code",
      "metadata": {
        "id": "04UTYE1pirNJ"
      },
      "source": [
        "#function for cleaning sentence by removing grammmar \n",
        "def clean_sentence(sentence):\n",
        "  cleaned_sentence = ''\n",
        "  for char in sentence:\n",
        "    if char.isalpha() or char == ' ':\n",
        "      cleaned_sentence += char\n",
        "    if char == '-':\n",
        "      cleaned_sentence += ' '\n",
        "  return cleaned_sentence"
      ],
      "execution_count": 23,
      "outputs": []
    },
    {
      "cell_type": "code",
      "metadata": {
        "id": "pjGX6ZJLitnp"
      },
      "source": [
        "#function for transforming sentence into 2D numerical array \n",
        "def vectorize_sentence(sentence,vectorizer,max_len):\n",
        "  #load spell checker\n",
        "  spell_checker = SpellChecker()\n",
        "  #return cleaned sentence\n",
        "  cleaned_sentence = clean_sentence(sentence)\n",
        "  #separate cleaned sentence into words\n",
        "  sentence_lst = cleaned_sentence.split()\n",
        "  num_words = len(sentence_lst)\n",
        "  #placeholder for the 2D array that represents the text command which will be inputted into models\n",
        "  #every text command needs to have the same number of rows for model training purposes \n",
        "  sentence_vector = np.zeros((max_len,300))\n",
        "  #iterate over words in text command\n",
        "  for i in range(num_words):\n",
        "    word = sentence_lst[i]\n",
        "    #only vectorize words that are not stopwords\n",
        "    if word not in stopwords:\n",
        "      #check if the vectorizer has been trained on the word\n",
        "      try:\n",
        "        vectorized_word = vectorizer.wv[word]\n",
        "      #if not check if the spell checker can recognize the word and change it into the correct word\n",
        "      except:\n",
        "        misspelled = spell_checker.unknown([word])\n",
        "        corrected_word = None\n",
        "        for word in misspelled:\n",
        "          corrected_word = spell_checker.correction(word)\n",
        "        #check if the spell checker was able to fix the word\n",
        "        try:\n",
        "          vectorized_word = vectorizer.wv[corrected_word]\n",
        "        #if not then represent the word with an empty array of 0s\n",
        "        except:\n",
        "          vectorized_word = np.zeros(300)\n",
        "    else:\n",
        "      #if the word is a stop word then represent it with an empty array of 0s\n",
        "      vectorized_word = np.zeros(300)\n",
        "    #replace the corresponding index in the text command array with the word array\n",
        "    sentence_vector[i] = vectorized_word\n",
        "  #if the number of words in the text command is shorter than the number of rows in the array,\n",
        "  #the remaining missing space will be empty arrays of 0s\n",
        "  return sentence_vector"
      ],
      "execution_count": 24,
      "outputs": []
    },
    {
      "cell_type": "code",
      "metadata": {
        "id": "cCz-pbIMjb8Q",
        "colab": {
          "base_uri": "https://localhost:8080/"
        },
        "outputId": "4eb4eb9c-5af9-4af4-9686-a46c952f2326"
      },
      "source": [
        "print(torch.tensor(vectorize_sentence('Done with project data cleaning',w,10)))"
      ],
      "execution_count": null,
      "outputs": [
        {
          "output_type": "stream",
          "text": [
            "tensor([[ 0.0654,  0.2305, -0.2891,  ..., -0.2715, -0.0043,  0.1611],\n",
            "        [ 0.0000,  0.0000,  0.0000,  ...,  0.0000,  0.0000,  0.0000],\n",
            "        [-0.0181,  0.0085,  0.0698,  ..., -0.1250, -0.0562, -0.1084],\n",
            "        ...,\n",
            "        [ 0.0000,  0.0000,  0.0000,  ...,  0.0000,  0.0000,  0.0000],\n",
            "        [ 0.0000,  0.0000,  0.0000,  ...,  0.0000,  0.0000,  0.0000],\n",
            "        [ 0.0000,  0.0000,  0.0000,  ...,  0.0000,  0.0000,  0.0000]],\n",
            "       dtype=torch.float64)\n"
          ],
          "name": "stdout"
        },
        {
          "output_type": "stream",
          "text": [
            "/usr/local/lib/python3.6/dist-packages/ipykernel_launcher.py:12: DeprecationWarning: Call to deprecated `wv` (Attribute will be removed in 4.0.0, use self instead).\n",
            "  if sys.path[0] == '':\n"
          ],
          "name": "stderr"
        }
      ]
    },
    {
      "cell_type": "code",
      "metadata": {
        "id": "iQULMiY2iyBb"
      },
      "source": [
        "#function for changing pandas dataframe from sentences to 2D numerical array\n",
        "def vectorize_dataset(df, column, filter=None):\n",
        "  #shuffle dataset around to ensure randomness \n",
        "  df = df.sample(frac=1).reset_index(drop=True)\n",
        "  #if the filter parameter is specified then extract either the task action or project action text commands\n",
        "  if filter != None:\n",
        "    df = df.loc[df['Topic'] == filter]\n",
        "  text_commands = df['Text Command']\n",
        "  num_rows = len(df.index)\n",
        "  #maximum length of text commands \n",
        "  max_len = max([len(text_commands.loc[i].split()) for i in df.index.values])\n",
        "  #3D numerical array of shape (n,max_len,d) where n is the number of text commands, max_len is the maximum length of text commands\n",
        "  #, and d is the feature dimension of the word vector which is 300 for Google Word2Vec\n",
        "  data_vector = np.zeros((num_rows,max_len,300))\n",
        "  idx = 0\n",
        "  #iterate through text commands\n",
        "  for i in df.index.values:\n",
        "    sentence = df.loc[i][0]\n",
        "    #transform text command into vectorized format \n",
        "    vectorized_sentence = vectorize_sentence(sentence,w,max_len) \n",
        "    data_vector[idx] = vectorized_sentence\n",
        "    idx += 1\n",
        "  return data_vector, df[column], max_len, text_commands"
      ],
      "execution_count": 24,
      "outputs": []
    },
    {
      "cell_type": "code",
      "metadata": {
        "id": "frAB-G2wQdFy",
        "colab": {
          "base_uri": "https://localhost:8080/",
          "height": 463
        },
        "outputId": "1d1dd1d0-088e-463a-8bb7-dfabee046178"
      },
      "source": [
        "#load all the data and labels associated with the different use cases\n",
        "topic_data, topic_labels, topic_max_len, topic_text_commands = vectorize_dataset(augmented_data, 'One Hot Encoded Topic')\n",
        "task_action_data, task_action_labels, task_action_max_len, task_action_text_commands = vectorize_dataset(augmented_data, 'One Hot Encoded Action', 'Task')\n",
        "project_action_data, project_action_labels, project_action_max_len, project_action_text_commands = vectorize_dataset(augmented_data, 'One Hot Encoded Action', 'Project')\n"
      ],
      "execution_count": 25,
      "outputs": [
        {
          "output_type": "stream",
          "text": [
            "/usr/local/lib/python3.6/dist-packages/ipykernel_launcher.py:20: DeprecationWarning: Call to deprecated `wv` (Attribute will be removed in 4.0.0, use self instead).\n",
            "/usr/local/lib/python3.6/dist-packages/ipykernel_launcher.py:29: DeprecationWarning: Call to deprecated `wv` (Attribute will be removed in 4.0.0, use self instead).\n"
          ],
          "name": "stderr"
        },
        {
          "output_type": "error",
          "ename": "KeyboardInterrupt",
          "evalue": "ignored",
          "traceback": [
            "\u001b[0;31m---------------------------------------------------------------------------\u001b[0m",
            "\u001b[0;31mKeyboardInterrupt\u001b[0m                         Traceback (most recent call last)",
            "\u001b[0;32m<ipython-input-25-d2720c42ca56>\u001b[0m in \u001b[0;36m<module>\u001b[0;34m()\u001b[0m\n\u001b[1;32m      1\u001b[0m \u001b[0;31m#load all the data and labels associated with the different use cases\u001b[0m\u001b[0;34m\u001b[0m\u001b[0;34m\u001b[0m\u001b[0;34m\u001b[0m\u001b[0m\n\u001b[0;32m----> 2\u001b[0;31m \u001b[0mtopic_data\u001b[0m\u001b[0;34m,\u001b[0m \u001b[0mtopic_labels\u001b[0m\u001b[0;34m,\u001b[0m \u001b[0mtopic_max_len\u001b[0m\u001b[0;34m,\u001b[0m \u001b[0mtopic_text_commands\u001b[0m \u001b[0;34m=\u001b[0m \u001b[0mvectorize_dataset\u001b[0m\u001b[0;34m(\u001b[0m\u001b[0maugmented_data\u001b[0m\u001b[0;34m,\u001b[0m \u001b[0;34m'One Hot Encoded Topic'\u001b[0m\u001b[0;34m)\u001b[0m\u001b[0;34m\u001b[0m\u001b[0;34m\u001b[0m\u001b[0m\n\u001b[0m\u001b[1;32m      3\u001b[0m \u001b[0mtask_action_data\u001b[0m\u001b[0;34m,\u001b[0m \u001b[0mtask_action_labels\u001b[0m\u001b[0;34m,\u001b[0m \u001b[0mtask_action_max_len\u001b[0m\u001b[0;34m,\u001b[0m \u001b[0mtask_action_text_commands\u001b[0m \u001b[0;34m=\u001b[0m \u001b[0mvectorize_dataset\u001b[0m\u001b[0;34m(\u001b[0m\u001b[0maugmented_data\u001b[0m\u001b[0;34m,\u001b[0m \u001b[0;34m'One Hot Encoded Action'\u001b[0m\u001b[0;34m,\u001b[0m \u001b[0;34m'Task'\u001b[0m\u001b[0;34m)\u001b[0m\u001b[0;34m\u001b[0m\u001b[0;34m\u001b[0m\u001b[0m\n\u001b[1;32m      4\u001b[0m \u001b[0mproject_action_data\u001b[0m\u001b[0;34m,\u001b[0m \u001b[0mproject_action_labels\u001b[0m\u001b[0;34m,\u001b[0m \u001b[0mproject_action_max_len\u001b[0m\u001b[0;34m,\u001b[0m \u001b[0mproject_action_text_commands\u001b[0m \u001b[0;34m=\u001b[0m \u001b[0mvectorize_dataset\u001b[0m\u001b[0;34m(\u001b[0m\u001b[0maugmented_data\u001b[0m\u001b[0;34m,\u001b[0m \u001b[0;34m'One Hot Encoded Action'\u001b[0m\u001b[0;34m,\u001b[0m \u001b[0;34m'Project'\u001b[0m\u001b[0;34m)\u001b[0m\u001b[0;34m\u001b[0m\u001b[0;34m\u001b[0m\u001b[0m\n",
            "\u001b[0;32m<ipython-input-24-92b6951d3a6a>\u001b[0m in \u001b[0;36mvectorize_dataset\u001b[0;34m(df, column, filter)\u001b[0m\n\u001b[1;32m     18\u001b[0m     \u001b[0msentence\u001b[0m \u001b[0;34m=\u001b[0m \u001b[0mdf\u001b[0m\u001b[0;34m.\u001b[0m\u001b[0mloc\u001b[0m\u001b[0;34m[\u001b[0m\u001b[0mi\u001b[0m\u001b[0;34m]\u001b[0m\u001b[0;34m[\u001b[0m\u001b[0;36m0\u001b[0m\u001b[0;34m]\u001b[0m\u001b[0;34m\u001b[0m\u001b[0;34m\u001b[0m\u001b[0m\n\u001b[1;32m     19\u001b[0m     \u001b[0;31m#transform text command into vectorized format\u001b[0m\u001b[0;34m\u001b[0m\u001b[0;34m\u001b[0m\u001b[0;34m\u001b[0m\u001b[0m\n\u001b[0;32m---> 20\u001b[0;31m     \u001b[0mvectorized_sentence\u001b[0m \u001b[0;34m=\u001b[0m \u001b[0mvectorize_sentence\u001b[0m\u001b[0;34m(\u001b[0m\u001b[0msentence\u001b[0m\u001b[0;34m,\u001b[0m\u001b[0mw\u001b[0m\u001b[0;34m,\u001b[0m\u001b[0mmax_len\u001b[0m\u001b[0;34m)\u001b[0m\u001b[0;34m\u001b[0m\u001b[0;34m\u001b[0m\u001b[0m\n\u001b[0m\u001b[1;32m     21\u001b[0m     \u001b[0mdata_vector\u001b[0m\u001b[0;34m[\u001b[0m\u001b[0midx\u001b[0m\u001b[0;34m]\u001b[0m \u001b[0;34m=\u001b[0m \u001b[0mvectorized_sentence\u001b[0m\u001b[0;34m\u001b[0m\u001b[0;34m\u001b[0m\u001b[0m\n\u001b[1;32m     22\u001b[0m     \u001b[0midx\u001b[0m \u001b[0;34m+=\u001b[0m \u001b[0;36m1\u001b[0m\u001b[0;34m\u001b[0m\u001b[0;34m\u001b[0m\u001b[0m\n",
            "\u001b[0;32m<ipython-input-23-66b9d6549cea>\u001b[0m in \u001b[0;36mvectorize_sentence\u001b[0;34m(sentence, vectorizer, max_len)\u001b[0m\n\u001b[1;32m      2\u001b[0m \u001b[0;32mdef\u001b[0m \u001b[0mvectorize_sentence\u001b[0m\u001b[0;34m(\u001b[0m\u001b[0msentence\u001b[0m\u001b[0;34m,\u001b[0m\u001b[0mvectorizer\u001b[0m\u001b[0;34m,\u001b[0m\u001b[0mmax_len\u001b[0m\u001b[0;34m)\u001b[0m\u001b[0;34m:\u001b[0m\u001b[0;34m\u001b[0m\u001b[0;34m\u001b[0m\u001b[0m\n\u001b[1;32m      3\u001b[0m   \u001b[0;31m#load spell checker\u001b[0m\u001b[0;34m\u001b[0m\u001b[0;34m\u001b[0m\u001b[0;34m\u001b[0m\u001b[0m\n\u001b[0;32m----> 4\u001b[0;31m   \u001b[0mspell_checker\u001b[0m \u001b[0;34m=\u001b[0m \u001b[0mSpellChecker\u001b[0m\u001b[0;34m(\u001b[0m\u001b[0;34m)\u001b[0m\u001b[0;34m\u001b[0m\u001b[0;34m\u001b[0m\u001b[0m\n\u001b[0m\u001b[1;32m      5\u001b[0m   \u001b[0;31m#return cleaned sentence\u001b[0m\u001b[0;34m\u001b[0m\u001b[0;34m\u001b[0m\u001b[0;34m\u001b[0m\u001b[0m\n\u001b[1;32m      6\u001b[0m   \u001b[0mcleaned_sentence\u001b[0m \u001b[0;34m=\u001b[0m \u001b[0mclean_sentence\u001b[0m\u001b[0;34m(\u001b[0m\u001b[0msentence\u001b[0m\u001b[0;34m)\u001b[0m\u001b[0;34m\u001b[0m\u001b[0;34m\u001b[0m\u001b[0m\n",
            "\u001b[0;32m/usr/local/lib/python3.6/dist-packages/spellchecker/spellchecker.py\u001b[0m in \u001b[0;36m__init__\u001b[0;34m(self, language, local_dictionary, distance, tokenizer, case_sensitive)\u001b[0m\n\u001b[1;32m     59\u001b[0m                 ).format(language.lower())\n\u001b[1;32m     60\u001b[0m                 \u001b[0;32mraise\u001b[0m \u001b[0mValueError\u001b[0m\u001b[0;34m(\u001b[0m\u001b[0mmsg\u001b[0m\u001b[0;34m)\u001b[0m\u001b[0;34m\u001b[0m\u001b[0;34m\u001b[0m\u001b[0m\n\u001b[0;32m---> 61\u001b[0;31m             \u001b[0mself\u001b[0m\u001b[0;34m.\u001b[0m\u001b[0m_word_frequency\u001b[0m\u001b[0;34m.\u001b[0m\u001b[0mload_dictionary\u001b[0m\u001b[0;34m(\u001b[0m\u001b[0mfull_filename\u001b[0m\u001b[0;34m)\u001b[0m\u001b[0;34m\u001b[0m\u001b[0;34m\u001b[0m\u001b[0m\n\u001b[0m\u001b[1;32m     62\u001b[0m \u001b[0;34m\u001b[0m\u001b[0m\n\u001b[1;32m     63\u001b[0m     \u001b[0;32mdef\u001b[0m \u001b[0m__contains__\u001b[0m\u001b[0;34m(\u001b[0m\u001b[0mself\u001b[0m\u001b[0;34m,\u001b[0m \u001b[0mkey\u001b[0m\u001b[0;34m)\u001b[0m\u001b[0;34m:\u001b[0m\u001b[0;34m\u001b[0m\u001b[0;34m\u001b[0m\u001b[0m\n",
            "\u001b[0;32m/usr/local/lib/python3.6/dist-packages/spellchecker/spellchecker.py\u001b[0m in \u001b[0;36mload_dictionary\u001b[0;34m(self, filename, encoding)\u001b[0m\n\u001b[1;32m    420\u001b[0m         \u001b[0;32mwith\u001b[0m \u001b[0mload_file\u001b[0m\u001b[0;34m(\u001b[0m\u001b[0mfilename\u001b[0m\u001b[0;34m,\u001b[0m \u001b[0mencoding\u001b[0m\u001b[0;34m)\u001b[0m \u001b[0;32mas\u001b[0m \u001b[0mdata\u001b[0m\u001b[0;34m:\u001b[0m\u001b[0;34m\u001b[0m\u001b[0;34m\u001b[0m\u001b[0m\n\u001b[1;32m    421\u001b[0m             \u001b[0mdata\u001b[0m \u001b[0;34m=\u001b[0m \u001b[0mdata\u001b[0m \u001b[0;32mif\u001b[0m \u001b[0mself\u001b[0m\u001b[0;34m.\u001b[0m\u001b[0m_case_sensitive\u001b[0m \u001b[0;32melse\u001b[0m \u001b[0mdata\u001b[0m\u001b[0;34m.\u001b[0m\u001b[0mlower\u001b[0m\u001b[0;34m(\u001b[0m\u001b[0;34m)\u001b[0m\u001b[0;34m\u001b[0m\u001b[0;34m\u001b[0m\u001b[0m\n\u001b[0;32m--> 422\u001b[0;31m             \u001b[0mself\u001b[0m\u001b[0;34m.\u001b[0m\u001b[0m_dictionary\u001b[0m\u001b[0;34m.\u001b[0m\u001b[0mupdate\u001b[0m\u001b[0;34m(\u001b[0m\u001b[0mjson\u001b[0m\u001b[0;34m.\u001b[0m\u001b[0mloads\u001b[0m\u001b[0;34m(\u001b[0m\u001b[0mdata\u001b[0m\u001b[0;34m)\u001b[0m\u001b[0;34m)\u001b[0m\u001b[0;34m\u001b[0m\u001b[0;34m\u001b[0m\u001b[0m\n\u001b[0m\u001b[1;32m    423\u001b[0m             \u001b[0mself\u001b[0m\u001b[0;34m.\u001b[0m\u001b[0m_update_dictionary\u001b[0m\u001b[0;34m(\u001b[0m\u001b[0;34m)\u001b[0m\u001b[0;34m\u001b[0m\u001b[0;34m\u001b[0m\u001b[0m\n\u001b[1;32m    424\u001b[0m \u001b[0;34m\u001b[0m\u001b[0m\n",
            "\u001b[0;32m/usr/lib/python3.6/json/__init__.py\u001b[0m in \u001b[0;36mloads\u001b[0;34m(s, encoding, cls, object_hook, parse_float, parse_int, parse_constant, object_pairs_hook, **kw)\u001b[0m\n\u001b[1;32m    352\u001b[0m             \u001b[0mparse_int\u001b[0m \u001b[0;32mis\u001b[0m \u001b[0;32mNone\u001b[0m \u001b[0;32mand\u001b[0m \u001b[0mparse_float\u001b[0m \u001b[0;32mis\u001b[0m \u001b[0;32mNone\u001b[0m \u001b[0;32mand\u001b[0m\u001b[0;34m\u001b[0m\u001b[0;34m\u001b[0m\u001b[0m\n\u001b[1;32m    353\u001b[0m             parse_constant is None and object_pairs_hook is None and not kw):\n\u001b[0;32m--> 354\u001b[0;31m         \u001b[0;32mreturn\u001b[0m \u001b[0m_default_decoder\u001b[0m\u001b[0;34m.\u001b[0m\u001b[0mdecode\u001b[0m\u001b[0;34m(\u001b[0m\u001b[0ms\u001b[0m\u001b[0;34m)\u001b[0m\u001b[0;34m\u001b[0m\u001b[0;34m\u001b[0m\u001b[0m\n\u001b[0m\u001b[1;32m    355\u001b[0m     \u001b[0;32mif\u001b[0m \u001b[0mcls\u001b[0m \u001b[0;32mis\u001b[0m \u001b[0;32mNone\u001b[0m\u001b[0;34m:\u001b[0m\u001b[0;34m\u001b[0m\u001b[0;34m\u001b[0m\u001b[0m\n\u001b[1;32m    356\u001b[0m         \u001b[0mcls\u001b[0m \u001b[0;34m=\u001b[0m \u001b[0mJSONDecoder\u001b[0m\u001b[0;34m\u001b[0m\u001b[0;34m\u001b[0m\u001b[0m\n",
            "\u001b[0;32m/usr/lib/python3.6/json/decoder.py\u001b[0m in \u001b[0;36mdecode\u001b[0;34m(self, s, _w)\u001b[0m\n\u001b[1;32m    337\u001b[0m \u001b[0;34m\u001b[0m\u001b[0m\n\u001b[1;32m    338\u001b[0m         \"\"\"\n\u001b[0;32m--> 339\u001b[0;31m         \u001b[0mobj\u001b[0m\u001b[0;34m,\u001b[0m \u001b[0mend\u001b[0m \u001b[0;34m=\u001b[0m \u001b[0mself\u001b[0m\u001b[0;34m.\u001b[0m\u001b[0mraw_decode\u001b[0m\u001b[0;34m(\u001b[0m\u001b[0ms\u001b[0m\u001b[0;34m,\u001b[0m \u001b[0midx\u001b[0m\u001b[0;34m=\u001b[0m\u001b[0m_w\u001b[0m\u001b[0;34m(\u001b[0m\u001b[0ms\u001b[0m\u001b[0;34m,\u001b[0m \u001b[0;36m0\u001b[0m\u001b[0;34m)\u001b[0m\u001b[0;34m.\u001b[0m\u001b[0mend\u001b[0m\u001b[0;34m(\u001b[0m\u001b[0;34m)\u001b[0m\u001b[0;34m)\u001b[0m\u001b[0;34m\u001b[0m\u001b[0;34m\u001b[0m\u001b[0m\n\u001b[0m\u001b[1;32m    340\u001b[0m         \u001b[0mend\u001b[0m \u001b[0;34m=\u001b[0m \u001b[0m_w\u001b[0m\u001b[0;34m(\u001b[0m\u001b[0ms\u001b[0m\u001b[0;34m,\u001b[0m \u001b[0mend\u001b[0m\u001b[0;34m)\u001b[0m\u001b[0;34m.\u001b[0m\u001b[0mend\u001b[0m\u001b[0;34m(\u001b[0m\u001b[0;34m)\u001b[0m\u001b[0;34m\u001b[0m\u001b[0;34m\u001b[0m\u001b[0m\n\u001b[1;32m    341\u001b[0m         \u001b[0;32mif\u001b[0m \u001b[0mend\u001b[0m \u001b[0;34m!=\u001b[0m \u001b[0mlen\u001b[0m\u001b[0;34m(\u001b[0m\u001b[0ms\u001b[0m\u001b[0;34m)\u001b[0m\u001b[0;34m:\u001b[0m\u001b[0;34m\u001b[0m\u001b[0;34m\u001b[0m\u001b[0m\n",
            "\u001b[0;32m/usr/lib/python3.6/json/decoder.py\u001b[0m in \u001b[0;36mraw_decode\u001b[0;34m(self, s, idx)\u001b[0m\n\u001b[1;32m    353\u001b[0m         \"\"\"\n\u001b[1;32m    354\u001b[0m         \u001b[0;32mtry\u001b[0m\u001b[0;34m:\u001b[0m\u001b[0;34m\u001b[0m\u001b[0;34m\u001b[0m\u001b[0m\n\u001b[0;32m--> 355\u001b[0;31m             \u001b[0mobj\u001b[0m\u001b[0;34m,\u001b[0m \u001b[0mend\u001b[0m \u001b[0;34m=\u001b[0m \u001b[0mself\u001b[0m\u001b[0;34m.\u001b[0m\u001b[0mscan_once\u001b[0m\u001b[0;34m(\u001b[0m\u001b[0ms\u001b[0m\u001b[0;34m,\u001b[0m \u001b[0midx\u001b[0m\u001b[0;34m)\u001b[0m\u001b[0;34m\u001b[0m\u001b[0;34m\u001b[0m\u001b[0m\n\u001b[0m\u001b[1;32m    356\u001b[0m         \u001b[0;32mexcept\u001b[0m \u001b[0mStopIteration\u001b[0m \u001b[0;32mas\u001b[0m \u001b[0merr\u001b[0m\u001b[0;34m:\u001b[0m\u001b[0;34m\u001b[0m\u001b[0;34m\u001b[0m\u001b[0m\n\u001b[1;32m    357\u001b[0m             \u001b[0;32mraise\u001b[0m \u001b[0mJSONDecodeError\u001b[0m\u001b[0;34m(\u001b[0m\u001b[0;34m\"Expecting value\"\u001b[0m\u001b[0;34m,\u001b[0m \u001b[0ms\u001b[0m\u001b[0;34m,\u001b[0m \u001b[0merr\u001b[0m\u001b[0;34m.\u001b[0m\u001b[0mvalue\u001b[0m\u001b[0;34m)\u001b[0m \u001b[0;32mfrom\u001b[0m \u001b[0;32mNone\u001b[0m\u001b[0;34m\u001b[0m\u001b[0;34m\u001b[0m\u001b[0m\n",
            "\u001b[0;31mKeyboardInterrupt\u001b[0m: "
          ]
        }
      ]
    },
    {
      "cell_type": "code",
      "metadata": {
        "id": "AkXKk_f_BRXB"
      },
      "source": [
        "#function for converting the data represented by numpy arrays into tensors\n",
        "def data_to_tensor(labels,data,array_size):\n",
        "  labels_tensor = np.zeros((len(labels.index),array_size))\n",
        "  idx = 0\n",
        "  for i in (labels.index.values):\n",
        "    labels_tensor[idx] = np.fromstring(labels.loc[i][1:-1], dtype=np.float64, sep=',') \n",
        "    idx += 1\n",
        "  data_tensor = torch.tensor(data)\n",
        "  labels_tensor = torch.tensor(labels_tensor)\n",
        "  return labels_tensor, data_tensor"
      ],
      "execution_count": 25,
      "outputs": []
    },
    {
      "cell_type": "code",
      "metadata": {
        "id": "1tTukgpEEo7e"
      },
      "source": [
        "#convert all the data into tensor format \n",
        "topic_labels, topic_data = data_to_tensor(topic_labels,topic_data,2)\n",
        "task_action_labels, task_action_data = data_to_tensor(task_action_labels,task_action_data,5)\n",
        "project_action_labels, project_action_data = data_to_tensor(project_action_labels, project_action_data,5)\n",
        "\n"
      ],
      "execution_count": null,
      "outputs": []
    },
    {
      "cell_type": "code",
      "metadata": {
        "id": "oBGPA9g6l58d"
      },
      "source": [
        "device = torch.device(\"cuda\" if torch.cuda.is_available() else \"cpu\")\n",
        "#loading the data can take some time so you can just load the data from saved PyTorch files\n",
        "mydrive = True\n",
        "if mydrive:\n",
        "  topic_labels = torch.load('./drive/My Drive/tensors/topic_labels.pt').to(device)\n",
        "  topic_data = torch.load('./drive/My Drive/tensors/topic_data.pt').to(device)\n",
        "  task_action_labels = torch.load('./drive/My Drive/tensors/task_action_labels.pt').to(device)\n",
        "  task_action_data = torch.load('./drive/My Drive/tensors/task_action_data.pt').to(device)\n",
        "  project_action_labels = torch.load('./drive/My Drive/tensors/project_action_labels.pt').to(device)\n",
        "  project_action_data = torch.load('./drive/My Drive/tensors/project_action_data.pt').to(device)\n",
        "else:\n",
        "  topic_labels = torch.load('./data/tensors/topic_labels.pt').to(device)\n",
        "  topic_data = torch.load('./data/tensors/topic_data.pt').to(device)\n",
        "  task_action_labels = torch.load('./data/tensors/task_action_labels.pt').to(device)\n",
        "  task_action_data = torch.load('./data/tensors/task_action_data.pt').to(device)\n",
        "  project_action_labels = torch.load('./data/tensors/project_action_labels.pt').to(device)\n",
        "  project_action_data = torch.load('./data/tensors/project_action_data.pt').to(device)"
      ],
      "execution_count": 16,
      "outputs": []
    },
    {
      "cell_type": "code",
      "metadata": {
        "id": "Ki5pArx7TBUE"
      },
      "source": [
        "#LSTM architecture that takes input of vectorized sentences and outputs log probability for each topic\n",
        "class TopicModel(nn.Module):\n",
        "  def __init__(self):\n",
        "    super(TopicModel,self).__init__()\n",
        "    #feature dimension of input data is 300, there are 100 hidden nodes in LSTM unit layers, and the model will be trained in batch format\n",
        "    self.lstm = nn.LSTM(300,100,batch_first = True)\n",
        "    \"\"\"Change the second parameter according to whether topic or project and task are being trained. 2 is for topic, 5 is for project/task\"\"\"\n",
        "    #fully connected layer that connects the 100 dimension last hidden state to the number of possible labels \n",
        "    self.outputtopic = nn.Linear(100,5)\n",
        "    #Logsoftmax layer that converts outputs into log probabilities \n",
        "    self.softmax = nn.LogSoftmax(dim=-1)\n",
        "\n",
        "  #function for forward pass of model using batch input \n",
        "  def forward(self,x):\n",
        "    #output is the values for every hidden state in the LSTM. h_n and c_n are the hidden state and cell state from the last unit in the LSTM\n",
        "    output, (h_n,c_n) = self.lstm(x)\n",
        "    #send the last hidden state through the fully connected linear layer \n",
        "    outputt = self.outputtopic(h_n)\n",
        "    #send the outputs through Logsoftmax layer \n",
        "    prob_output = self.softmax(outputt)\n",
        "    return prob_output\n",
        "\n"
      ],
      "execution_count": 26,
      "outputs": []
    },
    {
      "cell_type": "code",
      "metadata": {
        "id": "H8G1LsToZw4w"
      },
      "source": [
        "#set feature size of hidden units\n",
        "hidden_size = 100\n",
        "\n",
        "#feature dimension of Google Word2Vec word vector(default is 300)\n",
        "input_size = 300\n",
        "\"\"\"Change this number according to whether topic or project and task are being trained. 2 is for topic, 5 is for project/task\"\"\"\n",
        "#number of topics to predict\n",
        "num_topics = 5\n",
        "\n",
        "#set learning rate \n",
        "lr = .1\n",
        "\n",
        "#set training loss metric\n",
        "loss_metric = nn.NLLLoss()"
      ],
      "execution_count": 25,
      "outputs": []
    },
    {
      "cell_type": "code",
      "metadata": {
        "id": "TAQ4k_0vpGQ0"
      },
      "source": [
        "#rename data for training purposes \n",
        "topic_text_commands = topic_data\n",
        "project_action_text_commands = project_action_data\n",
        "task_action_text_commands = task_action_data\n"
      ],
      "execution_count": 13,
      "outputs": []
    },
    {
      "cell_type": "code",
      "metadata": {
        "id": "Pp_Oz8mZC0t_"
      },
      "source": [
        "def train(topic_tensor, text_command_tensor):\n",
        "    #indicate that model will be training \n",
        "    model.train()\n",
        "    #reset the model gradients to 0\n",
        "    model.zero_grad()\n",
        "    #predicted label from model\n",
        "    output = model(text_command_tensor.float())[0]\n",
        "    idxs = torch.argmax(topic_tensor,dim=-1)\n",
        "    #calculate negative log likelihood loss from batch of data \n",
        "    loss = loss_metric(output, idxs)\n",
        "    #backpropogate through the model based on NLL loss\n",
        "    loss.backward()\n",
        "    #update model parameters using gradients \n",
        "    optimizer.step()\n",
        "    \n",
        "\n",
        "    return output, loss.item()"
      ],
      "execution_count": 8,
      "outputs": []
    },
    {
      "cell_type": "code",
      "metadata": {
        "id": "O5Px2RUnzbEL"
      },
      "source": [
        "#function for testing model on batch of data\n",
        "def test(model, topic_tensor, text_command_tensor):\n",
        "  #indicate that model is not training \n",
        "  model.eval()\n",
        "  #calculate NLL loss without reducing meaning return loss for every text command \n",
        "  loss_metric = nn.NLLLoss(reduction='none')\n",
        "  num_labels = len(topic_tensor[0])\n",
        "  #model predictions on testing text commands\n",
        "  preds = model(text_command_tensor.float())[0]\n",
        "  #indexes of max log probability for each prediction \n",
        "  idxs = torch.argmax(topic_tensor[0],dim=-1)\n",
        "  #compute NLL loss for entire testing text commands using the correct indexes and predictions \n",
        "  loss = loss_metric(preds, idxs)\n",
        "  \"\"\"Change these values to either 2 or 5 zeros based on what labels the model is training on \"\"\"\n",
        "  #NLL losses for individual labels\n",
        "  label_losses = torch.zeros(5)\n",
        "  label_counts = torch.zeros(5)\n",
        "  correct = 0\n",
        "  #iterate over the labels in the dataset\n",
        "  for i in range(num_labels):\n",
        "    label = topic_tensor[0][i]\n",
        "    label_idx = torch.argmax(label)\n",
        "    #update the count of the specific label\n",
        "    label_counts[label_idx] += 1\n",
        "    \"\"\"Change this value to either 2 or 5 zeros based on what labels the model is training on \"\"\"\n",
        "    #NLL loss for the all labels set to 0\n",
        "    label_loss = torch.zeros(5)\n",
        "    #set the NLL loss for the specific label\n",
        "    label_loss[label_idx] = loss[i]\n",
        "    #update the NLL losses for all labels using the specific label loss \n",
        "    label_losses += label_loss\n",
        "    pred = preds[i]\n",
        "    pred_idx = torch.argmax(pred)\n",
        "    #if predicted label equals ground truth label then increment count of correct labels\n",
        "    if pred_idx == label_idx:\n",
        "      correct += 1\n",
        "  return ((correct/num_labels), label_losses/label_counts)\n",
        "\n"
      ],
      "execution_count": 27,
      "outputs": []
    },
    {
      "cell_type": "code",
      "metadata": {
        "id": "JL2aPOiFey9Y"
      },
      "source": [
        "#function for making prediction on input text command \n",
        "def predict(model, text_input, wordvec,label2pred):\n",
        "  model.eval()\n",
        "  vectorized_sentence = vectorize_sentence(text_input,wordvec,10)\n",
        "  sentence_tensor = torch.tensor(vectorized_sentence)\n",
        "  batch_sentence_tensor = torch.unsqueeze(sentence_tensor,0)\n",
        "  #returns array of log probabilities assigned to each label \n",
        "  pred = model(batch_sentence_tensor.float())\n",
        "  #return label2pred[int(torch.argmax(pred,dim=-1))]\n",
        "  return pred\n"
      ],
      "execution_count": 10,
      "outputs": []
    },
    {
      "cell_type": "code",
      "metadata": {
        "id": "35wS5h08J4lA"
      },
      "source": [
        "#function for calculating the optimal confidence threshold that determines whether model should return prediction or not \n",
        "def optimize(model, topic_tensor, text_command_tensor,prob_thresh,weights):\n",
        "  model.eval()\n",
        "  num_labels = len(topic_tensor[0])\n",
        "  preds = model(text_command_tensor.float())[0]\n",
        "  idxs = torch.argmax(topic_tensor[0],dim=-1)\n",
        "  loss = loss_metric(preds, idxs)\n",
        "  #based on inputted weights, check out many correct, incorrect, and non predictions are made\n",
        "  correct = 0\n",
        "  incorrect = 0\n",
        "  NA = 0\n",
        "  #log probability based on inputted probability threshold \n",
        "  log_prob_thresh = np.log(prob_thresh)\n",
        "  #iterate over predictions \n",
        "  for i in range(num_labels):\n",
        "    pred = preds[i]\n",
        "    pred_idx = torch.argmax(pred)\n",
        "    #find the maximum log probability assigned to the labels \n",
        "    pred_log_prob = torch.max(pred)\n",
        "    label = topic_tensor[0][i]\n",
        "    label_idx = torch.argmax(label)\n",
        "    #if the maximum log probability is greater than or equal to the log probability threshold \n",
        "    if pred_log_prob >= log_prob_thresh:\n",
        "      #if prediction is correct then update count\n",
        "      if pred_idx == label_idx:\n",
        "        correct += 1\n",
        "      #if prediction is wrong then update count\n",
        "      else:\n",
        "        incorrect += 1\n",
        "    #if the log probability is less than, update count \n",
        "    else:\n",
        "      NA += 1\n",
        "  #calculate the total number of time that would be saved if a user typed every text command from the inputted dataset\n",
        "  #given that the model is using the inputted confidence threshold. The inputted weights represent how much time is \n",
        "  #saved through a correct prediction, how much time is lost through a non prediction, and how much time is lost through an incorrect prediction \n",
        "  time_saved = correct*weights[0]-incorrect*weights[1]-NA*weights[2]\n",
        "  return time_saved"
      ],
      "execution_count": 11,
      "outputs": []
    },
    {
      "cell_type": "code",
      "metadata": {
        "id": "X0qHMGo8lIpO",
        "colab": {
          "base_uri": "https://localhost:8080/"
        },
        "outputId": "d939c159-74a3-4b46-dc28-c6ac63a80e17"
      },
      "source": [
        "#if the runtime type is set to GPU, PyTorch will use cuda which is faster \n",
        "device = torch.device(\"cuda\" if torch.cuda.is_available() else \"cpu\")\n",
        "#number of training iterations\n",
        "epochs = 100\n",
        "#set batch size \n",
        "batch_size = 40\n",
        "\n",
        "topic_max_len = 16\n",
        "\n",
        "# Keep track of losses for plotting\n",
        "testing_losses = []\n",
        "testing_accuracies = []\n",
        "testing_losses = torch.zeros(2)\n",
        "#number of times to train and test the model\n",
        "for i in range(1):\n",
        "  print(i)\n",
        "  current_loss = 0\n",
        "  all_losses = []\n",
        "  model = TopicModel().to(device)\n",
        "  optimizer = optim.SGD(model.parameters(), lr=lr)\n",
        "  #shuffle around dataset \n",
        "  idxs = torch.randperm(len(topic_text_commands))\n",
        "  text_commands = topic_text_commands[idxs]\n",
        "  labels = topic_labels[idxs]\n",
        "  #split the training and testing text commands using an 80/20 split \n",
        "  training_text_commands,testing_text_commands = text_commands[:5520], text_commands[5520:6900]\n",
        "  training_labels, testing_labels = labels[:5520], labels[5520:6900]\n",
        "\n",
        "  #set number of batches\n",
        "  training_num_batches = int(len(training_text_commands)/batch_size) \n",
        "\n",
        "  #reshape text commands and labels to fit training\n",
        "  training_text_commands = torch.reshape(training_text_commands,(training_num_batches,batch_size,topic_max_len,300))\n",
        "  training_labels = torch.reshape(training_labels,(training_num_batches,batch_size,num_topics))\n",
        "  testing_labels = torch.reshape(testing_labels,(1,testing_labels.shape[0],testing_labels.shape[1]))\n",
        "  training_losses = []\n",
        "  training_iter_accuracies = []\n",
        "  #iterate over training iterations \n",
        "  for iter in range(1, epochs + 1):\n",
        "    #training using mini batch gradient descent so we iterate over the text command batches \n",
        "    for batch_iter in range(training_num_batches):\n",
        "      text_batch, label_batch = training_text_commands[batch_iter], training_labels[batch_iter]\n",
        "      #train and update the model using the current batch \n",
        "      output, loss = train(label_batch, text_batch)\n",
        "      #add batch loss to running sum of training loss \n",
        "      current_loss += loss\n",
        "    #add average training loss across all batches to list \n",
        "    training_losses.append(current_loss/training_num_batches)\n",
        "\n",
        "    #once the model has finished training for the current iteration \n",
        "    testing_accuracy, testing_loss = test(model, testing_labels, testing_text_commands)\n",
        "    training_iter_accuracies.append(testing_accuracy)\n",
        "    if iter == epochs:\n",
        "      #calculate testing accuracy and testing loss per label for testing dataset \n",
        "      testing_accuracies.append(testing_accuracy)\n",
        "      testing_losses += testing_loss\n",
        "    #reset the training loss for the next training epoch\n",
        "    current_loss = 0\n"
      ],
      "execution_count": 20,
      "outputs": [
        {
          "output_type": "stream",
          "text": [
            "0\n"
          ],
          "name": "stdout"
        }
      ]
    },
    {
      "cell_type": "code",
      "metadata": {
        "id": "xnyNS8dplIYG",
        "colab": {
          "base_uri": "https://localhost:8080/"
        },
        "outputId": "bcd9384a-b12b-4672-e5d8-5a2f8a866b27"
      },
      "source": [
        "#average testing accuracy across iterations\n",
        "sum(testing_accuracies)/len(testing_accuracies)"
      ],
      "execution_count": 21,
      "outputs": [
        {
          "output_type": "execute_result",
          "data": {
            "text/plain": [
              "0.9681159420289855"
            ]
          },
          "metadata": {
            "tags": []
          },
          "execution_count": 21
        }
      ]
    },
    {
      "cell_type": "code",
      "metadata": {
        "colab": {
          "base_uri": "https://localhost:8080/"
        },
        "id": "OYWXGKitSJl5",
        "outputId": "ea6dece7-7f6c-4054-fd96-72439c594659"
      },
      "source": [
        "#average cross entropy loss per label across iterations\n",
        "testing_losses/len(testing_accuracies)"
      ],
      "execution_count": 24,
      "outputs": [
        {
          "output_type": "execute_result",
          "data": {
            "text/plain": [
              "tensor([0.0738, 0.2236], grad_fn=<DivBackward0>)"
            ]
          },
          "metadata": {
            "tags": []
          },
          "execution_count": 24
        }
      ]
    },
    {
      "cell_type": "code",
      "metadata": {
        "id": "e8ZMMSTbLa3G",
        "colab": {
          "base_uri": "https://localhost:8080/",
          "height": 312
        },
        "outputId": "496dd4c4-0c86-455a-bd85-e0d91da39cfc"
      },
      "source": [
        "plt.figure()\n",
        "plt.title('Topic Training Loss and Testing Accuracy Per Epoch ')\n",
        "plt.xlabel('Epoch')\n",
        "plt.ylabel('Loss and Accuracy')\n",
        "plt.plot(training_losses,label='Training Loss')\n",
        "plt.plot(training_iter_accuracies,label='Testing Accuracy')\n",
        "plt.legend(loc='center right')\n"
      ],
      "execution_count": 22,
      "outputs": [
        {
          "output_type": "execute_result",
          "data": {
            "text/plain": [
              "<matplotlib.legend.Legend at 0x7f080269f278>"
            ]
          },
          "metadata": {
            "tags": []
          },
          "execution_count": 22
        },
        {
          "output_type": "display_data",
          "data": {
            "image/png": "[encoded data removed]",
            "text/plain": [
              "<Figure size 432x288 with 1 Axes>"
            ]
          },
          "metadata": {
            "tags": [],
            "needs_background": "light"
          }
        }
      ]
    },
    {
      "cell_type": "code",
      "metadata": {
        "id": "2rv_Lzt8BPVB",
        "colab": {
          "base_uri": "https://localhost:8080/"
        },
        "outputId": "ffb28674-c58c-4c2f-a780-35b56ecd8177"
      },
      "source": [
        "device = torch.device(\"cuda\" if torch.cuda.is_available() else \"cpu\")\n",
        "#Training project action\n",
        "epochs = 150\n",
        "#set batch size \n",
        "batch_size = 40\n",
        "\n",
        "project_action_max_len = 16\n",
        "\n",
        "# Keep track of losses for plotting\n",
        "testing_losses = []\n",
        "testing_accuracies = []\n",
        "testing_losses = torch.zeros(5)\n",
        "for i in range(1):\n",
        "  print(i)\n",
        "  current_loss = 0\n",
        "  all_losses = []\n",
        "  model = TopicModel().to(device)\n",
        "  optimizer = optim.SGD(model.parameters(), lr=lr)\n",
        "\n",
        "  idxs = torch.randperm(len(project_action_text_commands))\n",
        "  text_commands = project_action_text_commands[idxs]\n",
        "  labels = project_action_labels[idxs]\n",
        "\n",
        "  training_text_commands,testing_text_commands = text_commands[:2480], text_commands[2480:3100]\n",
        "  training_labels, testing_labels = labels[:2480], labels[2480:3100]\n",
        "\n",
        "  #set number of batches\n",
        "  training_num_batches = int(len(training_text_commands)/batch_size) \n",
        "\n",
        "  #reshape text commands and labels to fit training\n",
        "  training_text_commands = torch.reshape(training_text_commands,(training_num_batches,batch_size,project_action_max_len,300))\n",
        "  training_labels = torch.reshape(training_labels,(training_num_batches,batch_size,num_topics))\n",
        "  testing_labels = torch.reshape(testing_labels,(1,testing_labels.shape[0],testing_labels.shape[1]))\n",
        "  training_losses = []\n",
        "  training_iter_accuracies = []\n",
        "  for iter in range(1, epochs + 1):\n",
        "    for batch_iter in range(training_num_batches):\n",
        "      text_batch, label_batch = training_text_commands[batch_iter], training_labels[batch_iter]\n",
        "      output, loss = train(label_batch, text_batch)\n",
        "      current_loss += loss\n",
        "    # Add current loss avg to list of losses\n",
        "    training_losses.append(current_loss/training_num_batches)\n",
        "    testing_accuracy, testing_loss = test(model, testing_labels, testing_text_commands)\n",
        "    training_iter_accuracies.append(testing_accuracy)\n",
        "    if iter == epochs:\n",
        "      testing_accuracies.append(testing_accuracy)\n",
        "      testing_losses += testing_loss\n",
        "    current_loss = 0\n",
        "times_saved = []\n",
        "for i in range(100):\n",
        "  percent = i/100\n",
        "  time_saved = optimize(model,testing_labels,testing_text_commands,percent,[4,28,12])\n",
        "  times_saved.append(time_saved)"
      ],
      "execution_count": 28,
      "outputs": [
        {
          "output_type": "stream",
          "text": [
            "0\n"
          ],
          "name": "stdout"
        },
        {
          "output_type": "stream",
          "text": [
            "/usr/local/lib/python3.6/dist-packages/ipykernel_launcher.py:13: RuntimeWarning: divide by zero encountered in log\n",
            "  del sys.path[0]\n"
          ],
          "name": "stderr"
        }
      ]
    },
    {
      "cell_type": "code",
      "metadata": {
        "colab": {
          "base_uri": "https://localhost:8080/"
        },
        "id": "8C6NuuP7LQTF",
        "outputId": "904b4e73-42bc-4bc2-f5d3-65db0ad4b64e"
      },
      "source": [
        "sum(testing_accuracies)/len(testing_accuracies)"
      ],
      "execution_count": 29,
      "outputs": [
        {
          "output_type": "execute_result",
          "data": {
            "text/plain": [
              "0.9129032258064517"
            ]
          },
          "metadata": {
            "tags": []
          },
          "execution_count": 29
        }
      ]
    },
    {
      "cell_type": "code",
      "metadata": {
        "colab": {
          "base_uri": "https://localhost:8080/"
        },
        "id": "5ct50lCXzcvI",
        "outputId": "1ea94a6b-b8db-4345-9652-1d328c3faa10"
      },
      "source": [
        "testing_losses/len(testing_accuracies)"
      ],
      "execution_count": 30,
      "outputs": [
        {
          "output_type": "execute_result",
          "data": {
            "text/plain": [
              "tensor([0.6955, 0.0813, 0.3555, 0.8860, 0.2115], grad_fn=<DivBackward0>)"
            ]
          },
          "metadata": {
            "tags": []
          },
          "execution_count": 30
        }
      ]
    },
    {
      "cell_type": "code",
      "metadata": {
        "colab": {
          "base_uri": "https://localhost:8080/",
          "height": 312
        },
        "id": "-QCkQZ6LI8-Y",
        "outputId": "71b4fb72-5663-4715-c58b-e7c29c6cfe2d"
      },
      "source": [
        "plt.figure()\n",
        "plt.title('Project Action Training Loss and Testing Accuracy Per Epoch ')\n",
        "plt.xlabel('Epoch')\n",
        "plt.ylabel('Loss and Accuracy')\n",
        "plt.plot(training_losses,label='Training Loss')\n",
        "plt.plot(training_iter_accuracies,label='Testing Accuracy')\n",
        "plt.legend(loc='upper right')"
      ],
      "execution_count": 34,
      "outputs": [
        {
          "output_type": "execute_result",
          "data": {
            "text/plain": [
              "<matplotlib.legend.Legend at 0x7f07f1fdbe80>"
            ]
          },
          "metadata": {
            "tags": []
          },
          "execution_count": 34
        },
        {
          "output_type": "display_data",
          "data": {
            "image/png": "[encoded data removed]",
            "text/plain": [
              "<Figure size 432x288 with 1 Axes>"
            ]
          },
          "metadata": {
            "tags": [],
            "needs_background": "light"
          }
        }
      ]
    },
    {
      "cell_type": "code",
      "metadata": {
        "colab": {
          "base_uri": "https://localhost:8080/",
          "height": 312
        },
        "id": "5PWxybsb1HuN",
        "outputId": "0c27390f-ae5e-4fec-9176-488241a2af90"
      },
      "source": [
        "plt.figure()\n",
        "plt.title('Project Action Time Saved Per Probability Threshold')\n",
        "plt.xlabel('Probability Threshold')\n",
        "plt.ylabel('Time Saved')\n",
        "plt.plot(times_saved)"
      ],
      "execution_count": 32,
      "outputs": [
        {
          "output_type": "execute_result",
          "data": {
            "text/plain": [
              "[<matplotlib.lines.Line2D at 0x7f08020c8898>]"
            ]
          },
          "metadata": {
            "tags": []
          },
          "execution_count": 32
        },
        {
          "output_type": "display_data",
          "data": {
            "image/png": "[encoded data removed]",
            "text/plain": [
              "<Figure size 432x288 with 1 Axes>"
            ]
          },
          "metadata": {
            "tags": [],
            "needs_background": "light"
          }
        }
      ]
    },
    {
      "cell_type": "code",
      "metadata": {
        "colab": {
          "base_uri": "https://localhost:8080/"
        },
        "id": "X05DvcdL1cT4",
        "outputId": "1b605c9f-eead-43da-ff25-7f311cd9052a"
      },
      "source": [
        "torch.argmax(torch.tensor(times_saved))"
      ],
      "execution_count": 33,
      "outputs": [
        {
          "output_type": "execute_result",
          "data": {
            "text/plain": [
              "tensor(58)"
            ]
          },
          "metadata": {
            "tags": []
          },
          "execution_count": 33
        }
      ]
    },
    {
      "cell_type": "code",
      "metadata": {
        "id": "2Z0WhKEECT_0",
        "colab": {
          "base_uri": "https://localhost:8080/"
        },
        "outputId": "c1f9da71-b598-40dd-db5d-6fc5f689bf8b"
      },
      "source": [
        "device = torch.device(\"cuda\" if torch.cuda.is_available() else \"cpu\")\n",
        "#Training task action\n",
        "epochs = 205\n",
        "#set batch size \n",
        "batch_size = 40\n",
        "\n",
        "task_action_max_len = 15\n",
        "\n",
        "# Keep track of losses for plotting\n",
        "testing_losses = []\n",
        "testing_accuracies = []\n",
        "testing_losses = torch.zeros(5)\n",
        "for i in range(1):\n",
        "  print(i)\n",
        "  current_loss = 0\n",
        "  all_losses = []\n",
        "  model = TopicModel().to(device)\n",
        "  optimizer = optim.SGD(model.parameters(), lr=lr)\n",
        "\n",
        "  idxs = torch.randperm(len(task_action_text_commands))\n",
        "  text_commands = task_action_text_commands[idxs]\n",
        "  labels = task_action_labels[idxs]\n",
        "\n",
        "  training_text_commands,testing_text_commands = text_commands[:2960], text_commands[2960:3700]\n",
        "  training_labels, testing_labels = labels[:2960], labels[2960:3700]\n",
        "\n",
        "  #set number of batches\n",
        "  training_num_batches = int(len(training_text_commands)/batch_size) \n",
        "\n",
        "  #reshape text commands and labels to fit training\n",
        "  training_text_commands = torch.reshape(training_text_commands,(training_num_batches,batch_size,task_action_max_len,300))\n",
        "  training_labels = torch.reshape(training_labels,(training_num_batches,batch_size,num_topics))\n",
        "  testing_labels = torch.reshape(testing_labels,(1,testing_labels.shape[0],testing_labels.shape[1]))\n",
        "  training_losses = []\n",
        "  training_iter_accuracies = []\n",
        "  for iter in range(1, epochs + 1):\n",
        "    for batch_iter in range(training_num_batches):\n",
        "      text_batch, label_batch = training_text_commands[batch_iter], training_labels[batch_iter]\n",
        "      output, loss = train(label_batch, text_batch)\n",
        "      current_loss += loss\n",
        "\n",
        "    training_losses.append(current_loss/training_num_batches)\n",
        "    testing_accuracy, testing_loss = test(model, testing_labels, testing_text_commands)\n",
        "    training_iter_accuracies.append(testing_accuracy)\n",
        "    # Add current loss avg to list of losses\n",
        "    if iter == epochs:\n",
        "      testing_accuracies.append(testing_accuracy)\n",
        "      testing_losses += testing_loss\n",
        "    \n",
        "    current_loss = 0\n",
        "times_saved = []\n",
        "for i in range(100):\n",
        "  percent = i/100\n",
        "  time_saved = optimize(model,testing_labels,testing_text_commands,percent,[4,28,12])\n",
        "  times_saved.append(time_saved)"
      ],
      "execution_count": 35,
      "outputs": [
        {
          "output_type": "stream",
          "text": [
            "0\n"
          ],
          "name": "stdout"
        },
        {
          "output_type": "stream",
          "text": [
            "/usr/local/lib/python3.6/dist-packages/ipykernel_launcher.py:13: RuntimeWarning: divide by zero encountered in log\n",
            "  del sys.path[0]\n"
          ],
          "name": "stderr"
        }
      ]
    },
    {
      "cell_type": "code",
      "metadata": {
        "colab": {
          "base_uri": "https://localhost:8080/"
        },
        "id": "DjYcvr2MCbON",
        "outputId": "e5caf267-cc2d-40b8-918b-5c9258b3cca7"
      },
      "source": [
        "sum(testing_accuracies)/len(testing_accuracies)"
      ],
      "execution_count": 36,
      "outputs": [
        {
          "output_type": "execute_result",
          "data": {
            "text/plain": [
              "0.927027027027027"
            ]
          },
          "metadata": {
            "tags": []
          },
          "execution_count": 36
        }
      ]
    },
    {
      "cell_type": "code",
      "metadata": {
        "colab": {
          "base_uri": "https://localhost:8080/"
        },
        "id": "l1CMLJASCb16",
        "outputId": "566fe6cf-180a-46bc-883c-4e83b29f379a"
      },
      "source": [
        "testing_losses/len(testing_accuracies)"
      ],
      "execution_count": 37,
      "outputs": [
        {
          "output_type": "execute_result",
          "data": {
            "text/plain": [
              "tensor([0.5786, 0.2339, 0.3814, 0.5018, 0.3742], grad_fn=<DivBackward0>)"
            ]
          },
          "metadata": {
            "tags": []
          },
          "execution_count": 37
        }
      ]
    },
    {
      "cell_type": "code",
      "metadata": {
        "colab": {
          "base_uri": "https://localhost:8080/",
          "height": 312
        },
        "id": "dlZHBbBPOcDT",
        "outputId": "62a073a7-75d3-4426-f76d-a731417fc7a8"
      },
      "source": [
        "plt.figure()\n",
        "plt.title('Task Action Training Loss and Testing Accuracy Per Epoch ')\n",
        "plt.xlabel('Epoch')\n",
        "plt.ylabel('Loss and Accuracy')\n",
        "plt.plot(training_losses,label='Training Loss')\n",
        "plt.plot(training_iter_accuracies,label='Testing Accuracy')\n",
        "plt.legend(loc='upper right')"
      ],
      "execution_count": 39,
      "outputs": [
        {
          "output_type": "execute_result",
          "data": {
            "text/plain": [
              "<matplotlib.legend.Legend at 0x7f07f1f61e48>"
            ]
          },
          "metadata": {
            "tags": []
          },
          "execution_count": 39
        },
        {
          "output_type": "display_data",
          "data": {
            "image/png": "[encoded data removed]",
            "text/plain": [
              "<Figure size 432x288 with 1 Axes>"
            ]
          },
          "metadata": {
            "tags": [],
            "needs_background": "light"
          }
        }
      ]
    },
    {
      "cell_type": "code",
      "metadata": {
        "colab": {
          "base_uri": "https://localhost:8080/",
          "height": 312
        },
        "id": "9LEntg_i4JMz",
        "outputId": "f4976e41-8d44-4006-d73b-d2906a77d595"
      },
      "source": [
        "plt.figure()\n",
        "plt.title('Task Action Time Saved Per Probability Threshold')\n",
        "plt.xlabel('Probability Threshold')\n",
        "plt.ylabel('Time Saved')\n",
        "plt.plot(times_saved)"
      ],
      "execution_count": 19,
      "outputs": [
        {
          "output_type": "execute_result",
          "data": {
            "text/plain": [
              "[<matplotlib.lines.Line2D at 0x7f994583f0f0>]"
            ]
          },
          "metadata": {
            "tags": []
          },
          "execution_count": 19
        },
        {
          "output_type": "display_data",
          "data": {
            "image/png": "[encoded data removed]",
            "text/plain": [
              "<Figure size 432x288 with 1 Axes>"
            ]
          },
          "metadata": {
            "tags": [],
            "needs_background": "light"
          }
        }
      ]
    },
    {
      "cell_type": "code",
      "metadata": {
        "colab": {
          "base_uri": "https://localhost:8080/"
        },
        "id": "H8bOmBoI9LJc",
        "outputId": "6647d219-aec2-4af3-e8db-d7eac4452766"
      },
      "source": [
        "torch.argmax(torch.tensor(times_saved))"
      ],
      "execution_count": 20,
      "outputs": [
        {
          "output_type": "execute_result",
          "data": {
            "text/plain": [
              "tensor(73)"
            ]
          },
          "metadata": {
            "tags": []
          },
          "execution_count": 20
        }
      ]
    }
  ]
}