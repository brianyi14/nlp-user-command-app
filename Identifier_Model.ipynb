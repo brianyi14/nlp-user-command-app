{
 "cells": [
  {
   "cell_type": "markdown",
   "metadata": {},
   "source": [
    "# Locating Identifier: POS Tagging"
   ]
  },
  {
   "cell_type": "code",
   "execution_count": 1,
   "metadata": {},
   "outputs": [],
   "source": [
    "import spacy\n",
    "import en_core_web_sm\n",
    "import pandas as pd\n",
    "import matplotlib.pyplot as plt\n",
    "from nltk.stem import PorterStemmer"
   ]
  },
  {
   "cell_type": "markdown",
   "metadata": {},
   "source": [
    "spaCy linguistic features: https://spacy.io/usage/linguistic-features#pos-tagging"
   ]
  },
  {
   "cell_type": "code",
   "execution_count": 2,
   "metadata": {},
   "outputs": [],
   "source": [
    "#load the part of speech tagger\n",
    "nlp = en_core_web_sm.load()"
   ]
  },
  {
   "cell_type": "code",
   "execution_count": 3,
   "metadata": {},
   "outputs": [
    {
     "data": {
      "text/plain": [
       "'help'"
      ]
     },
     "execution_count": 3,
     "metadata": {},
     "output_type": "execute_result"
    }
   ],
   "source": [
    "ps = PorterStemmer()\n",
    "ps.stem('help')"
   ]
  },
  {
   "cell_type": "code",
   "execution_count": 4,
   "metadata": {},
   "outputs": [
    {
     "data": {
      "text/html": [
       "<div>\n",
       "<style scoped>\n",
       "    .dataframe tbody tr th:only-of-type {\n",
       "        vertical-align: middle;\n",
       "    }\n",
       "\n",
       "    .dataframe tbody tr th {\n",
       "        vertical-align: top;\n",
       "    }\n",
       "\n",
       "    .dataframe thead th {\n",
       "        text-align: right;\n",
       "    }\n",
       "</style>\n",
       "<table border=\"1\" class=\"dataframe\">\n",
       "  <thead>\n",
       "    <tr style=\"text-align: right;\">\n",
       "      <th></th>\n",
       "      <th>Text Command</th>\n",
       "      <th>Topic</th>\n",
       "      <th>Identifier</th>\n",
       "      <th>Action</th>\n",
       "      <th>One Hot Encoded Topic</th>\n",
       "      <th>One Hot Encoded Action</th>\n",
       "      <th>Verb/Noun</th>\n",
       "    </tr>\n",
       "  </thead>\n",
       "  <tbody>\n",
       "    <tr>\n",
       "      <th>0</th>\n",
       "      <td>finish plan Developing editorial calendar for ...</td>\n",
       "      <td>Project</td>\n",
       "      <td>Developing editorial calendar for content sharing</td>\n",
       "      <td>Completed</td>\n",
       "      <td>[0,1]</td>\n",
       "      <td>[0,0,0,0,1]</td>\n",
       "      <td>SYNREPLACED</td>\n",
       "    </tr>\n",
       "    <tr>\n",
       "      <th>1</th>\n",
       "      <td>move plan Developing editorial calendar for co...</td>\n",
       "      <td>Project</td>\n",
       "      <td>Developing editorial calendar for content sharing</td>\n",
       "      <td>At Risk</td>\n",
       "      <td>[0,1]</td>\n",
       "      <td>[0,0,1,0,0]</td>\n",
       "      <td>SYNREPLACED</td>\n",
       "    </tr>\n",
       "    <tr>\n",
       "      <th>2</th>\n",
       "      <td>fixed Developing editorial calendar for conten...</td>\n",
       "      <td>Task</td>\n",
       "      <td>Developing editorial calendar for content sharing</td>\n",
       "      <td>In Review</td>\n",
       "      <td>[1,0]</td>\n",
       "      <td>[0,0,1,0,0]</td>\n",
       "      <td>SYNREPLACED</td>\n",
       "    </tr>\n",
       "    <tr>\n",
       "      <th>3</th>\n",
       "      <td>audit task Developing editorial calendar for c...</td>\n",
       "      <td>Task</td>\n",
       "      <td>Developing editorial calendar for content sharing</td>\n",
       "      <td>In Review</td>\n",
       "      <td>[1,0]</td>\n",
       "      <td>[0,0,1,0,0]</td>\n",
       "      <td>SYNREPLACED</td>\n",
       "    </tr>\n",
       "    <tr>\n",
       "      <th>4</th>\n",
       "      <td>offset on Developing editorial calendar for co...</td>\n",
       "      <td>Task</td>\n",
       "      <td>Developing editorial calendar for content sharing</td>\n",
       "      <td>In Progress</td>\n",
       "      <td>[1,0]</td>\n",
       "      <td>[0,1,0,0,0]</td>\n",
       "      <td>SYNREPLACED</td>\n",
       "    </tr>\n",
       "    <tr>\n",
       "      <th>...</th>\n",
       "      <td>...</td>\n",
       "      <td>...</td>\n",
       "      <td>...</td>\n",
       "      <td>...</td>\n",
       "      <td>...</td>\n",
       "      <td>...</td>\n",
       "      <td>...</td>\n",
       "    </tr>\n",
       "    <tr>\n",
       "      <th>6974</th>\n",
       "      <td>end throw Reviewing website backlinks</td>\n",
       "      <td>Project</td>\n",
       "      <td>Reviewing website backlinks</td>\n",
       "      <td>Completed</td>\n",
       "      <td>[0,1]</td>\n",
       "      <td>[0,0,0,0,1]</td>\n",
       "      <td>SYNREPLACED</td>\n",
       "    </tr>\n",
       "    <tr>\n",
       "      <th>6975</th>\n",
       "      <td>to do Reviewing website backlinks plan</td>\n",
       "      <td>Project</td>\n",
       "      <td>Reviewing website backlinks</td>\n",
       "      <td>Create</td>\n",
       "      <td>[0,1]</td>\n",
       "      <td>[1,0,0,0,0]</td>\n",
       "      <td>SYNREPLACED</td>\n",
       "    </tr>\n",
       "    <tr>\n",
       "      <th>6976</th>\n",
       "      <td>Reviewing website backlinks project</td>\n",
       "      <td>Task</td>\n",
       "      <td>Reviewing website backlinks</td>\n",
       "      <td>To Do</td>\n",
       "      <td>[1,0]</td>\n",
       "      <td>[1,0,0,0,0]</td>\n",
       "      <td>SYNREPLACED</td>\n",
       "    </tr>\n",
       "    <tr>\n",
       "      <th>6977</th>\n",
       "      <td>Reviewing website backlinks chore was complete</td>\n",
       "      <td>Task</td>\n",
       "      <td>Reviewing website backlinks</td>\n",
       "      <td>Completed</td>\n",
       "      <td>[1,0]</td>\n",
       "      <td>[0,0,0,0,1]</td>\n",
       "      <td>SYNREPLACED</td>\n",
       "    </tr>\n",
       "    <tr>\n",
       "      <th>6978</th>\n",
       "      <td>through with task Reviewing website backlinks</td>\n",
       "      <td>Task</td>\n",
       "      <td>Reviewing website backlinks</td>\n",
       "      <td>Completed</td>\n",
       "      <td>[1,0]</td>\n",
       "      <td>[0,0,0,0,1]</td>\n",
       "      <td>SYNREPLACED</td>\n",
       "    </tr>\n",
       "  </tbody>\n",
       "</table>\n",
       "<p>6979 rows × 7 columns</p>\n",
       "</div>"
      ],
      "text/plain": [
       "                                           Text Command    Topic  \\\n",
       "0     finish plan Developing editorial calendar for ...  Project   \n",
       "1     move plan Developing editorial calendar for co...  Project   \n",
       "2     fixed Developing editorial calendar for conten...     Task   \n",
       "3     audit task Developing editorial calendar for c...     Task   \n",
       "4     offset on Developing editorial calendar for co...     Task   \n",
       "...                                                 ...      ...   \n",
       "6974              end throw Reviewing website backlinks  Project   \n",
       "6975             to do Reviewing website backlinks plan  Project   \n",
       "6976                Reviewing website backlinks project     Task   \n",
       "6977     Reviewing website backlinks chore was complete     Task   \n",
       "6978      through with task Reviewing website backlinks     Task   \n",
       "\n",
       "                                             Identifier       Action  \\\n",
       "0     Developing editorial calendar for content sharing    Completed   \n",
       "1     Developing editorial calendar for content sharing      At Risk   \n",
       "2     Developing editorial calendar for content sharing    In Review   \n",
       "3     Developing editorial calendar for content sharing    In Review   \n",
       "4     Developing editorial calendar for content sharing  In Progress   \n",
       "...                                                 ...          ...   \n",
       "6974                        Reviewing website backlinks    Completed   \n",
       "6975                        Reviewing website backlinks       Create   \n",
       "6976                        Reviewing website backlinks        To Do   \n",
       "6977                        Reviewing website backlinks    Completed   \n",
       "6978                        Reviewing website backlinks    Completed   \n",
       "\n",
       "     One Hot Encoded Topic One Hot Encoded Action    Verb/Noun  \n",
       "0                    [0,1]            [0,0,0,0,1]  SYNREPLACED  \n",
       "1                    [0,1]            [0,0,1,0,0]  SYNREPLACED  \n",
       "2                    [1,0]            [0,0,1,0,0]  SYNREPLACED  \n",
       "3                    [1,0]            [0,0,1,0,0]  SYNREPLACED  \n",
       "4                    [1,0]            [0,1,0,0,0]  SYNREPLACED  \n",
       "...                    ...                    ...          ...  \n",
       "6974                 [0,1]            [0,0,0,0,1]  SYNREPLACED  \n",
       "6975                 [0,1]            [1,0,0,0,0]  SYNREPLACED  \n",
       "6976                 [1,0]            [1,0,0,0,0]  SYNREPLACED  \n",
       "6977                 [1,0]            [0,0,0,0,1]  SYNREPLACED  \n",
       "6978                 [1,0]            [0,0,0,0,1]  SYNREPLACED  \n",
       "\n",
       "[6979 rows x 7 columns]"
      ]
     },
     "execution_count": 4,
     "metadata": {},
     "output_type": "execute_result"
    }
   ],
   "source": [
    "df = pd.read_csv('data/Augmented_Data2.csv')\n",
    "df"
   ]
  },
  {
   "cell_type": "markdown",
   "metadata": {},
   "source": [
    "## EDA to Develop Rules"
   ]
  },
  {
   "cell_type": "code",
   "execution_count": 5,
   "metadata": {},
   "outputs": [],
   "source": [
    "#create dataframe for adding tag data\n",
    "identifier_pos = pd.DataFrame(columns = ['Text Command', 'Identifier', 'Tag Start', 'Tag End', 'First Tag', 'Last Tag'])"
   ]
  },
  {
   "cell_type": "markdown",
   "metadata": {},
   "source": [
    "### POS Tagging"
   ]
  },
  {
   "cell_type": "code",
   "execution_count": 6,
   "metadata": {},
   "outputs": [
    {
     "name": "stdout",
     "output_type": "stream",
     "text": [
      "Commands tagged: 6978\r"
     ]
    }
   ],
   "source": [
    "\"\"\"\n",
    "This method finds the POS of the first word in the sentence (Tag Start), last word of the\n",
    "sentence (Tag End), the word preceding the identifier (First Tag), and the word that comes\n",
    "right after the identifier (Last Tag).\n",
    "\"\"\"\n",
    "for i in df.index.values:\n",
    "    sentence = df.loc[i][0]\n",
    "    #create list of words that make up identifier\n",
    "    identifier = df.loc[i][2].split()\n",
    "    #first word in the identifier\n",
    "    identifier_start = identifier[0]\n",
    "    #last word in the identifier\n",
    "    identifier_end = identifier[-1]\n",
    "    \"\"\"Remove quotes if you want to use word stems instead of the words themselves\n",
    "    text_command_lst = df.loc[i][0].split()\n",
    "    word_stems = [ps.stem(word) if word not in identifier else word for word in text_command_lst]\n",
    "    s = ' '\n",
    "    sentence = s.join(word_stems)\n",
    "    \"\"\"\n",
    "    #convert sentence into list of words with tags associated to each word\n",
    "    sentence = nlp(sentence)\n",
    "    #intialize the start of sentence tag\n",
    "    last_word = nlp('SS')\n",
    "#     for token in last_word:\n",
    "#         #last word starts as SS token\n",
    "#         last_word = token\n",
    "    #intialize the tag after the identifier as None\n",
    "    tag_end = None\n",
    "    #iterate through the words in the text command\n",
    "    for j in range(len(sentence)):\n",
    "        token = sentence[j]\n",
    "        #if the word is equal to the first word in the identifer...\n",
    "        if token.text == identifier_start:\n",
    "            #if the last word variable is still the SS token then the tag that starts the identifier is the\n",
    "            #start of the sentence\n",
    "            if last_word.text == 'SS':\n",
    "                tag_start = 'SS'\n",
    "            #if not then the start tag is the POS tag of the last checked word\n",
    "            else:\n",
    "                tag_start = last_word.tag_\n",
    "        #if the word is equal to the last word in the identifier...\n",
    "        if last_word.text == identifier_end:\n",
    "            tag_end = token.tag_\n",
    "        #check the POS tag of the first word in the sentence\n",
    "        if j == 0:\n",
    "            if token.text == identifier_start:\n",
    "                first_tag = 'ID'\n",
    "            else:\n",
    "                first_tag = token.tag_\n",
    "        #check the POS tag of the last word in the sentence\n",
    "        if j == len(sentence)-1:\n",
    "            if token.text == identifier_end:\n",
    "                last_tag = 'ID'\n",
    "            else:\n",
    "                last_tag = token.tag_\n",
    "        #save the current word as last word for the above conditionals \n",
    "        last_word = token\n",
    "    #if tag end hasn't been updated then we know that the identifier is at the end of the sentence\n",
    "    if tag_end == None:\n",
    "        tag_end = 'ES'\n",
    "    identifier_pos.loc[i] = [str(sentence), df.loc[i][2], tag_start, tag_end, first_tag, last_tag]\n",
    "    print('Commands tagged: ' + str(i), end='\\r')"
   ]
  },
  {
   "cell_type": "code",
   "execution_count": 7,
   "metadata": {},
   "outputs": [
    {
     "data": {
      "text/html": [
       "<div>\n",
       "<style scoped>\n",
       "    .dataframe tbody tr th:only-of-type {\n",
       "        vertical-align: middle;\n",
       "    }\n",
       "\n",
       "    .dataframe tbody tr th {\n",
       "        vertical-align: top;\n",
       "    }\n",
       "\n",
       "    .dataframe thead th {\n",
       "        text-align: right;\n",
       "    }\n",
       "</style>\n",
       "<table border=\"1\" class=\"dataframe\">\n",
       "  <thead>\n",
       "    <tr style=\"text-align: right;\">\n",
       "      <th></th>\n",
       "      <th>Text Command</th>\n",
       "      <th>Identifier</th>\n",
       "      <th>Tag Start</th>\n",
       "      <th>Tag End</th>\n",
       "      <th>First Tag</th>\n",
       "      <th>Last Tag</th>\n",
       "    </tr>\n",
       "  </thead>\n",
       "  <tbody>\n",
       "    <tr>\n",
       "      <th>0</th>\n",
       "      <td>finish plan Developing editorial calendar for ...</td>\n",
       "      <td>Developing editorial calendar for content sharing</td>\n",
       "      <td>NN</td>\n",
       "      <td>ES</td>\n",
       "      <td>NN</td>\n",
       "      <td>ID</td>\n",
       "    </tr>\n",
       "    <tr>\n",
       "      <th>1</th>\n",
       "      <td>move plan Developing editorial calendar for co...</td>\n",
       "      <td>Developing editorial calendar for content sharing</td>\n",
       "      <td>NN</td>\n",
       "      <td>IN</td>\n",
       "      <td>VB</td>\n",
       "      <td>NN</td>\n",
       "    </tr>\n",
       "    <tr>\n",
       "      <th>2</th>\n",
       "      <td>fixed Developing editorial calendar for conten...</td>\n",
       "      <td>Developing editorial calendar for content sharing</td>\n",
       "      <td>VBN</td>\n",
       "      <td>NN</td>\n",
       "      <td>VBN</td>\n",
       "      <td>NN</td>\n",
       "    </tr>\n",
       "    <tr>\n",
       "      <th>3</th>\n",
       "      <td>audit task Developing editorial calendar for c...</td>\n",
       "      <td>Developing editorial calendar for content sharing</td>\n",
       "      <td>NN</td>\n",
       "      <td>ES</td>\n",
       "      <td>NN</td>\n",
       "      <td>ID</td>\n",
       "    </tr>\n",
       "    <tr>\n",
       "      <th>4</th>\n",
       "      <td>offset on Developing editorial calendar for co...</td>\n",
       "      <td>Developing editorial calendar for content sharing</td>\n",
       "      <td>IN</td>\n",
       "      <td>NN</td>\n",
       "      <td>VB</td>\n",
       "      <td>NN</td>\n",
       "    </tr>\n",
       "    <tr>\n",
       "      <th>...</th>\n",
       "      <td>...</td>\n",
       "      <td>...</td>\n",
       "      <td>...</td>\n",
       "      <td>...</td>\n",
       "      <td>...</td>\n",
       "      <td>...</td>\n",
       "    </tr>\n",
       "    <tr>\n",
       "      <th>6974</th>\n",
       "      <td>end throw Reviewing website backlinks</td>\n",
       "      <td>Reviewing website backlinks</td>\n",
       "      <td>VB</td>\n",
       "      <td>ES</td>\n",
       "      <td>NN</td>\n",
       "      <td>ID</td>\n",
       "    </tr>\n",
       "    <tr>\n",
       "      <th>6975</th>\n",
       "      <td>to do Reviewing website backlinks plan</td>\n",
       "      <td>Reviewing website backlinks</td>\n",
       "      <td>VB</td>\n",
       "      <td>VBP</td>\n",
       "      <td>TO</td>\n",
       "      <td>VBP</td>\n",
       "    </tr>\n",
       "    <tr>\n",
       "      <th>6976</th>\n",
       "      <td>Reviewing website backlinks project</td>\n",
       "      <td>Reviewing website backlinks</td>\n",
       "      <td>SS</td>\n",
       "      <td>NN</td>\n",
       "      <td>ID</td>\n",
       "      <td>NN</td>\n",
       "    </tr>\n",
       "    <tr>\n",
       "      <th>6977</th>\n",
       "      <td>Reviewing website backlinks chore was complete</td>\n",
       "      <td>Reviewing website backlinks</td>\n",
       "      <td>SS</td>\n",
       "      <td>NN</td>\n",
       "      <td>ID</td>\n",
       "      <td>JJ</td>\n",
       "    </tr>\n",
       "    <tr>\n",
       "      <th>6978</th>\n",
       "      <td>through with task Reviewing website backlinks</td>\n",
       "      <td>Reviewing website backlinks</td>\n",
       "      <td>NN</td>\n",
       "      <td>ES</td>\n",
       "      <td>IN</td>\n",
       "      <td>ID</td>\n",
       "    </tr>\n",
       "  </tbody>\n",
       "</table>\n",
       "<p>6979 rows × 6 columns</p>\n",
       "</div>"
      ],
      "text/plain": [
       "                                           Text Command  \\\n",
       "0     finish plan Developing editorial calendar for ...   \n",
       "1     move plan Developing editorial calendar for co...   \n",
       "2     fixed Developing editorial calendar for conten...   \n",
       "3     audit task Developing editorial calendar for c...   \n",
       "4     offset on Developing editorial calendar for co...   \n",
       "...                                                 ...   \n",
       "6974              end throw Reviewing website backlinks   \n",
       "6975             to do Reviewing website backlinks plan   \n",
       "6976                Reviewing website backlinks project   \n",
       "6977     Reviewing website backlinks chore was complete   \n",
       "6978      through with task Reviewing website backlinks   \n",
       "\n",
       "                                             Identifier Tag Start Tag End  \\\n",
       "0     Developing editorial calendar for content sharing        NN      ES   \n",
       "1     Developing editorial calendar for content sharing        NN      IN   \n",
       "2     Developing editorial calendar for content sharing       VBN      NN   \n",
       "3     Developing editorial calendar for content sharing        NN      ES   \n",
       "4     Developing editorial calendar for content sharing        IN      NN   \n",
       "...                                                 ...       ...     ...   \n",
       "6974                        Reviewing website backlinks        VB      ES   \n",
       "6975                        Reviewing website backlinks        VB     VBP   \n",
       "6976                        Reviewing website backlinks        SS      NN   \n",
       "6977                        Reviewing website backlinks        SS      NN   \n",
       "6978                        Reviewing website backlinks        NN      ES   \n",
       "\n",
       "     First Tag Last Tag  \n",
       "0           NN       ID  \n",
       "1           VB       NN  \n",
       "2          VBN       NN  \n",
       "3           NN       ID  \n",
       "4           VB       NN  \n",
       "...        ...      ...  \n",
       "6974        NN       ID  \n",
       "6975        TO      VBP  \n",
       "6976        ID       NN  \n",
       "6977        ID       JJ  \n",
       "6978        IN       ID  \n",
       "\n",
       "[6979 rows x 6 columns]"
      ]
     },
     "execution_count": 7,
     "metadata": {},
     "output_type": "execute_result"
    }
   ],
   "source": [
    "identifier_pos"
   ]
  },
  {
   "cell_type": "markdown",
   "metadata": {},
   "source": [
    "### Descriptive Analytics"
   ]
  },
  {
   "cell_type": "code",
   "execution_count": 8,
   "metadata": {},
   "outputs": [],
   "source": [
    "\"\"\"\n",
    "This method finds the counts of each tab combo\n",
    "\"\"\"\n",
    "#intialize the dictionaries that contain counts of POS tags associated with text commands\n",
    "tag_start_dict = dict()\n",
    "tag_end_dict = dict()\n",
    "tag_combo_dict = dict()\n",
    "first_tag_dict = dict()\n",
    "last_tag_dict = dict()\n",
    "first_last_combo_dict = dict()\n",
    "for i in range(len(identifier_pos.index)):\n",
    "    tag_start = identifier_pos.loc[i][2]\n",
    "    tag_end = identifier_pos.loc[i][3]\n",
    "    #string combination of the two tags that the identifier is between\n",
    "    tag_combo = tag_start + '-' + tag_end\n",
    "    #POS tag of the first word in text command\n",
    "    first_tag = identifier_pos.loc[i][4]\n",
    "    last_tag = identifier_pos.loc[i][5]\n",
    "    #string combination of first and last tag\n",
    "    first_last_combo = first_tag + '-' + last_tag\n",
    "    #update counts of text commands where POS tag indicates start of identifier\n",
    "    if tag_start_dict.get(tag_start,0) == 0:\n",
    "        tag_start_dict[tag_start] = 1\n",
    "    else:\n",
    "        tag_start_dict[tag_start] += 1\n",
    "    #same thing but for end of identifier \n",
    "    if tag_end_dict.get(tag_end,0) == 0:\n",
    "        tag_end_dict[tag_end] = 1\n",
    "    else:\n",
    "        tag_end_dict[tag_end] += 1\n",
    "    #update counts of text commands where identifier is between combo of start and end POS tags\n",
    "    if tag_combo_dict.get(tag_combo,0) == 0:\n",
    "        tag_combo_dict[tag_combo] = 1\n",
    "    else:\n",
    "        tag_combo_dict[tag_combo] += 1\n",
    "    #update counts of text commands with a nested dictionary. Keys in the outer dictionary are the POS tag assigned\n",
    "    #to the first word in the text command. Key in the inner dictionary is the combo of start and end POS tags\n",
    "    if first_tag_dict.get(first_tag,0) == 0:\n",
    "        first_tag_dict[first_tag] = dict()\n",
    "        first_tag_dict[first_tag][tag_combo] = 1\n",
    "    else:\n",
    "        if first_tag_dict[first_tag].get(tag_combo,0) == 0:\n",
    "            first_tag_dict[first_tag][tag_combo] = 1\n",
    "        else:\n",
    "            first_tag_dict[first_tag][tag_combo] += 1\n",
    "        tag_combo_dict[tag_combo] += 1\n",
    "    #same for the last word in the text command\n",
    "    if last_tag_dict.get(last_tag,0) == 0:\n",
    "        last_tag_dict[last_tag] = dict()\n",
    "        last_tag_dict[last_tag][tag_combo] = 1\n",
    "    else:\n",
    "        if last_tag_dict[last_tag].get(tag_combo,0) == 0:\n",
    "            last_tag_dict[last_tag][tag_combo] = 1\n",
    "        else:\n",
    "            last_tag_dict[last_tag][tag_combo] += 1\n",
    "    #same for the combo of the first and last word in the text command \n",
    "    if first_last_combo_dict.get(first_last_combo,0) == 0:\n",
    "        first_last_combo_dict[first_last_combo] = dict()\n",
    "        first_last_combo_dict[first_last_combo][tag_combo] = 1\n",
    "    else:\n",
    "        if first_last_combo_dict[first_last_combo].get(tag_combo,0) == 0:\n",
    "            first_last_combo_dict[first_last_combo][tag_combo] = 1\n",
    "        else:\n",
    "            first_last_combo_dict[first_last_combo][tag_combo] += 1"
   ]
  },
  {
   "cell_type": "code",
   "execution_count": 10,
   "metadata": {},
   "outputs": [],
   "source": [
    "#sorted dictionary of the text commands where the first and last words in the text command are nouns\n",
    "sorted_combo_tag_dict = {k: v for k, v in sorted(first_last_combo_dict['VBN-NN'].items(), key=lambda item: item[1],reverse=True)}"
   ]
  },
  {
   "cell_type": "code",
   "execution_count": 11,
   "metadata": {},
   "outputs": [
    {
     "data": {
      "text/plain": [
       "<BarContainer object of 8 artists>"
      ]
     },
     "execution_count": 11,
     "metadata": {},
     "output_type": "execute_result"
    },
    {
     "data": {
      "image/png": "[encoded data removed]",
      "text/plain": [
       "<Figure size 1440x360 with 1 Axes>"
      ]
     },
     "metadata": {
      "needs_background": "light"
     },
     "output_type": "display_data"
    }
   ],
   "source": [
    "#visualize the number of text commands with a certain start end POS combo for the above condition\n",
    "plt.figure(figsize=(20,5))\n",
    "plt.bar(list(sorted_combo_tag_dict.keys()),list(sorted_combo_tag_dict.values()),width=0.5)"
   ]
  },
  {
   "cell_type": "markdown",
   "metadata": {},
   "source": [
    "### Rule Creation"
   ]
  },
  {
   "cell_type": "code",
   "execution_count": 12,
   "metadata": {},
   "outputs": [],
   "source": [
    "#applys the rule where if the text command starts and ends with a noun then we look for the first instance\n",
    "#of a noun, then every word after is included in the identifier until a noun, preposition, or verb is found\n",
    "def IdentifierIdentifier(pos_tagger,text_command):\n",
    "    sentence = pos_tagger(text_command)\n",
    "    first_tag = sentence[0].tag_\n",
    "    last_tag = sentence[-1].tag_\n",
    "    first_idx = None\n",
    "    last_idx = None\n",
    "    identifier_start = False\n",
    "    \n",
    "    \n",
    "    for i in range(len(sentence)):\n",
    "        tag = sentence[i].tag_\n",
    "        if i+1 <= len(sentence)-1:\n",
    "            next_tag = sentence[i+1].tag_\n",
    "        else:\n",
    "            next_tag = None\n",
    "        if first_tag == 'VB' and last_tag == 'NN':\n",
    "            if sentence[1].tag_ == 'NN' and sentence[-2].tag_ == 'IN':\n",
    "                first_idx = 2\n",
    "                last"
   ]
  },
  {
   "cell_type": "code",
   "execution_count": 16,
   "metadata": {},
   "outputs": [],
   "source": [
    "#applys the rule where if the text command starts and ends with a noun then we look for the first instance\n",
    "#of a noun, then every word after is included in the identifier until a noun, preposition, or verb is found\n",
    "def IdentifierIdentifier(pos_tagger,text_command):\n",
    "    sentence = pos_tagger(text_command)\n",
    "    first_tag = sentence[0].tag_\n",
    "    last_tag = sentence[-1].tag_\n",
    "    first_idx = None\n",
    "    last_idx = None\n",
    "    identifier_start = False\n",
    "    if first_tag == 'VBN':\n",
    "        last_idx = len(sentence)\n",
    "        for i in range(len(sentence)):\n",
    "            tag = sentence[i].tag_\n",
    "            if i+1 <= len(sentence)-1:\n",
    "                next_tag = sentence[i+1].tag_\n",
    "            else:\n",
    "                next_tag = None\n",
    "            if tag == 'IN' and next_tag == 'NN' or ((tag == 'NN' and next_tag == 'IN') or (tag == 'NN' and next_tag == 'VBN')):\n",
    "                first_idx = i+2\n",
    "                break\n",
    "            if tag == 'NN' or tag == 'IN':\n",
    "                first_idx = i+1\n",
    "                break\n",
    "     \n",
    "            \n",
    "    identifier = sentence[first_idx:last_idx]\n",
    "                \n",
    "    return identifier"
   ]
  },
  {
   "cell_type": "markdown",
   "metadata": {},
   "source": [
    "## Testing Rules"
   ]
  },
  {
   "cell_type": "code",
   "execution_count": 17,
   "metadata": {},
   "outputs": [],
   "source": [
    "def print_tags(pos_tagger,text_command):\n",
    "    sentence = pos_tagger(text_command)\n",
    "    lst = []\n",
    "    for word in sentence:\n",
    "        lst.append(word.tag_)\n",
    "    return str(sentence),lst"
   ]
  },
  {
   "cell_type": "code",
   "execution_count": 18,
   "metadata": {},
   "outputs": [
    {
     "name": "stdout",
     "output_type": "stream",
     "text": [
      "Commands misclassified: \n",
      "---\n",
      "fixed Developing editorial calendar for content sharing tax, ['VBN', 'VBG', 'JJ', 'NN', 'IN', 'NN', 'VBG', 'NN'], content sharing tax\n",
      "fixed Updating Facebook Pages task, ['VBN', 'NNP', 'NNP', 'NNPS', 'NN'], \n",
      "created Updating Facebook Pages task, ['VBN', 'NNP', 'NNP', 'NNP', 'NN'], \n",
      "put in review to Updating LinkedIn, ['VBN', 'IN', 'NN', 'IN', 'VBG', 'NNP'], to Updating LinkedIn\n",
      "completed grant to project Answering LinkedIn questions, ['VBN', 'NNP', 'TO', 'VB', 'VBG', 'NNP', 'NNS'], completed grant to project Answering LinkedIn questions\n",
      "designed Answering LinkedIn questions job, ['VBN', 'NNP', 'NNP', 'NNS', 'NN'], \n",
      "inspected Answering LinkedIn questions labor, ['VBN', 'NNP', 'NNP', 'NNS', 'NN'], \n",
      "set out Updating Tumblr, Instagram, Vine, and other social networks task, ['VBN', 'RP', 'NNP', 'NNP', ',', 'NNP', ',', 'NNP', ',', 'CC', 'JJ', 'JJ', 'NNS', 'NN'], \n",
      "completed appointment to project Updating Tumblr, Instagram, Vine, and other social networks, ['VBN', 'NN', 'TO', 'VB', 'NNP', 'NNP', ',', 'NNP', ',', 'NNP', ',', 'CC', 'JJ', 'JJ', 'NNS'], to project Updating Tumblr, Instagram, Vine, and other social networks\n",
      "restrained over Managing your Yelp profile task, ['VBN', 'IN', 'VBG', 'PRP$', 'NNP', 'NN', 'NN'], Managing your Yelp profile task\n",
      "put design Managing your Yelp profile at risk, ['VBN', 'NN', 'VBG', 'PRP$', 'NNP', 'NN', 'IN', 'NN'], Managing your Yelp profile at risk\n",
      "done Managing your Yelp profile project, ['VBN', 'VBG', 'PRP$', 'NNP', 'NN', 'NN'], project\n",
      "planned see Bookmarking blog content on social bookmarking sites, ['VBN', 'UH', 'NNP', 'NN', 'NN', 'IN', 'JJ', 'NN', 'NNS'], content on social bookmarking sites\n",
      "planned cast Developing social media marketing plans, ['VBN', 'VBD', 'VBG', 'JJ', 'NNS', 'NN', 'NNS'], plans\n",
      "finished with Guest writing for industry blogs or websites throw, ['VBN', 'IN', 'NNP', 'VBG', 'IN', 'NN', 'NNS', 'CC', 'NNS', 'VBP'], Guest writing for industry blogs or websites throw\n",
      "finished with Responding to questions on Quora plan, ['VBN', 'IN', 'VBG', 'IN', 'NNS', 'IN', 'NNP', 'NN'], Responding to questions on Quora plan\n",
      "generated Researching bloggers throw, ['VBN', 'VBG', 'NNS', 'VBP'], generated Researching bloggers throw\n",
      "ended cast Researching bloggers, ['VBN', 'NNP', 'VBG', 'NNS'], ended cast Researching bloggers\n",
      "completed Designing contest pages labor, ['VBN', 'VBG', 'NN', 'NNS', 'NN'], pages labor\n",
      "generated Promoting contests to contest directories plan, ['VBN', 'VBG', 'NNS', 'TO', 'VB', 'NNS', 'NN'], \n",
      "shut Promoting contests online on company website task, ['VBN', 'VBG', 'NNS', 'RB', 'IN', 'NN', 'NN', 'NN'], website task\n",
      "cast Promoting contests online through company’s social profiles is at risk, ['VBN', 'VBG', 'NNS', 'RB', 'IN', 'NN', 'POS', 'JJ', 'NNS', 'VBZ', 'IN', 'NN'], ’s social profiles is at risk\n",
      "put to completed task Promoting contests through company’s email newsletters, ['VBN', 'IN', 'VBN', 'NN', 'VBG', 'NNS', 'IN', 'NN', 'POS', 'NN', 'NNS'], completed task Promoting contests through company’s email newsletters\n",
      "added Promoting contests through company’s email newsletters labor, ['VBN', 'VBG', 'NNS', 'IN', 'NN', 'POS', 'NN', 'NNS', 'NN'], ’s email newsletters labor\n",
      "generated see Promoting contests through company’s email newsletters, ['VBN', 'UH', 'VBG', 'NNS', 'IN', 'NN', 'POS', 'NN', 'NNS'], ’s email newsletters\n",
      "proposed Tracking progress of contest entries project, ['VBN', 'VBG', 'NN', 'IN', 'NN', 'NNS', 'NN'], contest entries project\n",
      "chequered Tracking progress of contest entries task, ['VBN', 'NNP', 'NN', 'IN', 'NN', 'NNS', 'NN'], contest entries task\n",
      "created Tracking progress of contest entries, ['VBN', 'NNP', 'NN', 'IN', 'NN', 'NNS'], contest entries\n",
      "put to task Choosing winners of contests in progress, ['VBN', 'IN', 'NN', 'VBG', 'NNS', 'IN', 'NNS', 'IN', 'NN'], Choosing winners of contests in progress\n",
      "checked over Choosing winners of contests chore, ['VBN', 'IN', 'NNP', 'NNS', 'IN', 'NNS', 'NN'], Choosing winners of contests chore\n",
      "accomplished Choosing winners of contests tasks, ['VBN', 'VBG', 'NNS', 'IN', 'NNS', 'NNS'], contests tasks\n",
      "proposed Choosing winners of contests task, ['VBN', 'NNP', 'NNS', 'IN', 'NNS', 'NN'], contests task\n",
      "set out on Notify winners of contests task, ['VBN', 'RP', 'IN', 'NNP', 'NNS', 'IN', 'NNS', 'NN'], Notify winners of contests task\n",
      "consummated Notify winners of contests task, ['VBN', 'NNP', 'NNS', 'IN', 'NNS', 'NN'], contests task\n",
      "planned Distributing contest prizing job, ['VBN', 'VBG', 'NN', 'NN', 'NN'], prizing job\n",
      "generated Distributing contest prizing labor, ['VBN', 'VBG', 'NN', 'NN', 'NN'], prizing labor\n",
      "checked over Distributing contest prizing task, ['VBN', 'RP', 'VBG', 'NN', 'NN', 'NN'], prizing task\n",
      "put on target to Distributing coupon codes online, ['VBN', 'IN', 'NN', 'IN', 'VBG', 'NN', 'NNS', 'RB'], to Distributing coupon codes online\n",
      "checked Distributing coupon codes online project, ['VBN', 'NNP', 'NN', 'NNS', 'JJ', 'NN'], codes online project\n",
      "delayed Distributing coupon codes online task, ['VBN', 'NNP', 'NN', 'NNS', 'JJ', 'NN'], codes online task\n",
      "created Listing your events with local online events calendars project, ['VBN', 'VBG', 'PRP$', 'NNS', 'IN', 'JJ', 'JJ', 'NNS', 'VBZ', 'NN'], local online events calendars project\n",
      "accomplished Listing your events with local online events calendars task, ['VBN', 'VBG', 'PRP$', 'NNS', 'IN', 'JJ', 'JJ', 'NNS', 'NNS', 'NN'], local online events calendars task\n",
      "put in review to task Ordering premiums created to hand out, ['VBN', 'IN', 'NN', 'IN', 'NN', 'NN', 'NNS', 'VBN', 'TO', 'VB', 'RP'], to task Ordering premiums created to hand out\n",
      "designed see Writing white papers, ['VBN', 'UH', 'VBG', 'JJ', 'NNS'], designed see Writing white papers\n",
      "blocked cast Writing white papers, ['VBN', 'NNP', 'VBG', 'JJ', 'NNS'], blocked cast Writing white papers\n",
      "designed Posting white papers online on sites like Scribd.com design, ['VBN', 'VBG', 'JJ', 'NNS', 'RB', 'IN', 'NNS', 'IN', 'NNP', 'NN'], sites like Scribd.com design\n",
      "designed Posting white papers online on sites like Scribd.com plan, ['VBN', 'VBG', 'JJ', 'NNS', 'RB', 'IN', 'NNS', 'IN', 'NNP', 'NN'], sites like Scribd.com plan\n",
      "completed assignment to cast Analyzing Google Analytics, ['VBN', 'NN', 'TO', 'VB', 'NNP', 'NNP', 'NNP'], to cast Analyzing Google Analytics\n",
      "planned Measuring search engine optimization results throw, ['VBN', 'NNP', 'NN', 'NN', 'NN', 'NNS', 'VBP'], engine optimization results throw\n",
      "unscheduled with Measuring search engine optimization results project, ['VBN', 'IN', 'NNP', 'NN', 'NN', 'NN', 'NNS', 'NN'], Measuring search engine optimization results project\n",
      "fixed Measuring search engine optimization results chore, ['VBN', 'NNP', 'NN', 'NN', 'NN', 'NNS', 'NN'], engine optimization results chore\n",
      "completed see Measuring search engine optimization results, ['VBN', 'VBP', 'NNP', 'NN', 'NN', 'NN', 'NNS'], engine optimization results\n",
      "cast Performing competitor keyword analysis was delayed, ['VBN', 'VBG', 'NN', 'NNP', 'NNP', 'VBD', 'VBN'], keyword analysis was delayed\n",
      "obstructed Reviewing ecommerce sales data project, ['VBN', 'VBG', 'NN', 'NNS', 'NN', 'NN'], sales data project\n",
      "obstructed Reviewing ecommerce sales data, ['VBN', 'VBG', 'NN', 'NNS', 'NNS'], sales data\n",
      "created see Writing proposal, ['VBN', 'VBP', 'NNP', 'NN'], \n",
      "generated Writing proposal project, ['VBN', 'NNP', 'NN', 'NN'], project\n",
      "delayed Writing proposal project, ['VBN', 'NNP', 'NN', 'NN'], project\n",
      "done with Writing sales follow up copy project, ['VBN', 'IN', 'NNP', 'NNS', 'VB', 'RP', 'NN', 'NN'], Writing sales follow up copy project\n",
      "enclosed Writing sales scripts task, ['VBN', 'VBG', 'NNS', 'NNS', 'NN'], \n",
      "put on target to Writing sales scripts project, ['VBN', 'IN', 'NN', 'IN', 'NN', 'NNS', 'NNS', 'NN'], to Writing sales scripts project\n",
      "added cast Writing sales scripts, ['VBN', 'NNP', 'VBG', 'NNS', 'NNS'], added cast Writing sales scripts\n",
      "completed assignment to throw Writing sales scripts, ['VBN', 'NN', 'TO', 'VB', 'VBG', 'NNS', 'NNS'], to throw Writing sales scripts\n",
      "put at risk to project Submitting ecommerce products to shopping aggregators, ['VBN', 'IN', 'NN', 'TO', 'VB', 'VBG', 'NN', 'NNS', 'IN', 'NN', 'NNS'], to project Submitting ecommerce products to shopping aggregators\n",
      "organized Using lead scoring for prospects task, ['VBN', 'VBG', 'NN', 'VBG', 'IN', 'NNS', 'NN'], scoring for prospects task\n",
      "put in progress to Developing demonstrations or tutorials, ['VBN', 'IN', 'NN', 'IN', 'VBG', 'NNS', 'CC', 'NNS'], to Developing demonstrations or tutorials\n",
      "put at risk to Networking – in person!, ['VBN', 'IN', 'NN', 'IN', 'NNP', ':', 'IN', 'NN', '.'], to Networking – in person!\n"
     ]
    },
    {
     "name": "stdout",
     "output_type": "stream",
     "text": [
      "finished cast Networking – in person!, ['VBN', 'NNP', 'NNP', ':', 'IN', 'NN', '.'], !\n",
      "designed Networking – in person! cast, ['VBN', 'NNP', ':', 'IN', 'NN', '.', 'VBN'], ! cast\n",
      "finished see Researching affiliate programs, ['VBN', 'UH', 'VBG', 'NN', 'NNS'], programs\n",
      "cast Designing email newsletter templates was at risk, ['VBN', 'NNP', 'NN', 'NN', 'NNS', 'VBD', 'IN', 'NN'], newsletter templates was at risk\n",
      "initiated Distributing email newsletter tax, ['VBN', 'VBG', 'NN', 'NN', 'NN'], newsletter tax\n",
      "finished with Setting up an account with the email marketing software vendor chore, ['VBN', 'IN', 'VBG', 'RP', 'DT', 'NN', 'IN', 'DT', 'NN', 'NN', 'NN', 'NN', 'NN'], Setting up an account with the email marketing software vendor chore\n",
      "designed Setting up an account with the email marketing software vendor throw, ['VBN', 'VBG', 'RP', 'DT', 'NN', 'IN', 'DT', 'NN', 'NN', 'NN', 'NN', 'NN'], the email marketing software vendor throw\n",
      "created Setting up an account with the email marketing software vendor plan, ['VBN', 'VBG', 'RP', 'DT', 'NN', 'IN', 'DT', 'NN', 'NN', 'NN', 'NN', 'NN'], the email marketing software vendor plan\n",
      "completed assignment to plan Setting up an account with the email marketing software vendor, ['VBN', 'NN', 'TO', 'VB', 'VBG', 'RP', 'DT', 'NN', 'IN', 'DT', 'NN', 'NN', 'NN', 'NN'], to plan Setting up an account with the email marketing software vendor\n",
      "completed naming to project Sending test copies of the email newsletter, ['VBN', 'VBG', 'TO', 'VB', 'VBG', 'NN', 'NNS', 'IN', 'DT', 'NN', 'NN'], copies of the email newsletter\n",
      "terminated Sending test copies of the email newsletter task, ['VBN', 'VBG', 'NN', 'NNS', 'IN', 'DT', 'NN', 'NN', 'NN'], copies of the email newsletter task\n",
      "planned Sending test copies of the email newsletter see, ['VBN', 'VBG', 'NN', 'NNS', 'IN', 'DT', 'NN', 'NN', 'VB'], copies of the email newsletter see\n",
      "completed designation to project Cleaning up the database  (fixing typos, adding in new data), ['VBN', 'NN', 'TO', 'VB', 'VBG', 'RP', 'DT', 'NN', '_SP', '-LRB-', 'VBG', 'NNS', ',', 'VBG', 'IN', 'JJ', 'NNS', '-RRB-'], to project Cleaning up the database  (fixing typos, adding in new data)\n",
      "planned Developing video content project, ['VBN', 'VBG', 'NN', 'NN', 'NN'], content project\n",
      "inspected Developing video content chore, ['VBN', 'VBG', 'NN', 'NN', 'NN'], content chore\n",
      "blocked Writing video scripts throw, ['VBN', 'VBG', 'NN', 'NNS', 'VBP'], scripts throw\n",
      "finished with Writing video scripts project, ['VBN', 'IN', 'NNP', 'NN', 'NNS', 'NN'], Writing video scripts project\n",
      "postponed Writing video scripts task, ['VBN', 'NNP', 'NN', 'NNS', 'NN'], scripts task\n",
      "finished with Develop keyword lists for tagging videos task, ['VBN', 'IN', 'NNP', 'NN', 'NNS', 'IN', 'VBG', 'NNS', 'NN'], Develop keyword lists for tagging videos task\n",
      "planned Develop keyword lists for tagging videos chore, ['VBN', 'NNP', 'NN', 'NNS', 'IN', 'VBG', 'NNS', 'NN'], lists for tagging videos chore\n",
      "obstructed Develop keyword lists for tagging videos task, ['VBN', 'VB', 'NN', 'NNS', 'IN', 'VBG', 'NNS', 'NN'], lists for tagging videos task\n",
      "cast Writing video descriptions is completed, ['VBN', 'VBG', 'NN', 'NNS', 'VBZ', 'VBN'], descriptions is completed\n",
      "generated Publishing video to YouTube tax, ['VBN', 'NNP', 'NN', 'IN', 'NNP', 'NN'], YouTube tax\n",
      "initiated Publishing video to YouTube project, ['VBN', 'NNP', 'NN', 'IN', 'NNP', 'NN'], YouTube project\n",
      "generated Publishing video to YouTube task, ['VBN', 'NNP', 'NN', 'IN', 'NNP', 'NN'], YouTube task\n",
      "added Publishing video to YouTube see, ['VBN', 'NN', 'NN', 'IN', 'NNP', 'VB'], video to YouTube see\n",
      "created Publishing video to company website see, ['VBN', 'NNP', 'NN', 'IN', 'NN', 'NN', 'VB'], company website see\n",
      "designed Designing ad units project, ['VBN', 'NNP', 'NN', 'NNS', 'NN'], units project\n",
      "inspected Designing ad units task, ['VBN', 'NNP', 'NN', 'NNS', 'NN'], units task\n",
      "inspected Designing ad units project, ['VBN', 'NNP', 'NN', 'NNS', 'NN'], units project\n",
      "finished with Signing up for affiliate programs job, ['VBN', 'IN', 'NNP', 'RP', 'IN', 'NN', 'NNS', 'NN'], Signing up for affiliate programs job\n",
      "designed Running retargeting campaigns tax, ['VBN', 'VBG', 'VBG', 'NNS', 'NN'], \n",
      "completed cast Running retargeting campaigns, ['VBN', 'NNP', 'VBG', 'VBG', 'NNS'], completed cast Running retargeting campaigns\n",
      "realized assignment to project Running retargeting campaigns, ['VBN', 'NN', 'TO', 'VB', 'VBG', 'VBG', 'NNS'], to project Running retargeting campaigns\n",
      "delayed Running ad campaigns in Google AdWords tax, ['VBN', 'VBG', 'NN', 'NNS', 'IN', 'NNP', 'NNP', 'NN'], campaigns in Google AdWords tax\n",
      "created Running ad campaigns in Google AdWords labor, ['VBN', 'VBG', 'NN', 'NNS', 'IN', 'NNP', 'NNP', 'NN'], campaigns in Google AdWords labor\n",
      "superimposed Running ad campaigns in Google AdWords project, ['VBN', 'VBG', 'NN', 'NNS', 'IN', 'NNP', 'NNP', 'NN'], campaigns in Google AdWords project\n",
      "fixed Running ad campaigns in Google AdWords project, ['VBN', 'VBG', 'NN', 'NNS', 'IN', 'NNP', 'NNP', 'NN'], campaigns in Google AdWords project\n",
      "planned Running estimates of audience size for Facebook ads design, ['VBN', 'NN', 'NNS', 'IN', 'NN', 'NN', 'IN', 'NNP', 'NNS', 'NN'], estimates of audience size for Facebook ads design\n",
      "put on target to project Buying ad space on specific or niche sites, ['VBN', 'RP', 'NN', 'TO', 'VB', 'VBG', 'NN', 'NN', 'IN', 'JJ', 'CC', 'NN', 'NNS'], to project Buying ad space on specific or niche sites\n",
      "finished with Documenting online media placements see, ['VBN', 'IN', 'VBG', 'JJ', 'NNS', 'NNS', 'VBP'], Documenting online media placements see\n",
      "completed assigning to project Following up with people product samples were sent to, ['VBN', 'NN', 'TO', 'NN', 'VBG', 'RP', 'IN', 'NNS', 'NN', 'NNS', 'VBD', 'VBN', 'IN'], to project Following up with people product samples were sent to\n",
      "accomplished assignment to project Pitching bloggers to review a product, ['VBN', 'NN', 'TO', 'VB', 'NN', 'NNS', 'TO', 'VB', 'DT', 'NN'], to project Pitching bloggers to review a product\n",
      "patterned Pitching bloggers to review a product task, ['VBN', 'NNP', 'NNS', 'TO', 'VB', 'DT', 'NN', 'NN'], task\n",
      "done with Writing press releases task, ['VBN', 'IN', 'NNP', 'NN', 'NNS', 'NN'], Writing press releases task\n",
      "cast Writing press releases emergency, ['VBN', 'VBG', 'NN', 'NNS', 'NN'], releases emergency\n",
      "cast Submitting press releases thru online wire services allocation complete, ['VBN', 'VBG', 'NN', 'NNS', 'IN', 'JJ', 'NN', 'NNS', 'NN', 'JJ'], releases thru online wire services allocation complete\n",
      "set project Sending out product samples at risk, ['VBN', 'NN', 'VBG', 'RP', 'NN', 'NNS', 'IN', 'NN'], Sending out product samples at risk\n",
      "put risk to project Sending out product samples, ['VBN', 'NN', 'TO', 'VB', 'VBG', 'RP', 'NN', 'NNS'], to project Sending out product samples\n",
      "stopped-up Sending out product samples project, ['VBN', 'HYPH', 'RP', 'VBG', 'RP', 'NN', 'NNS', 'NN'], samples project\n",
      "completed assignment to project Sending out product samples, ['VBN', 'NN', 'TO', 'VB', 'VBG', 'RP', 'NN', 'NNS'], to project Sending out product samples\n",
      "designed Searching forums for influencers chore, ['VBN', 'VBG', 'NNS', 'IN', 'NNS', 'JJ'], influencers chore\n",
      "done Searching forums for influencers task, ['VBN', 'VBG', 'NNS', 'IN', 'NNS', 'NN'], influencers task\n",
      "completed naming to Reviewing forums for consumer feedback, ['VBN', 'VBG', 'IN', 'NN', 'NNS', 'IN', 'NN', 'NN'], forums for consumer feedback\n",
      "superimposed Reviewing forums for consumer feedback task, ['VBN', 'NN', 'NNS', 'IN', 'NN', 'NN', 'NN'], forums for consumer feedback task\n",
      "ended with Designing web graphics project, ['VBN', 'IN', 'NNP', 'NN', 'NNS', 'NN'], Designing web graphics project\n",
      "created Designing web graphics job, ['VBN', 'NNP', 'NN', 'NNS', 'NN'], graphics job\n",
      "put project Editing web copy completed, ['VBN', 'NN', 'NNP', 'NN', 'NN', 'VBN'], Editing web copy completed\n",
      "paused Editing web copy job, ['VBN', 'NNP', 'NN', 'NN', 'NN'], copy job\n",
      "checkered over Fixing broken links on the company website task, ['VBN', 'IN', 'VBG', 'JJ', 'NNS', 'IN', 'DT', 'NN', 'NN', 'NN'], Fixing broken links on the company website task\n",
      "superimposed Fixing broken links on the company website, ['VBN', 'VBG', 'JJ', 'NNS', 'IN', 'DT', 'NN', 'NN'], the company website\n"
     ]
    },
    {
     "name": "stdout",
     "output_type": "stream",
     "text": [
      "put in progress to Installing tracking codes on the company website task, ['VBN', 'IN', 'NN', 'IN', 'VBG', 'NN', 'NNS', 'IN', 'DT', 'NN', 'NN', 'NN'], to Installing tracking codes on the company website task\n",
      "stopped-up Publishing blog posts task, ['VBN', 'HYPH', 'RP', 'NNP', 'NN', 'NNS', 'NN'], posts task\n",
      "patterned over Sourcing images to accompany blog posts and status updates task, ['VBN', 'IN', 'NNP', 'NNS', 'TO', 'VB', 'NN', 'NNS', 'CC', 'NN', 'NNS', 'NN'], Sourcing images to accompany blog posts and status updates task\n",
      "terminated Responding to customers questions or concerns on social media project, ['VBN', 'VBG', 'IN', 'NNS', 'NNS', 'CC', 'NNS', 'IN', 'JJ', 'NNS', 'NN'], customers questions or concerns on social media project\n",
      "finished with Getting content approved by key stakeholders design, ['VBN', 'IN', 'VBG', 'NN', 'VBN', 'IN', 'JJ', 'NNS', 'NN'], Getting content approved by key stakeholders design\n",
      "generated Getting content approved by key stakeholders cast, ['VBN', 'VBG', 'NN', 'VBN', 'IN', 'JJ', 'NNS', 'VBD'], by key stakeholders cast\n",
      "created Getting content approved by key stakeholders design, ['VBN', 'VBG', 'NN', 'VBN', 'IN', 'JJ', 'NNS', 'NN'], by key stakeholders design\n",
      "examined  Posting jobs or RFPs online to recruit staff or vendors project, ['VBN', '_SP', 'VBG', 'NNS', 'CC', 'NNS', 'RB', 'TO', 'VB', 'NN', 'CC', 'NNS', 'NN'], or vendors project\n",
      "finished with  Posting jobs or RFPs online to recruit staff or vendors labor, ['VBN', 'IN', '_SP', 'VBG', 'NNS', 'CC', 'NNS', 'RB', 'TO', 'VB', 'NN', 'CC', 'NNS', 'NN'],  Posting jobs or RFPs online to recruit staff or vendors labor\n",
      "made  Posting jobs or RFPs online to recruit staff or vendors chore, ['VBN', '_SP', 'VBG', 'NNS', 'CC', 'NNS', 'RB', 'TO', 'VB', 'NN', 'CC', 'NNS', 'VBP'], or vendors chore\n",
      "designed Giving presentations on your work task, ['VBN', 'VBG', 'NNS', 'IN', 'PRP$', 'NN', 'NN'], your work task\n",
      "planned Giving presentations on your work, ['VBN', 'VBG', 'NNS', 'IN', 'PRP$', 'NN'], your work\n",
      "planned Formatting documents (Excel, Powerpoint, Word) plan, ['VBN', 'VBG', 'NNS', '-LRB-', 'NNP', ',', 'NNP', ',', 'NNP', '-RRB-', 'NN'], \n",
      "generated cast Writing case studies of projects or clients, ['VBN', 'NNP', 'NNP', 'NN', 'NNS', 'IN', 'NNS', 'CC', 'NNS'], studies of projects or clients\n",
      "halted Updating editorial calendars project, ['VBN', 'NNP', 'JJ', 'NNS', 'NN'], \n",
      "put in review to Training staff on social media involvement task, ['VBN', 'IN', 'NN', 'IN', 'NNP', 'NN', 'IN', 'JJ', 'NNS', 'NN', 'NN'], to Training staff on social media involvement task\n",
      "halted project Training staff on social media involvement, ['VBN', 'NNP', 'NNP', 'NN', 'IN', 'JJ', 'NNS', 'NN'], social media involvement\n",
      "reviewed Training staff on social media involvement tax, ['VBN', 'NNP', 'NN', 'IN', 'JJ', 'NNS', 'NN', 'NN'], social media involvement tax\n",
      "created Speaking at industry conferences or meetings throw, ['VBN', 'VBG', 'IN', 'NN', 'NNS', 'CC', 'NNS', 'VBP'], conferences or meetings throw\n",
      "finished throw Sitting through many demos of marketing tools & dashboards, ['VBN', 'VB', 'VBG', 'IN', 'JJ', 'NNS', 'IN', 'NN', 'NNS', 'CC', 'NNS'], many demos of marketing tools & dashboards\n",
      "planned Setting up Google Alerts on key companies, people or products task, ['VBN', 'VBG', 'RP', 'NNP', 'NNPS', 'IN', 'JJ', 'NNS', ',', 'NNS', 'CC', 'NNS', 'NN'], key companies, people or products task\n",
      "closed Sending thank you notes or emails to customers job, ['VBN', 'VBG', 'VBP', 'PRP', 'NNS', 'CC', 'NNS', 'IN', 'NNS', 'NN'], customers job\n",
      "found Sending thank you notes or emails to customers task, ['VBN', 'VBG', 'VBP', 'PRP', 'NNS', 'CC', 'NNS', 'IN', 'NNS', 'NN'], customers task\n",
      "finished with Reviewing metrics, metrics, metrics cast, ['VBN', 'IN', 'NNP', 'NNS', ',', 'NNS', ',', 'NNS', 'VBN'], Reviewing metrics, metrics, metrics cast\n",
      "checked over Reviewing reports with clients labor, ['VBN', 'IN', 'NNP', 'NNS', 'IN', 'NNS', 'NN'], Reviewing reports with clients labor\n",
      "organized Reviewing reports with clients project, ['VBN', 'NNP', 'NNS', 'IN', 'NNS', 'NN'], clients project\n",
      "completed assignment to see Researching the latest digital marketing trends & tools, ['VBN', 'NN', 'TO', 'VB', 'VBG', 'DT', 'JJS', 'JJ', 'NN', 'NNS', 'CC', 'NNS'], to see Researching the latest digital marketing trends & tools\n",
      "fixed  Developing keyword lists job, ['VBN', '_SP', 'VBG', 'NN', 'VBZ', 'NN'], lists job\n",
      "put in progress to task  Developing keyword lists, ['VBN', 'IN', 'NN', 'IN', 'NN', '_SP', 'VBG', 'NN', 'NNS'], to task  Developing keyword lists\n",
      "inspected chore Choosing anchor text for backlinks, ['VBN', 'NNP', 'NNP', 'NN', 'NN', 'IN', 'NNS'], text for backlinks\n",
      "checked over Choosing anchor text for backlinks project, ['VBN', 'IN', 'VBG', 'NN', 'NN', 'IN', 'NNP', 'NNP'], Choosing anchor text for backlinks project\n",
      "consummated assignment to project Choosing anchor text for backlinks, ['VBN', 'NN', 'TO', 'VB', 'VBG', 'NN', 'NN', 'IN', 'NNS'], to project Choosing anchor text for backlinks\n",
      "chequered over Distributing articles to article submission websites task, ['VBN', 'IN', 'VBG', 'NNS', 'IN', 'NN', 'NN', 'NNS', 'NN'], Distributing articles to article submission websites task\n",
      "put to task Distributing articles to article submission websites in review, ['VBN', 'IN', 'NN', 'VBG', 'NNS', 'IN', 'NN', 'NN', 'NNS', 'IN', 'NN'], Distributing articles to article submission websites in review\n",
      "designed Distributing articles to article submission websites labor, ['VBN', 'VBG', 'NNS', 'IN', 'NN', 'NN', 'NNS', 'NN'], submission websites labor\n",
      "completed assignment to design Managing relationships with the major search engines, ['VBN', 'NN', 'TO', 'VB', 'VBG', 'NNS', 'IN', 'DT', 'JJ', 'NN', 'NNS'], to design Managing relationships with the major search engines\n",
      "stopped-up Pinging sites after new content has been published, ['VBN', 'HYPH', 'RP', 'VBG', 'NNS', 'IN', 'JJ', 'NN', 'VBZ', 'VBN', 'VBN'], new content has been published\n",
      "inspected Pinging sites after new content has been published job, ['VBN', 'VBG', 'NNS', 'IN', 'JJ', 'NN', 'VBZ', 'VBN', 'VBN', 'NN'], new content has been published job\n",
      "designed throw Renaming files so they are optimized for search engines, ['VBN', 'VBP', 'VBG', 'NNS', 'IN', 'PRP', 'VBP', 'VBN', 'IN', 'NN', 'NNS'], they are optimized for search engines\n",
      "delayed Writing blog content based on a keyword strategy job, ['VBN', 'NNP', 'NN', 'NN', 'VBN', 'IN', 'DT', 'NN', 'NN', 'NN'], content based on a keyword strategy job\n",
      "created Writing blog content based on a keyword strategy chore, ['VBN', 'NNP', 'NN', 'NN', 'VBN', 'IN', 'DT', 'NN', 'NN', 'NN'], content based on a keyword strategy chore\n",
      "proposed Writing article content to publish online, ['VBN', 'NN', 'NN', 'NN', 'TO', 'VB', 'RB'], article content to publish online\n",
      "blocked Writing article content to publish online project assignment, ['VBN', 'VBG', 'NN', 'NN', 'TO', 'VB', 'JJ', 'NN', 'NN'], content to publish online project assignment\n",
      "cast Writing article content to publish online has achieved its goal, ['VBN', 'NN', 'NN', 'NN', 'TO', 'VB', 'RB', 'VBZ', 'VBN', 'PRP$', 'NN'], article content to publish online has achieved its goal\n",
      "fixed Reviewing website backlinks labor, ['VBN', 'NNP', 'NN', 'VBZ', 'NN'], backlinks labor\n",
      "finished with Reviewing website backlinks tax, ['VBN', 'IN', 'NNP', 'NN', 'VBZ', 'NN'], Reviewing website backlinks tax\n",
      "delayed Reviewing website backlinks chore, ['VBN', 'NNP', 'NN', 'NNS', 'NN'], backlinks chore\n",
      "put at risk to Reviewing website backlinks project, ['VBN', 'IN', 'NN', 'IN', 'VBG', 'NN', 'NNS', 'NN'], to Reviewing website backlinks project\n",
      "---\n",
      "Rule accuracy:  0.5356200527704486\n"
     ]
    }
   ],
   "source": [
    "new_df = identifier_pos[(identifier_pos['First Tag'] == 'VBN')]\n",
    "count = 0\n",
    "print('Commands misclassified: ')\n",
    "print('---')\n",
    "for i in new_df.index.values:\n",
    "    text_command = new_df.loc[i][0]\n",
    "    identifier = new_df.loc[i][1]\n",
    "    predicted_identifier = IdentifierIdentifier(nlp, text_command)\n",
    "    if str(predicted_identifier) == identifier:\n",
    "        count += 1\n",
    "    else:\n",
    "        print(print_tags(nlp,text_command)[0] + ', '+str(print_tags(nlp,text_command)[1])+', ' + str(predicted_identifier))\n",
    "print('---')\n",
    "print('Rule accuracy: ', count/len(new_df.index.values)) "
   ]
  },
  {
   "cell_type": "markdown",
   "metadata": {},
   "source": [
    "## Generic Rule Generator (UNFINISHED)"
   ]
  },
  {
   "cell_type": "code",
   "execution_count": 13,
   "metadata": {
    "scrolled": false
   },
   "outputs": [
    {
     "data": {
      "text/plain": [
       "{'ID-NN': 1173,\n",
       " 'VB-NN': 553,\n",
       " 'NN-NN': 420,\n",
       " 'VB-ID': 419,\n",
       " 'NNP-NN': 356,\n",
       " 'NN-ID': 333,\n",
       " 'VBG-ID': 293,\n",
       " 'VBN-ID': 247,\n",
       " 'NNP-ID': 244,\n",
       " 'VBG-NN': 227,\n",
       " 'ID-VBN': 221,\n",
       " 'JJ-ID': 187,\n",
       " 'VBD-NN': 173,\n",
       " 'NN-VBN': 151,\n",
       " 'JJ-NN': 118,\n",
       " 'VB-VB': 114,\n",
       " 'VB-VBN': 112,\n",
       " 'VBN-NN': 108,\n",
       " 'VBD-ID': 105,\n",
       " 'ID-JJ': 101,\n",
       " 'IN-ID': 84,\n",
       " 'ID-VB': 82,\n",
       " 'NNP-VBN': 69,\n",
       " 'NN-JJ': 68,\n",
       " 'ID-VBD': 51,\n",
       " 'ID-RB': 49,\n",
       " 'IN-NN': 42,\n",
       " 'NN-VBD': 38,\n",
       " 'ID-NNS': 37,\n",
       " 'NNP-VBD': 36,\n",
       " 'ID-NNP': 33,\n",
       " 'NN-VB': 32,\n",
       " 'NNP-VB': 30,\n",
       " 'NN-VBP': 26,\n",
       " 'VBG-VBP': 24,\n",
       " '_SP-NN': 23,\n",
       " 'VB-JJ': 22,\n",
       " 'VB-VBD': 22,\n",
       " 'NN-NNP': 21,\n",
       " 'NNP-NNP': 21,\n",
       " 'VB-VBP': 20,\n",
       " 'VB-NNP': 18,\n",
       " 'ID-IN': 18,\n",
       " 'VBP-ID': 17,\n",
       " 'VBD-VBP': 17,\n",
       " 'NNP-JJ': 17,\n",
       " 'NNP-VBP': 14,\n",
       " 'NNP-NNS': 14,\n",
       " 'NN-RB': 13,\n",
       " 'ID-VBP': 12,\n",
       " 'TO-ID': 11,\n",
       " 'PRP-ID': 11,\n",
       " 'ID-RP': 11,\n",
       " 'VBG-VB': 10,\n",
       " 'NN-NNS': 10,\n",
       " 'ID-DT': 10,\n",
       " 'VB-RB': 10,\n",
       " 'VB--RRB-': 10,\n",
       " 'VBP-NN': 9,\n",
       " 'NN-IN': 9,\n",
       " 'TO-NN': 9,\n",
       " 'RB-NN': 8,\n",
       " 'VBD-VBN': 8,\n",
       " 'VBG-VBD': 8,\n",
       " 'NNP-.': 8,\n",
       " 'JJ--RRB-': 8,\n",
       " 'VBG--RRB-': 8,\n",
       " 'VBD-VB': 7,\n",
       " 'JJ-VB': 7,\n",
       " 'VBN-VBP': 7,\n",
       " 'JJ-NNS': 7,\n",
       " 'NN-DT': 7,\n",
       " 'NNP-RP': 7,\n",
       " 'NN--RRB-': 7,\n",
       " 'JJ-VBN': 6,\n",
       " 'NNS-ID': 6,\n",
       " 'VBG-VBN': 6,\n",
       " 'RB-ID': 6,\n",
       " 'JJ-VBD': 5,\n",
       " 'VB-RP': 5,\n",
       " 'VBD-VBD': 5,\n",
       " 'VBG-JJ': 5,\n",
       " 'IN-VBP': 5,\n",
       " 'NN-RP': 5,\n",
       " 'VBN-VBN': 5,\n",
       " 'ID-VBG': 4,\n",
       " 'VBD-JJ': 4,\n",
       " 'NN-VBG': 4,\n",
       " 'VBD-NNP': 4,\n",
       " 'NNP--RRB-': 4,\n",
       " '_SP-VBN': 4,\n",
       " 'VB-DT': 3,\n",
       " 'DT-ID': 3,\n",
       " 'VBD-NNS': 3,\n",
       " 'VBG-NNS': 3,\n",
       " 'VBG-NNP': 3,\n",
       " 'VBN-VB': 3,\n",
       " 'JJ-NNP': 3,\n",
       " 'VBP-VBD': 2,\n",
       " 'NNP-RB': 2,\n",
       " 'NNP-IN': 2,\n",
       " 'IN-NNP': 2,\n",
       " 'DT-NN': 2,\n",
       " 'VBN-.': 2,\n",
       " 'VB-NNS': 2,\n",
       " 'VBN--RRB-': 2,\n",
       " 'VBN-JJ': 2,\n",
       " '_SP-NNP': 2,\n",
       " '_SP-VBD': 2,\n",
       " 'JJ-VBP': 1,\n",
       " 'IN-VB': 1,\n",
       " 'ID-NNPS': 1,\n",
       " 'VBN-NNS': 1,\n",
       " 'LS-LS': 1,\n",
       " 'UH-VB': 1,\n",
       " 'VBD-.': 1,\n",
       " 'VB-.': 1,\n",
       " 'VBG-.': 1,\n",
       " 'IN-VBN': 1,\n",
       " 'TO-VB': 1,\n",
       " 'VBP-VBN': 1,\n",
       " 'TO--RRB-': 1,\n",
       " 'NNP-DT': 1,\n",
       " 'VBP-VBP': 1,\n",
       " 'JJ-JJ': 1,\n",
       " 'VBN-VBD': 1,\n",
       " '_SP-RB': 1,\n",
       " 'VBD--RRB-': 1,\n",
       " 'VBN-NNP': 1,\n",
       " 'TO-VBP': 1}"
      ]
     },
     "execution_count": 13,
     "metadata": {},
     "output_type": "execute_result"
    }
   ],
   "source": [
    "first_last_combo_totals = dict()\n",
    "for key in first_last_combo_dict.keys():\n",
    "    first_last_combo_totals[key] = sum(first_last_combo_dict[key].values())\n",
    "#sorted dictionary of the text commands where the first and last words in the text command are nouns\n",
    "first_last_combo_totals = {k: v for k, v in sorted(first_last_combo_totals.items(), key=lambda item: item[1],reverse=True)}\n",
    "first_last_combo_totals"
   ]
  },
  {
   "cell_type": "code",
   "execution_count": 19,
   "metadata": {},
   "outputs": [
    {
     "data": {
      "image/png": "[encoded data removed]",
      "text/plain": [
       "<Figure size 1440x360 with 1 Axes>"
      ]
     },
     "metadata": {
      "needs_background": "light"
     },
     "output_type": "display_data"
    },
    {
     "data": {
      "image/png": "[encoded data removed]",
      "text/plain": [
       "<Figure size 1440x360 with 1 Axes>"
      ]
     },
     "metadata": {
      "needs_background": "light"
     },
     "output_type": "display_data"
    },
    {
     "data": {
      "image/png": "[encoded data removed]",
      "text/plain": [
       "<Figure size 1440x360 with 1 Axes>"
      ]
     },
     "metadata": {
      "needs_background": "light"
     },
     "output_type": "display_data"
    },
    {
     "data": {
      "image/png": "[encoded data removed]",
      "text/plain": [
       "<Figure size 1440x360 with 1 Axes>"
      ]
     },
     "metadata": {
      "needs_background": "light"
     },
     "output_type": "display_data"
    },
    {
     "data": {
      "image/png": "[encoded data removed]",
      "text/plain": [
       "<Figure size 1440x360 with 1 Axes>"
      ]
     },
     "metadata": {
      "needs_background": "light"
     },
     "output_type": "display_data"
    },
    {
     "data": {
      "image/png": "[encoded data removed]",
      "text/plain": [
       "<Figure size 1440x360 with 1 Axes>"
      ]
     },
     "metadata": {
      "needs_background": "light"
     },
     "output_type": "display_data"
    },
    {
     "data": {
      "image/png": "[encoded data removed]",
      "text/plain": [
       "<Figure size 1440x360 with 1 Axes>"
      ]
     },
     "metadata": {
      "needs_background": "light"
     },
     "output_type": "display_data"
    },
    {
     "data": {
      "image/png": "[encoded data removed]",
      "text/plain": [
       "<Figure size 1440x360 with 1 Axes>"
      ]
     },
     "metadata": {
      "needs_background": "light"
     },
     "output_type": "display_data"
    },
    {
     "data": {
      "image/png": "[encoded data removed]",
      "text/plain": [
       "<Figure size 1440x360 with 1 Axes>"
      ]
     },
     "metadata": {
      "needs_background": "light"
     },
     "output_type": "display_data"
    },
    {
     "data": {
      "image/png": "[encoded data removed]",
      "text/plain": [
       "<Figure size 1440x360 with 1 Axes>"
      ]
     },
     "metadata": {
      "needs_background": "light"
     },
     "output_type": "display_data"
    },
    {
     "data": {
      "image/png": "[encoded data removed]",
      "text/plain": [
       "<Figure size 1440x360 with 1 Axes>"
      ]
     },
     "metadata": {
      "needs_background": "light"
     },
     "output_type": "display_data"
    },
    {
     "data": {
      "image/png": "[encoded data removed]",
      "text/plain": [
       "<Figure size 1440x360 with 1 Axes>"
      ]
     },
     "metadata": {
      "needs_background": "light"
     },
     "output_type": "display_data"
    },
    {
     "data": {
      "image/png": "[encoded data removed]",
      "text/plain": [
       "<Figure size 1440x360 with 1 Axes>"
      ]
     },
     "metadata": {
      "needs_background": "light"
     },
     "output_type": "display_data"
    },
    {
     "data": {
      "image/png": "[encoded data removed]",
      "text/plain": [
       "<Figure size 1440x360 with 1 Axes>"
      ]
     },
     "metadata": {
      "needs_background": "light"
     },
     "output_type": "display_data"
    },
    {
     "data": {
      "image/png": "[encoded data removed]",
      "text/plain": [
       "<Figure size 1440x360 with 1 Axes>"
      ]
     },
     "metadata": {
      "needs_background": "light"
     },
     "output_type": "display_data"
    },
    {
     "data": {
      "image/png": "[encoded data removed]",
      "text/plain": [
       "<Figure size 1440x360 with 1 Axes>"
      ]
     },
     "metadata": {
      "needs_background": "light"
     },
     "output_type": "display_data"
    },
    {
     "data": {
      "image/png": "[encoded data removed]",
      "text/plain": [
       "<Figure size 1440x360 with 1 Axes>"
      ]
     },
     "metadata": {
      "needs_background": "light"
     },
     "output_type": "display_data"
    },
    {
     "data": {
      "image/png": "[encoded data removed]",
      "text/plain": [
       "<Figure size 1440x360 with 1 Axes>"
      ]
     },
     "metadata": {
      "needs_background": "light"
     },
     "output_type": "display_data"
    },
    {
     "data": {
      "image/png": "[encoded data removed]",
      "text/plain": [
       "<Figure size 1440x360 with 1 Axes>"
      ]
     },
     "metadata": {
      "needs_background": "light"
     },
     "output_type": "display_data"
    },
    {
     "data": {
      "image/png": "[encoded data removed]",
      "text/plain": [
       "<Figure size 1440x360 with 1 Axes>"
      ]
     },
     "metadata": {
      "needs_background": "light"
     },
     "output_type": "display_data"
    }
   ],
   "source": [
    "for i in list(first_last_combo_totals.keys())[:20]:\n",
    "    #sorted dictionary of the text commands where the first and last words in the text command are nouns\n",
    "    sorted_combo_tag_dict = {k: v for k, v in sorted(first_last_combo_dict[i].items(), key=lambda item: item[1],reverse=True)}\n",
    "    #visualize the number of text commands with a certain start end POS combo for the above condition\n",
    "    plt.figure(figsize=(20,5))\n",
    "    plt.title(i)\n",
    "    plt.bar(list(sorted_combo_tag_dict.keys()),list(sorted_combo_tag_dict.values()),width=0.5)"
   ]
  },
  {
   "cell_type": "code",
   "execution_count": null,
   "metadata": {},
   "outputs": [],
   "source": [
    "#applys the rule where if the text command starts and ends with a noun then we look for the first instance\n",
    "#of a noun, then every word after is included in the identifier until a noun, preposition, or verb is found\n",
    "def IdentifierIdentifier(pos_tagger,text_command):\n",
    "    sentence = pos_tagger(text_command)\n",
    "    first_tag = sentence[0].tag_\n",
    "    last_tag = sentence[-1].tag_\n",
    "    first_idx = None\n",
    "    last_idx = None\n",
    "    identifier_start = False\n",
    "#     if first_tag == 'NN' and last_tag == 'NN':\n",
    "#         for i in range(len(sentence)):\n",
    "#             tag = sentence[i].tag_\n",
    "#             if identifier_start and (tag == 'IN' or tag == 'VBZ' or tag == 'NN'):\n",
    "#                 if tag == 'NN':\n",
    "#                     last_idx = i+1\n",
    "#                 else:\n",
    "#                     last_idx = i\n",
    "#                 break\n",
    "#             if not identifier_start and tag == 'NN':\n",
    "#                 first_idx = i\n",
    "#                 identifier_start = True\n",
    "    #if first_tag == 'VBN':\n",
    "    for i in range(len(sentence)):\n",
    "        tag = sentence[i].tag_\n",
    "        if i+1 <= len(sentence)-1:\n",
    "            next_tag = sentence[i+1].tag_\n",
    "        else:\n",
    "            next_tag = None\n",
    "        if (tag == 'IN' and next_tag == 'NN') or ((tag == 'NN' and next_tag == 'IN') or (tag == 'NN' and next_tag == 'VBN')):\n",
    "            first_idx = i+2\n",
    "            break\n",
    "        if (tag == 'NN' or tag == 'IN'):\n",
    "            first_idx = i+1\n",
    "            break\n",
    "    last_idx = len(sentence)\n",
    "        \n",
    "    identifier = sentence[first_idx:last_idx]\n",
    "    return identifier"
   ]
  },
  {
   "cell_type": "code",
   "execution_count": 42,
   "metadata": {},
   "outputs": [
    {
     "name": "stdout",
     "output_type": "stream",
     "text": [
      "0.5331161780673181\n"
     ]
    }
   ],
   "source": [
    "first_tags = []\n",
    "last_tags = []\n",
    "for key in list(first_last_combo_totals.keys())[:20]:\n",
    "    if key.split('-')[1] == 'ID':\n",
    "        first_tags.append(key.split('-')[0])\n",
    "        #last_tags.append(key.split('-')[1])\n",
    "\n",
    "count = 0\n",
    "total = 0\n",
    "for first_tag in first_tags:\n",
    "    new_df = identifier_pos[(identifier_pos['Last Tag'] == 'ID') & (identifier_pos['First Tag'] == first_tag)]\n",
    "    total += len(new_df.index.values)\n",
    "    for i in new_df.index.values:\n",
    "        text_command = new_df.loc[i][0]\n",
    "        identifier = new_df.loc[i][1]\n",
    "        \n",
    "        predicted_identifier = IdentifierIdentifier(nlp, text_command)\n",
    "        \n",
    "        if str(predicted_identifier) == identifier:\n",
    "            count += 1\n",
    "    #     else:\n",
    "    #         print(print_tags(nlp,text_command)[0] + ', '+str(print_tags(nlp,text_command)[1])+', ' + str(predicted_identifier))\n",
    "\n",
    "    print(count/total) "
   ]
  },
  {
   "cell_type": "code",
   "execution_count": 92,
   "metadata": {},
   "outputs": [
    {
     "data": {
      "text/plain": [
       "{'SS-NN': 277,\n",
       " 'SS-VBZ': 68,\n",
       " 'SS-VBP': 67,\n",
       " 'SS-IN': 38,\n",
       " 'SS-VB': 33,\n",
       " 'SS-VBD': 25,\n",
       " 'SS-JJ': 24,\n",
       " 'SS-EX': 15,\n",
       " 'SS-VBN': 7,\n",
       " 'SS-VBG': 6,\n",
       " 'SS-NNS': 5,\n",
       " 'SS-RB': 4,\n",
       " 'SS-RP': 1}"
      ]
     },
     "execution_count": 92,
     "metadata": {},
     "output_type": "execute_result"
    }
   ],
   "source": [
    "tag_combo = {k: v for k, v in sorted(first_last_combo_dict['ID-NN'].items(), key=lambda item: item[1],reverse=True)}\n",
    "tag_combo"
   ]
  },
  {
   "cell_type": "code",
   "execution_count": 98,
   "metadata": {},
   "outputs": [
    {
     "name": "stdout",
     "output_type": "stream",
     "text": [
      "SS-NN 277\n",
      "SS-VBZ 68\n",
      "SS-VBP 67\n",
      "SS-IN 38\n",
      "SS-VB 33\n",
      "SS-VBD 25\n",
      "SS-JJ 24\n",
      "SS-EX 15\n",
      "SS-VBN 7\n",
      "SS-VBG 6\n",
      "SS-NNS 5\n",
      "SS-RB 4\n",
      "SS-RP 1\n"
     ]
    }
   ],
   "source": [
    "threshold = 0.70\n",
    "threshold_num = round(sum(list(tag_combo.values()))*threshold)\n",
    "threshold_num\n",
    "\n",
    "counter_thresh = 0\n",
    "for tags, count in tag_combo.items():\n",
    "    counter_thresh += count\n",
    "    if counter_thresh > threshold_num:\n",
    "        break\n",
    "    else:\n",
    "        "
   ]
  },
  {
   "cell_type": "code",
   "execution_count": 46,
   "metadata": {},
   "outputs": [
    {
     "data": {
      "text/html": [
       "<div>\n",
       "<style scoped>\n",
       "    .dataframe tbody tr th:only-of-type {\n",
       "        vertical-align: middle;\n",
       "    }\n",
       "\n",
       "    .dataframe tbody tr th {\n",
       "        vertical-align: top;\n",
       "    }\n",
       "\n",
       "    .dataframe thead th {\n",
       "        text-align: right;\n",
       "    }\n",
       "</style>\n",
       "<table border=\"1\" class=\"dataframe\">\n",
       "  <thead>\n",
       "    <tr style=\"text-align: right;\">\n",
       "      <th></th>\n",
       "      <th>Text Command</th>\n",
       "      <th>Identifier</th>\n",
       "      <th>Tag Start</th>\n",
       "      <th>Tag End</th>\n",
       "      <th>First Tag</th>\n",
       "      <th>Last Tag</th>\n",
       "    </tr>\n",
       "  </thead>\n",
       "  <tbody>\n",
       "  </tbody>\n",
       "</table>\n",
       "</div>"
      ],
      "text/plain": [
       "Empty DataFrame\n",
       "Columns: [Text Command, Identifier, Tag Start, Tag End, First Tag, Last Tag]\n",
       "Index: []"
      ]
     },
     "execution_count": 46,
     "metadata": {},
     "output_type": "execute_result"
    }
   ],
   "source": [
    "tmp = new_df[(new_df['Tag Start'] == 'SS') & (new_df['Tag End'] == 'NN')]\n",
    "tmp"
   ]
  },
  {
   "cell_type": "code",
   "execution_count": 47,
   "metadata": {},
   "outputs": [],
   "source": [
    "for i in list(list(tmp['Text Command'].values)):\n",
    "    tmp2 = nlp(i)\n",
    "\n",
    "    for i in tmp2:\n",
    "        print(i, i.tag_, ',', end='')\n",
    "    print('')"
   ]
  }
 ],
 "metadata": {
  "kernelspec": {
   "display_name": "Python 3",
   "language": "python",
   "name": "python3"
  },
  "language_info": {
   "codemirror_mode": {
    "name": "ipython",
    "version": 3
   },
   "file_extension": ".py",
   "mimetype": "text/x-python",
   "name": "python",
   "nbconvert_exporter": "python",
   "pygments_lexer": "ipython3",
   "version": "3.7.1"
  }
 },
 "nbformat": 4,
 "nbformat_minor": 2
}
