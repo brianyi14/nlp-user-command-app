{
 "cells": [
  {
   "cell_type": "markdown",
   "metadata": {},
   "source": [
    "# Locating Identifier: POS Tagging"
   ]
  },
  {
   "cell_type": "code",
   "execution_count": 1,
   "metadata": {},
   "outputs": [],
   "source": [
    "import spacy\n",
    "import en_core_web_sm\n",
    "import pandas as pd\n",
    "import matplotlib.pyplot as plt"
   ]
  },
  {
   "cell_type": "markdown",
   "metadata": {},
   "source": [
    "spaCy linguistic features: https://spacy.io/usage/linguistic-features#pos-tagging"
   ]
  },
  {
   "cell_type": "code",
   "execution_count": 2,
   "metadata": {},
   "outputs": [],
   "source": [
    "#load the part of speech tagger\n",
    "nlp = en_core_web_sm.load()"
   ]
  },
  {
   "cell_type": "code",
   "execution_count": 3,
   "metadata": {},
   "outputs": [
    {
     "data": {
      "text/html": [
       "<div>\n",
       "<style scoped>\n",
       "    .dataframe tbody tr th:only-of-type {\n",
       "        vertical-align: middle;\n",
       "    }\n",
       "\n",
       "    .dataframe tbody tr th {\n",
       "        vertical-align: top;\n",
       "    }\n",
       "\n",
       "    .dataframe thead th {\n",
       "        text-align: right;\n",
       "    }\n",
       "</style>\n",
       "<table border=\"1\" class=\"dataframe\">\n",
       "  <thead>\n",
       "    <tr style=\"text-align: right;\">\n",
       "      <th></th>\n",
       "      <th>Text Command</th>\n",
       "      <th>Topic</th>\n",
       "      <th>Identifier</th>\n",
       "      <th>Action</th>\n",
       "      <th>One Hot Encoded Topic</th>\n",
       "      <th>One Hot Encoded Action</th>\n",
       "      <th>Verb/Noun</th>\n",
       "    </tr>\n",
       "  </thead>\n",
       "  <tbody>\n",
       "    <tr>\n",
       "      <th>0</th>\n",
       "      <td>critique Track trends</td>\n",
       "      <td>Task</td>\n",
       "      <td>Track trends</td>\n",
       "      <td>In Review</td>\n",
       "      <td>[1,0]</td>\n",
       "      <td>[0,0,1,0,0]</td>\n",
       "      <td>SYNREPLACED</td>\n",
       "    </tr>\n",
       "    <tr>\n",
       "      <th>1</th>\n",
       "      <td>assign tax Track trends in progress</td>\n",
       "      <td>Task</td>\n",
       "      <td>Track trends</td>\n",
       "      <td>In Progress</td>\n",
       "      <td>[1,0]</td>\n",
       "      <td>[0,1,0,0,0]</td>\n",
       "      <td>SYNREPLACED</td>\n",
       "    </tr>\n",
       "    <tr>\n",
       "      <th>2</th>\n",
       "      <td>Track trends chore is completed</td>\n",
       "      <td>Task</td>\n",
       "      <td>Track trends</td>\n",
       "      <td>Completed</td>\n",
       "      <td>[1,0]</td>\n",
       "      <td>[0,0,0,0,1]</td>\n",
       "      <td>SYNREPLACED</td>\n",
       "    </tr>\n",
       "    <tr>\n",
       "      <th>3</th>\n",
       "      <td>create a new Track trends chore</td>\n",
       "      <td>Task</td>\n",
       "      <td>Track trends</td>\n",
       "      <td>To Do</td>\n",
       "      <td>[1,0]</td>\n",
       "      <td>[1,0,0,0,0]</td>\n",
       "      <td>SYNREPLACED</td>\n",
       "    </tr>\n",
       "    <tr>\n",
       "      <th>4</th>\n",
       "      <td>Track trends fall to orbit</td>\n",
       "      <td>Project</td>\n",
       "      <td>Track trends</td>\n",
       "      <td>On Target</td>\n",
       "      <td>[0,1]</td>\n",
       "      <td>[0,1,0,0,0]</td>\n",
       "      <td>SYNREPLACED</td>\n",
       "    </tr>\n",
       "    <tr>\n",
       "      <th>...</th>\n",
       "      <td>...</td>\n",
       "      <td>...</td>\n",
       "      <td>...</td>\n",
       "      <td>...</td>\n",
       "      <td>...</td>\n",
       "      <td>...</td>\n",
       "      <td>...</td>\n",
       "    </tr>\n",
       "    <tr>\n",
       "      <th>2985</th>\n",
       "      <td>create a green Evaluate profits</td>\n",
       "      <td>Task</td>\n",
       "      <td>Evaluate profits</td>\n",
       "      <td>To Do</td>\n",
       "      <td>[1,0]</td>\n",
       "      <td>[1,0,0,0,0]</td>\n",
       "      <td>SYNREPLACED</td>\n",
       "    </tr>\n",
       "    <tr>\n",
       "      <th>2986</th>\n",
       "      <td>assign Evaluate profits in advance</td>\n",
       "      <td>Task</td>\n",
       "      <td>Evaluate profits</td>\n",
       "      <td>In Progress</td>\n",
       "      <td>[1,0]</td>\n",
       "      <td>[0,1,0,0,0]</td>\n",
       "      <td>SYNREPLACED</td>\n",
       "    </tr>\n",
       "    <tr>\n",
       "      <th>2987</th>\n",
       "      <td>see Evaluate profits at risk</td>\n",
       "      <td>Project</td>\n",
       "      <td>Evaluate profits</td>\n",
       "      <td>At Risk</td>\n",
       "      <td>[0,1]</td>\n",
       "      <td>[0,0,1,0,0]</td>\n",
       "      <td>SYNREPLACED</td>\n",
       "    </tr>\n",
       "    <tr>\n",
       "      <th>2988</th>\n",
       "      <td>out of use task Evaluate profits</td>\n",
       "      <td>Task</td>\n",
       "      <td>Evaluate profits</td>\n",
       "      <td>Blocked</td>\n",
       "      <td>[1,0]</td>\n",
       "      <td>[0,0,0,1,0]</td>\n",
       "      <td>SYNREPLACED</td>\n",
       "    </tr>\n",
       "    <tr>\n",
       "      <th>2989</th>\n",
       "      <td>assign Evaluate profits on point</td>\n",
       "      <td>Project</td>\n",
       "      <td>Evaluate profits</td>\n",
       "      <td>On Target</td>\n",
       "      <td>[0,1]</td>\n",
       "      <td>[0,1,0,0,0]</td>\n",
       "      <td>SYNREPLACED</td>\n",
       "    </tr>\n",
       "  </tbody>\n",
       "</table>\n",
       "<p>2990 rows × 7 columns</p>\n",
       "</div>"
      ],
      "text/plain": [
       "                             Text Command    Topic        Identifier  \\\n",
       "0                   critique Track trends     Task      Track trends   \n",
       "1     assign tax Track trends in progress     Task      Track trends   \n",
       "2         Track trends chore is completed     Task      Track trends   \n",
       "3         create a new Track trends chore     Task      Track trends   \n",
       "4              Track trends fall to orbit  Project      Track trends   \n",
       "...                                   ...      ...               ...   \n",
       "2985      create a green Evaluate profits     Task  Evaluate profits   \n",
       "2986   assign Evaluate profits in advance     Task  Evaluate profits   \n",
       "2987         see Evaluate profits at risk  Project  Evaluate profits   \n",
       "2988     out of use task Evaluate profits     Task  Evaluate profits   \n",
       "2989     assign Evaluate profits on point  Project  Evaluate profits   \n",
       "\n",
       "           Action One Hot Encoded Topic One Hot Encoded Action    Verb/Noun  \n",
       "0       In Review                 [1,0]            [0,0,1,0,0]  SYNREPLACED  \n",
       "1     In Progress                 [1,0]            [0,1,0,0,0]  SYNREPLACED  \n",
       "2       Completed                 [1,0]            [0,0,0,0,1]  SYNREPLACED  \n",
       "3           To Do                 [1,0]            [1,0,0,0,0]  SYNREPLACED  \n",
       "4       On Target                 [0,1]            [0,1,0,0,0]  SYNREPLACED  \n",
       "...           ...                   ...                    ...          ...  \n",
       "2985        To Do                 [1,0]            [1,0,0,0,0]  SYNREPLACED  \n",
       "2986  In Progress                 [1,0]            [0,1,0,0,0]  SYNREPLACED  \n",
       "2987      At Risk                 [0,1]            [0,0,1,0,0]  SYNREPLACED  \n",
       "2988      Blocked                 [1,0]            [0,0,0,1,0]  SYNREPLACED  \n",
       "2989    On Target                 [0,1]            [0,1,0,0,0]  SYNREPLACED  \n",
       "\n",
       "[2990 rows x 7 columns]"
      ]
     },
     "execution_count": 3,
     "metadata": {},
     "output_type": "execute_result"
    }
   ],
   "source": [
    "df = pd.read_csv('data/Augmented_Data.csv')\n",
    "df"
   ]
  },
  {
   "cell_type": "markdown",
   "metadata": {},
   "source": [
    "## EDA to Develop Rules"
   ]
  },
  {
   "cell_type": "code",
   "execution_count": 4,
   "metadata": {},
   "outputs": [],
   "source": [
    "#create dataframe for adding tag data\n",
    "identifier_pos = pd.DataFrame(columns = ['Text Command', 'Identifier', 'Tag Start', 'Tag End', 'First Tag', 'Last Tag'])"
   ]
  },
  {
   "cell_type": "markdown",
   "metadata": {},
   "source": [
    "### POS Tagging"
   ]
  },
  {
   "cell_type": "code",
   "execution_count": 59,
   "metadata": {},
   "outputs": [
    {
     "name": "stdout",
     "output_type": "stream",
     "text": [
      "Commands tagged: 2989\r"
     ]
    }
   ],
   "source": [
    "\"\"\"\n",
    "This method finds the POS of the first word in the sentence (Tag Start), last word of the\n",
    "sentence (Tag End), the word preceding the identifier (First Tag), and the word that comes\n",
    "right after the identifier (Last Tag).\n",
    "\"\"\"\n",
    "for i in df.index.values:\n",
    "    #convert sentence into list of words with tags associated to each word\n",
    "    sentence = nlp(df.loc[i][0])\n",
    "    #create list of words that make up identifier\n",
    "    identifier = df.loc[i][2].split()\n",
    "    #first word in the identifier\n",
    "    identifier_start = identifier[0]\n",
    "    #last word in the identifier\n",
    "    identifier_end = identifier[-1]\n",
    "    #intialize the start of sentence tag\n",
    "    last_word = nlp('SS')\n",
    "#     for token in last_word:\n",
    "#         #last word starts as SS token\n",
    "#         last_word = token\n",
    "    #intialize the tag after the identifier as None\n",
    "    tag_end = None\n",
    "    #iterate through the words in the text command\n",
    "    for j in range(len(sentence)):\n",
    "        token = sentence[j]\n",
    "        #if the word is equal to the first word in the identifer...\n",
    "        if token.text == identifier_start:\n",
    "            #if the last word variable is still the SS token then the tag that starts the identifier is the\n",
    "            #start of the sentence\n",
    "            if last_word.text == 'SS':\n",
    "                tag_start = 'SS'\n",
    "            #if not then the start tag is the POS tag of the last checked word\n",
    "            else:\n",
    "                tag_start = last_word.tag_\n",
    "        #if the word is equal to the last word in the identifier...\n",
    "        if last_word.text == identifier_end:\n",
    "            tag_end = token.tag_\n",
    "        #check the POS tag of the first word in the sentence\n",
    "        if j == 0:\n",
    "            if token.text == identifier_start:\n",
    "                first_tag = 'ID'\n",
    "            else:\n",
    "                first_tag = token.tag_\n",
    "        #check the POS tag of the last word in the sentence\n",
    "        if j == len(sentence)-1:\n",
    "            if token.text == identifier_end:\n",
    "                last_tag = 'ID'\n",
    "            else:\n",
    "                last_tag = token.tag_\n",
    "        #save the current word as last word for the above conditionals \n",
    "        last_word = token\n",
    "    #if tag end hasn't been updated then we know that the identifier is at the end of the sentence\n",
    "    if tag_end == None:\n",
    "        tag_end = 'ES'\n",
    "    identifier_pos.loc[i] = [str(sentence), df.loc[i][2], tag_start, tag_end, first_tag, last_tag]\n",
    "    print('Commands tagged: ' + str(i), end='\\r')"
   ]
  },
  {
   "cell_type": "code",
   "execution_count": 6,
   "metadata": {},
   "outputs": [
    {
     "data": {
      "text/html": [
       "<div>\n",
       "<style scoped>\n",
       "    .dataframe tbody tr th:only-of-type {\n",
       "        vertical-align: middle;\n",
       "    }\n",
       "\n",
       "    .dataframe tbody tr th {\n",
       "        vertical-align: top;\n",
       "    }\n",
       "\n",
       "    .dataframe thead th {\n",
       "        text-align: right;\n",
       "    }\n",
       "</style>\n",
       "<table border=\"1\" class=\"dataframe\">\n",
       "  <thead>\n",
       "    <tr style=\"text-align: right;\">\n",
       "      <th></th>\n",
       "      <th>Text Command</th>\n",
       "      <th>Identifier</th>\n",
       "      <th>Tag Start</th>\n",
       "      <th>Tag End</th>\n",
       "      <th>First Tag</th>\n",
       "      <th>Last Tag</th>\n",
       "    </tr>\n",
       "  </thead>\n",
       "  <tbody>\n",
       "    <tr>\n",
       "      <th>0</th>\n",
       "      <td>critique Track trends</td>\n",
       "      <td>Track trends</td>\n",
       "      <td>NNP</td>\n",
       "      <td>ES</td>\n",
       "      <td>NNP</td>\n",
       "      <td>ID</td>\n",
       "    </tr>\n",
       "    <tr>\n",
       "      <th>1</th>\n",
       "      <td>assign tax Track trends in progress</td>\n",
       "      <td>Track trends</td>\n",
       "      <td>NN</td>\n",
       "      <td>IN</td>\n",
       "      <td>NNP</td>\n",
       "      <td>NN</td>\n",
       "    </tr>\n",
       "    <tr>\n",
       "      <th>2</th>\n",
       "      <td>Track trends chore is completed</td>\n",
       "      <td>Track trends</td>\n",
       "      <td>SS</td>\n",
       "      <td>NN</td>\n",
       "      <td>ID</td>\n",
       "      <td>VBN</td>\n",
       "    </tr>\n",
       "    <tr>\n",
       "      <th>3</th>\n",
       "      <td>create a new Track trends chore</td>\n",
       "      <td>Track trends</td>\n",
       "      <td>JJ</td>\n",
       "      <td>NN</td>\n",
       "      <td>VB</td>\n",
       "      <td>NN</td>\n",
       "    </tr>\n",
       "    <tr>\n",
       "      <th>4</th>\n",
       "      <td>Track trends fall to orbit</td>\n",
       "      <td>Track trends</td>\n",
       "      <td>SS</td>\n",
       "      <td>VBP</td>\n",
       "      <td>ID</td>\n",
       "      <td>NN</td>\n",
       "    </tr>\n",
       "    <tr>\n",
       "      <th>...</th>\n",
       "      <td>...</td>\n",
       "      <td>...</td>\n",
       "      <td>...</td>\n",
       "      <td>...</td>\n",
       "      <td>...</td>\n",
       "      <td>...</td>\n",
       "    </tr>\n",
       "    <tr>\n",
       "      <th>2985</th>\n",
       "      <td>create a green Evaluate profits</td>\n",
       "      <td>Evaluate profits</td>\n",
       "      <td>JJ</td>\n",
       "      <td>ES</td>\n",
       "      <td>VB</td>\n",
       "      <td>ID</td>\n",
       "    </tr>\n",
       "    <tr>\n",
       "      <th>2986</th>\n",
       "      <td>assign Evaluate profits in advance</td>\n",
       "      <td>Evaluate profits</td>\n",
       "      <td>NNP</td>\n",
       "      <td>IN</td>\n",
       "      <td>NNP</td>\n",
       "      <td>NN</td>\n",
       "    </tr>\n",
       "    <tr>\n",
       "      <th>2987</th>\n",
       "      <td>see Evaluate profits at risk</td>\n",
       "      <td>Evaluate profits</td>\n",
       "      <td>VB</td>\n",
       "      <td>IN</td>\n",
       "      <td>VB</td>\n",
       "      <td>NN</td>\n",
       "    </tr>\n",
       "    <tr>\n",
       "      <th>2988</th>\n",
       "      <td>out of use task Evaluate profits</td>\n",
       "      <td>Evaluate profits</td>\n",
       "      <td>NN</td>\n",
       "      <td>ES</td>\n",
       "      <td>IN</td>\n",
       "      <td>ID</td>\n",
       "    </tr>\n",
       "    <tr>\n",
       "      <th>2989</th>\n",
       "      <td>assign Evaluate profits on point</td>\n",
       "      <td>Evaluate profits</td>\n",
       "      <td>NNP</td>\n",
       "      <td>IN</td>\n",
       "      <td>NNP</td>\n",
       "      <td>NN</td>\n",
       "    </tr>\n",
       "  </tbody>\n",
       "</table>\n",
       "<p>2990 rows × 6 columns</p>\n",
       "</div>"
      ],
      "text/plain": [
       "                             Text Command        Identifier Tag Start Tag End  \\\n",
       "0                   critique Track trends      Track trends       NNP      ES   \n",
       "1     assign tax Track trends in progress      Track trends        NN      IN   \n",
       "2         Track trends chore is completed      Track trends        SS      NN   \n",
       "3         create a new Track trends chore      Track trends        JJ      NN   \n",
       "4              Track trends fall to orbit      Track trends        SS     VBP   \n",
       "...                                   ...               ...       ...     ...   \n",
       "2985      create a green Evaluate profits  Evaluate profits        JJ      ES   \n",
       "2986   assign Evaluate profits in advance  Evaluate profits       NNP      IN   \n",
       "2987         see Evaluate profits at risk  Evaluate profits        VB      IN   \n",
       "2988     out of use task Evaluate profits  Evaluate profits        NN      ES   \n",
       "2989     assign Evaluate profits on point  Evaluate profits       NNP      IN   \n",
       "\n",
       "     First Tag Last Tag  \n",
       "0          NNP       ID  \n",
       "1          NNP       NN  \n",
       "2           ID      VBN  \n",
       "3           VB       NN  \n",
       "4           ID       NN  \n",
       "...        ...      ...  \n",
       "2985        VB       ID  \n",
       "2986       NNP       NN  \n",
       "2987        VB       NN  \n",
       "2988        IN       ID  \n",
       "2989       NNP       NN  \n",
       "\n",
       "[2990 rows x 6 columns]"
      ]
     },
     "execution_count": 6,
     "metadata": {},
     "output_type": "execute_result"
    }
   ],
   "source": [
    "identifier_pos"
   ]
  },
  {
   "cell_type": "markdown",
   "metadata": {},
   "source": [
    "### Descriptive Analytics"
   ]
  },
  {
   "cell_type": "code",
   "execution_count": 7,
   "metadata": {},
   "outputs": [],
   "source": [
    "\"\"\"\n",
    "This method finds the counts of each tab combo\n",
    "\"\"\"\n",
    "#intialize the dictionaries that contain counts of POS tags associated with text commands\n",
    "tag_start_dict = dict()\n",
    "tag_end_dict = dict()\n",
    "tag_combo_dict = dict()\n",
    "first_tag_dict = dict()\n",
    "last_tag_dict = dict()\n",
    "first_last_combo_dict = dict()\n",
    "for i in range(len(identifier_pos.index)):\n",
    "    tag_start = identifier_pos.loc[i][2]\n",
    "    tag_end = identifier_pos.loc[i][3]\n",
    "    #string combination of the two tags that the identifier is between\n",
    "    tag_combo = tag_start + '-' + tag_end\n",
    "    #POS tag of the first word in text command\n",
    "    first_tag = identifier_pos.loc[i][4]\n",
    "    last_tag = identifier_pos.loc[i][5]\n",
    "    #string combination of first and last tag\n",
    "    first_last_combo = first_tag + '-' + last_tag\n",
    "    #update counts of text commands where POS tag indicates start of identifier\n",
    "    if tag_start_dict.get(tag_start,0) == 0:\n",
    "        tag_start_dict[tag_start] = 1\n",
    "    else:\n",
    "        tag_start_dict[tag_start] += 1\n",
    "    #same thing but for end of identifier \n",
    "    if tag_end_dict.get(tag_end,0) == 0:\n",
    "        tag_end_dict[tag_end] = 1\n",
    "    else:\n",
    "        tag_end_dict[tag_end] += 1\n",
    "    #update counts of text commands where identifier is between combo of start and end POS tags\n",
    "    if tag_combo_dict.get(tag_combo,0) == 0:\n",
    "        tag_combo_dict[tag_combo] = 1\n",
    "    else:\n",
    "        tag_combo_dict[tag_combo] += 1\n",
    "    #update counts of text commands with a nested dictionary. Keys in the outer dictionary are the POS tag assigned\n",
    "    #to the first word in the text command. Key in the inner dictionary is the combo of start and end POS tags\n",
    "    if first_tag_dict.get(first_tag,0) == 0:\n",
    "        first_tag_dict[first_tag] = dict()\n",
    "        first_tag_dict[first_tag][tag_combo] = 1\n",
    "    else:\n",
    "        if first_tag_dict[first_tag].get(tag_combo,0) == 0:\n",
    "            first_tag_dict[first_tag][tag_combo] = 1\n",
    "        else:\n",
    "            first_tag_dict[first_tag][tag_combo] += 1\n",
    "        tag_combo_dict[tag_combo] += 1\n",
    "    #same for the last word in the text command\n",
    "    if last_tag_dict.get(last_tag,0) == 0:\n",
    "        last_tag_dict[last_tag] = dict()\n",
    "        last_tag_dict[last_tag][tag_combo] = 1\n",
    "    else:\n",
    "        if last_tag_dict[last_tag].get(tag_combo,0) == 0:\n",
    "            last_tag_dict[last_tag][tag_combo] = 1\n",
    "        else:\n",
    "            last_tag_dict[last_tag][tag_combo] += 1\n",
    "    #same for the combo of the first and last word in the text command \n",
    "    if first_last_combo_dict.get(first_last_combo,0) == 0:\n",
    "        first_last_combo_dict[first_last_combo] = dict()\n",
    "        first_last_combo_dict[first_last_combo][tag_combo] = 1\n",
    "    else:\n",
    "        if first_last_combo_dict[first_last_combo].get(tag_combo,0) == 0:\n",
    "            first_last_combo_dict[first_last_combo][tag_combo] = 1\n",
    "        else:\n",
    "            first_last_combo_dict[first_last_combo][tag_combo] += 1"
   ]
  },
  {
   "cell_type": "code",
   "execution_count": 8,
   "metadata": {},
   "outputs": [],
   "source": [
    "#sorted dictionary of the text commands where the first and last words in the text command are nouns\n",
    "sorted_combo_tag_dict = {k: v for k, v in sorted(first_last_combo_dict['VBN-ID'].items(), key=lambda item: item[1],reverse=True)}"
   ]
  },
  {
   "cell_type": "code",
   "execution_count": 9,
   "metadata": {},
   "outputs": [
    {
     "data": {
      "text/plain": [
       "<BarContainer object of 8 artists>"
      ]
     },
     "execution_count": 9,
     "metadata": {},
     "output_type": "execute_result"
    },
    {
     "data": {
      "image/png": "[encoded data removed]",
      "text/plain": [
       "<Figure size 1440x360 with 1 Axes>"
      ]
     },
     "metadata": {
      "needs_background": "light"
     },
     "output_type": "display_data"
    }
   ],
   "source": [
    "#visualize the number of text commands with a certain start end POS combo for the above condition\n",
    "plt.figure(figsize=(20,5))\n",
    "plt.bar(list(sorted_combo_tag_dict.keys()),list(sorted_combo_tag_dict.values()),width=0.5)"
   ]
  },
  {
   "cell_type": "markdown",
   "metadata": {},
   "source": [
    "### Rule Creation"
   ]
  },
  {
   "cell_type": "code",
   "execution_count": 11,
   "metadata": {},
   "outputs": [],
   "source": [
    "#applys the rule where if the text command starts and ends with a noun then we look for the first instance\n",
    "#of a noun, then every word after is included in the identifier until a noun, preposition, or verb is found\n",
    "def IdentifierIdentifier(pos_tagger,text_command):\n",
    "    sentence = pos_tagger(text_command)\n",
    "    first_tag = sentence[0].tag_\n",
    "    last_tag = sentence[-1].tag_\n",
    "    first_idx = None\n",
    "    last_idx = None\n",
    "    identifier_start = False\n",
    "#     if first_tag == 'NN' and last_tag == 'NN':\n",
    "#         for i in range(len(sentence)):\n",
    "#             tag = sentence[i].tag_\n",
    "#             if identifier_start and (tag == 'IN' or tag == 'VBZ' or tag == 'NN'):\n",
    "#                 if tag == 'NN':\n",
    "#                     last_idx = i+1\n",
    "#                 else:\n",
    "#                     last_idx = i\n",
    "#                 break\n",
    "#             if not identifier_start and tag == 'NN':\n",
    "#                 first_idx = i\n",
    "#                 identifier_start = True\n",
    "    if first_tag == 'VBN':\n",
    "        for i in range(len(sentence)):\n",
    "            tag = sentence[i].tag_\n",
    "            if i+1 <= len(sentence)-1:\n",
    "                next_tag = sentence[i+1].tag_\n",
    "            else:\n",
    "                next_tag = None\n",
    "            if (tag == 'IN' and next_tag == 'NN') or ((tag == 'NN' and next_tag == 'IN') or (tag == 'NN' and next_tag == 'VBN')):\n",
    "                first_idx = i+2\n",
    "                break\n",
    "            if (tag == 'NN' or tag == 'IN'):\n",
    "                first_idx = i+1\n",
    "                break\n",
    "        last_idx = len(sentence)\n",
    "        \n",
    "    identifier = sentence[first_idx:last_idx]\n",
    "    return identifier"
   ]
  },
  {
   "cell_type": "markdown",
   "metadata": {},
   "source": [
    "## Testing Rules"
   ]
  },
  {
   "cell_type": "code",
   "execution_count": 12,
   "metadata": {},
   "outputs": [],
   "source": [
    "def print_tags(pos_tagger,text_command):\n",
    "    sentence = pos_tagger(text_command)\n",
    "    lst = []\n",
    "    for word in sentence:\n",
    "        lst.append(word.tag_)\n",
    "    return str(sentence),lst"
   ]
  },
  {
   "cell_type": "code",
   "execution_count": 50,
   "metadata": {},
   "outputs": [
    {
     "name": "stdout",
     "output_type": "stream",
     "text": [
      "Commands misclassified: \n",
      "---\n",
      "put on target to task Track trends, ['VBN', 'RP', 'NN', 'IN', 'NN', 'NNP', 'NNS'], task Track trends\n",
      "created project known as Track trends, ['VBN', 'NN', 'VBN', 'IN', 'NNP', 'NNS'], as Track trends\n",
      "put in review to task Track trends, ['VBN', 'IN', 'NN', 'IN', 'NN', 'NNP', 'NNS'], to task Track trends\n",
      "completed cast Track trends, ['VBN', 'VBN', 'NNP', 'NNS'], completed cast Track trends\n",
      "put in progress to task Track trends, ['VBN', 'IN', 'NN', 'IN', 'NN', 'NNP', 'NNS'], to task Track trends\n",
      "created task known as Monitor competition, ['VBN', 'NN', 'VBN', 'IN', 'NNP', 'NN'], as Monitor competition\n",
      "consummated Monitor competition, ['VBN', 'NNP', 'NN'], \n",
      "put in progress to Monitor competition, ['VBN', 'IN', 'NN', 'IN', 'NNP', 'NN'], to Monitor competition\n",
      "done Monitor competition, ['VBN', 'NNP', 'NN'], \n",
      "realized Plan campaign, ['VBN', 'NNP', 'NN'], \n",
      "created see called Plan campaign, ['VBN', 'VBP', 'VBN', 'NNP', 'NN'], \n",
      "offset with Plan campaign, ['VBN', 'IN', 'NN', 'NN'], campaign\n",
      "put on target to Direct marketing, ['VBN', 'IN', 'NN', 'IN', 'JJ', 'NN'], to Direct marketing\n",
      "created baby task Market research, ['VBN', 'NN', 'NN', 'NNP', 'NN'], task Market research\n",
      "created baby project called Market research, ['VBN', 'NN', 'NN', 'VBN', 'NNP', 'NN'], project called Market research\n",
      "closed Market research, ['VBN', 'NN', 'NN'], research\n",
      "put target to task Market research, ['VBN', 'NN', 'IN', 'NN', 'NNP', 'NN'], task Market research\n",
      "created new task known as Media advertising, ['VBN', 'JJ', 'NN', 'VBN', 'IN', 'NNP', 'NN'], as Media advertising\n",
      "created task titled Media advertising, ['VBN', 'NN', 'VBD', 'NNP', 'NN'], titled Media advertising\n",
      "created Media advertising, ['VBN', 'NNS', 'NN'], \n",
      "put at risk to project Media advertising, ['VBN', 'IN', 'NN', 'TO', 'VB', 'NNS', 'NN'], to project Media advertising\n",
      "put risk to project Media advertising, ['VBN', 'NN', 'TO', 'VB', 'NNS', 'NN'], to project Media advertising\n",
      "created baby task called Media advertising, ['VBN', 'NN', 'NN', 'VBN', 'NNP', 'NN'], task called Media advertising\n",
      "put at risk to Advertise product, ['VBN', 'IN', 'NN', 'IN', 'NNP', 'NN'], to Advertise product\n",
      "created new Advertise product, ['VBN', 'JJ', 'NNP', 'NN'], \n",
      "accomplished Advertise product, ['VBN', 'NNP', 'NN'], \n",
      "created see Promote product, ['VBN', 'VBP', 'NNP', 'NN'], \n",
      "created radical Promote product, ['VBN', 'JJ', 'NNP', 'NN'], \n",
      "put in review to Promote product, ['VBN', 'IN', 'NN', 'TO', 'VB', 'NN'], to Promote product\n",
      "created baby project Promote product, ['VBN', 'NN', 'NN', 'NNP', 'NN'], project Promote product\n",
      "completed Promote product, ['VBN', 'NNP', 'NN'], \n",
      "created new project known as Promote product, ['VBN', 'JJ', 'NN', 'VBN', 'IN', 'NNP', 'NN'], as Promote product\n",
      "created green Promote product, ['VBN', 'JJ', 'NNP', 'NN'], \n",
      "created new see Promote product, ['VBN', 'JJ', 'VB', 'NNP', 'NN'], \n",
      "completed throw Evaluate profits, ['VBN', 'VBP', 'NNP', 'NNS'], completed throw Evaluate profits\n",
      "created hot Evaluate profits, ['VBN', 'JJ', 'NNP', 'NNS'], created hot Evaluate profits\n",
      "completed see Evaluate profits, ['VBN', 'VBP', 'NNP', 'NNS'], completed see Evaluate profits\n",
      "obstructed Evaluate profits, ['VBN', 'NNP', 'NNS'], obstructed Evaluate profits\n",
      "created cast Evaluate profits, ['VBN', 'VBD', 'NNP', 'NNS'], created cast Evaluate profits\n",
      "---\n",
      "Rule accuracy:  0.7153284671532847\n"
     ]
    }
   ],
   "source": [
    "new_df = identifier_pos[(identifier_pos['Last Tag'] == 'ID') & (identifier_pos['First Tag'] == 'VBN')]\n",
    "count = 0\n",
    "print('Commands misclassified: ')\n",
    "print('---')\n",
    "for i in new_df.index.values:\n",
    "    text_command = new_df.loc[i][0]\n",
    "    identifier = new_df.loc[i][1]\n",
    "    predicted_identifier = IdentifierIdentifier(nlp, text_command)\n",
    "    if str(predicted_identifier) == identifier:\n",
    "        count += 1\n",
    "    else:\n",
    "        print(print_tags(nlp,text_command)[0] + ', '+str(print_tags(nlp,text_command)[1])+', ' + str(predicted_identifier))\n",
    "print('---')\n",
    "print('Rule accuracy: ', count/len(new_df.index.values)) "
   ]
  },
  {
   "cell_type": "markdown",
   "metadata": {},
   "source": [
    "## Generic Rule Generator (UNFINISHED)"
   ]
  },
  {
   "cell_type": "code",
   "execution_count": 15,
   "metadata": {
    "scrolled": false
   },
   "outputs": [
    {
     "data": {
      "text/plain": [
       "{'ID-NN': 568,\n",
       " 'VB-ID': 318,\n",
       " 'NNP-NN': 278,\n",
       " 'NN-NN': 260,\n",
       " 'VB-NN': 186,\n",
       " 'NNP-ID': 157,\n",
       " 'VBN-ID': 137,\n",
       " 'NN-ID': 82,\n",
       " 'ID-JJ': 81,\n",
       " 'IN-ID': 77,\n",
       " 'VBN-NN': 77,\n",
       " 'JJ-ID': 69,\n",
       " 'ID-VBN': 68,\n",
       " 'PRP-ID': 55,\n",
       " 'IN-NN': 43,\n",
       " 'NN-JJ': 41,\n",
       " 'VBD-NN': 37,\n",
       " 'NN-VBN': 36,\n",
       " 'JJ-NN': 33,\n",
       " 'VBD-ID': 26,\n",
       " 'ID-VBD': 24,\n",
       " 'NNP-VB': 23,\n",
       " 'ID-RB': 21,\n",
       " 'EX-ID': 18,\n",
       " 'VBG-ID': 18,\n",
       " 'VBG-NN': 17,\n",
       " 'VB-VBN': 15,\n",
       " 'EX-NN': 13,\n",
       " 'VB-VB': 13,\n",
       " 'NN-VBD': 13,\n",
       " 'NNP-JJ': 12,\n",
       " 'ID-NNS': 12,\n",
       " 'NNP-NNP': 11,\n",
       " 'NNP-VBN': 11,\n",
       " 'ID-NNP': 10,\n",
       " 'VB-JJ': 10,\n",
       " 'ID-DT': 9,\n",
       " 'JJ-NNS': 7,\n",
       " 'NNP-VBD': 7,\n",
       " 'NNP-NNS': 6,\n",
       " 'NN-RB': 6,\n",
       " 'NNS-ID': 6,\n",
       " 'ID-RP': 5,\n",
       " 'NNP-RP': 5,\n",
       " 'ID-VB': 5,\n",
       " 'NNP-VBP': 4,\n",
       " 'NN-VBP': 4,\n",
       " 'VBN-VB': 4,\n",
       " 'NN-VB': 4,\n",
       " 'NN-DT': 4,\n",
       " 'NN-RP': 3,\n",
       " 'VB-VBP': 3,\n",
       " 'ID-IN': 3,\n",
       " 'VBN-VBP': 2,\n",
       " 'VBP-NN': 2,\n",
       " 'VBD-NNS': 2,\n",
       " 'ID-VBP': 2,\n",
       " 'IN-VBP': 2,\n",
       " 'VBP-ID': 2,\n",
       " 'VBN-NNS': 2,\n",
       " 'RB-ID': 2,\n",
       " 'JJ-VB': 2,\n",
       " 'NN-NNS': 2,\n",
       " 'VBD-VB': 1,\n",
       " 'JJ-JJ': 1,\n",
       " 'VB-DT': 1,\n",
       " 'JJ-VBN': 1,\n",
       " 'VB-VBD': 1,\n",
       " 'VBN-VBD': 1,\n",
       " 'VB-NNS': 1,\n",
       " 'NN-NNP': 1,\n",
       " 'VB-RB': 1,\n",
       " 'NNP-DT': 1,\n",
       " 'EX-VB': 1,\n",
       " 'VBN-VBN': 1,\n",
       " 'VBD-JJ': 1,\n",
       " 'NN-IN': 1,\n",
       " 'EX-VBP': 1}"
      ]
     },
     "execution_count": 15,
     "metadata": {},
     "output_type": "execute_result"
    }
   ],
   "source": [
    "first_last_combo_totals = dict()\n",
    "for key in first_last_combo_dict.keys():\n",
    "    first_last_combo_totals[key] = sum(first_last_combo_dict[key].values())\n",
    "#sorted dictionary of the text commands where the first and last words in the text command are nouns\n",
    "first_last_combo_totals = {k: v for k, v in sorted(first_last_combo_totals.items(), key=lambda item: item[1],reverse=True)}\n",
    "first_last_combo_totals"
   ]
  },
  {
   "cell_type": "code",
   "execution_count": 16,
   "metadata": {},
   "outputs": [
    {
     "data": {
      "image/png": "[encoded data removed]",
      "text/plain": [
       "<Figure size 1440x360 with 1 Axes>"
      ]
     },
     "metadata": {
      "needs_background": "light"
     },
     "output_type": "display_data"
    },
    {
     "data": {
      "image/png": "[encoded data removed]",
      "text/plain": [
       "<Figure size 1440x360 with 1 Axes>"
      ]
     },
     "metadata": {
      "needs_background": "light"
     },
     "output_type": "display_data"
    },
    {
     "data": {
      "image/png": "[encoded data removed]",
      "text/plain": [
       "<Figure size 1440x360 with 1 Axes>"
      ]
     },
     "metadata": {
      "needs_background": "light"
     },
     "output_type": "display_data"
    },
    {
     "data": {
      "image/png": "[encoded data removed]",
      "text/plain": [
       "<Figure size 1440x360 with 1 Axes>"
      ]
     },
     "metadata": {
      "needs_background": "light"
     },
     "output_type": "display_data"
    },
    {
     "data": {
      "image/png": "[encoded data removed]",
      "text/plain": [
       "<Figure size 1440x360 with 1 Axes>"
      ]
     },
     "metadata": {
      "needs_background": "light"
     },
     "output_type": "display_data"
    },
    {
     "data": {
      "image/png": "[encoded data removed]",
      "text/plain": [
       "<Figure size 1440x360 with 1 Axes>"
      ]
     },
     "metadata": {
      "needs_background": "light"
     },
     "output_type": "display_data"
    },
    {
     "data": {
      "image/png": "[encoded data removed]",
      "text/plain": [
       "<Figure size 1440x360 with 1 Axes>"
      ]
     },
     "metadata": {
      "needs_background": "light"
     },
     "output_type": "display_data"
    },
    {
     "data": {
      "image/png": "[encoded data removed]",
      "text/plain": [
       "<Figure size 1440x360 with 1 Axes>"
      ]
     },
     "metadata": {
      "needs_background": "light"
     },
     "output_type": "display_data"
    },
    {
     "data": {
      "image/png": "[encoded data removed]",
      "text/plain": [
       "<Figure size 1440x360 with 1 Axes>"
      ]
     },
     "metadata": {
      "needs_background": "light"
     },
     "output_type": "display_data"
    },
    {
     "data": {
      "image/png": "[encoded data removed]",
      "text/plain": [
       "<Figure size 1440x360 with 1 Axes>"
      ]
     },
     "metadata": {
      "needs_background": "light"
     },
     "output_type": "display_data"
    },
    {
     "data": {
      "image/png": "[encoded data removed]",
      "text/plain": [
       "<Figure size 1440x360 with 1 Axes>"
      ]
     },
     "metadata": {
      "needs_background": "light"
     },
     "output_type": "display_data"
    },
    {
     "data": {
      "image/png": "[encoded data removed]",
      "text/plain": [
       "<Figure size 1440x360 with 1 Axes>"
      ]
     },
     "metadata": {
      "needs_background": "light"
     },
     "output_type": "display_data"
    },
    {
     "data": {
      "image/png": "[encoded data removed]",
      "text/plain": [
       "<Figure size 1440x360 with 1 Axes>"
      ]
     },
     "metadata": {
      "needs_background": "light"
     },
     "output_type": "display_data"
    },
    {
     "data": {
      "image/png": "[encoded data removed]",
      "text/plain": [
       "<Figure size 1440x360 with 1 Axes>"
      ]
     },
     "metadata": {
      "needs_background": "light"
     },
     "output_type": "display_data"
    },
    {
     "data": {
      "image/png": "[encoded data removed]",
      "text/plain": [
       "<Figure size 1440x360 with 1 Axes>"
      ]
     },
     "metadata": {
      "needs_background": "light"
     },
     "output_type": "display_data"
    },
    {
     "data": {
      "image/png": "[encoded data removed]",
      "text/plain": [
       "<Figure size 1440x360 with 1 Axes>"
      ]
     },
     "metadata": {
      "needs_background": "light"
     },
     "output_type": "display_data"
    },
    {
     "data": {
      "image/png": "[encoded data removed]",
      "text/plain": [
       "<Figure size 1440x360 with 1 Axes>"
      ]
     },
     "metadata": {
      "needs_background": "light"
     },
     "output_type": "display_data"
    },
    {
     "data": {
      "image/png": "[encoded data removed]",
      "text/plain": [
       "<Figure size 1440x360 with 1 Axes>"
      ]
     },
     "metadata": {
      "needs_background": "light"
     },
     "output_type": "display_data"
    },
    {
     "data": {
      "image/png": "[encoded data removed]",
      "text/plain": [
       "<Figure size 1440x360 with 1 Axes>"
      ]
     },
     "metadata": {
      "needs_background": "light"
     },
     "output_type": "display_data"
    },
    {
     "data": {
      "image/png": "[encoded data removed]",
      "text/plain": [
       "<Figure size 1440x360 with 1 Axes>"
      ]
     },
     "metadata": {
      "needs_background": "light"
     },
     "output_type": "display_data"
    }
   ],
   "source": [
    "for i in list(first_last_combo_totals.keys())[:20]:\n",
    "    #sorted dictionary of the text commands where the first and last words in the text command are nouns\n",
    "    sorted_combo_tag_dict = {k: v for k, v in sorted(first_last_combo_dict[i].items(), key=lambda item: item[1],reverse=True)}\n",
    "    #visualize the number of text commands with a certain start end POS combo for the above condition\n",
    "    plt.figure(figsize=(20,5))\n",
    "    plt.bar(list(sorted_combo_tag_dict.keys()),list(sorted_combo_tag_dict.values()),width=0.5)"
   ]
  },
  {
   "cell_type": "code",
   "execution_count": null,
   "metadata": {},
   "outputs": [],
   "source": [
    "#applys the rule where if the text command starts and ends with a noun then we look for the first instance\n",
    "#of a noun, then every word after is included in the identifier until a noun, preposition, or verb is found\n",
    "def IdentifierIdentifier(pos_tagger,text_command):\n",
    "    sentence = pos_tagger(text_command)\n",
    "    first_tag = sentence[0].tag_\n",
    "    last_tag = sentence[-1].tag_\n",
    "    first_idx = None\n",
    "    last_idx = None\n",
    "    identifier_start = False\n",
    "#     if first_tag == 'NN' and last_tag == 'NN':\n",
    "#         for i in range(len(sentence)):\n",
    "#             tag = sentence[i].tag_\n",
    "#             if identifier_start and (tag == 'IN' or tag == 'VBZ' or tag == 'NN'):\n",
    "#                 if tag == 'NN':\n",
    "#                     last_idx = i+1\n",
    "#                 else:\n",
    "#                     last_idx = i\n",
    "#                 break\n",
    "#             if not identifier_start and tag == 'NN':\n",
    "#                 first_idx = i\n",
    "#                 identifier_start = True\n",
    "    #if first_tag == 'VBN':\n",
    "    for i in range(len(sentence)):\n",
    "        tag = sentence[i].tag_\n",
    "        if i+1 <= len(sentence)-1:\n",
    "            next_tag = sentence[i+1].tag_\n",
    "        else:\n",
    "            next_tag = None\n",
    "        if (tag == 'IN' and next_tag == 'NN') or ((tag == 'NN' and next_tag == 'IN') or (tag == 'NN' and next_tag == 'VBN')):\n",
    "            first_idx = i+2\n",
    "            break\n",
    "        if (tag == 'NN' or tag == 'IN'):\n",
    "            first_idx = i+1\n",
    "            break\n",
    "    last_idx = len(sentence)\n",
    "        \n",
    "    identifier = sentence[first_idx:last_idx]\n",
    "    return identifier"
   ]
  },
  {
   "cell_type": "code",
   "execution_count": 42,
   "metadata": {},
   "outputs": [
    {
     "name": "stdout",
     "output_type": "stream",
     "text": [
      "0.5331161780673181\n"
     ]
    }
   ],
   "source": [
    "first_tags = []\n",
    "last_tags = []\n",
    "for key in list(first_last_combo_totals.keys())[:20]:\n",
    "    if key.split('-')[1] == 'ID':\n",
    "        first_tags.append(key.split('-')[0])\n",
    "        #last_tags.append(key.split('-')[1])\n",
    "\n",
    "count = 0\n",
    "total = 0\n",
    "for first_tag in first_tags:\n",
    "    new_df = identifier_pos[(identifier_pos['Last Tag'] == 'ID') & (identifier_pos['First Tag'] == first_tag)]\n",
    "    total += len(new_df.index.values)\n",
    "    for i in new_df.index.values:\n",
    "        text_command = new_df.loc[i][0]\n",
    "        identifier = new_df.loc[i][1]\n",
    "        \n",
    "        predicted_identifier = IdentifierIdentifier(nlp, text_command)\n",
    "        \n",
    "        if str(predicted_identifier) == identifier:\n",
    "            count += 1\n",
    "    #     else:\n",
    "    #         print(print_tags(nlp,text_command)[0] + ', '+str(print_tags(nlp,text_command)[1])+', ' + str(predicted_identifier))\n",
    "\n",
    "    print(count/total) "
   ]
  },
  {
   "cell_type": "code",
   "execution_count": 92,
   "metadata": {},
   "outputs": [
    {
     "data": {
      "text/plain": [
       "{'SS-NN': 277,\n",
       " 'SS-VBZ': 68,\n",
       " 'SS-VBP': 67,\n",
       " 'SS-IN': 38,\n",
       " 'SS-VB': 33,\n",
       " 'SS-VBD': 25,\n",
       " 'SS-JJ': 24,\n",
       " 'SS-EX': 15,\n",
       " 'SS-VBN': 7,\n",
       " 'SS-VBG': 6,\n",
       " 'SS-NNS': 5,\n",
       " 'SS-RB': 4,\n",
       " 'SS-RP': 1}"
      ]
     },
     "execution_count": 92,
     "metadata": {},
     "output_type": "execute_result"
    }
   ],
   "source": [
    "tag_combo = {k: v for k, v in sorted(first_last_combo_dict['ID-NN'].items(), key=lambda item: item[1],reverse=True)}\n",
    "tag_combo"
   ]
  },
  {
   "cell_type": "code",
   "execution_count": 98,
   "metadata": {},
   "outputs": [
    {
     "name": "stdout",
     "output_type": "stream",
     "text": [
      "SS-NN 277\n",
      "SS-VBZ 68\n",
      "SS-VBP 67\n",
      "SS-IN 38\n",
      "SS-VB 33\n",
      "SS-VBD 25\n",
      "SS-JJ 24\n",
      "SS-EX 15\n",
      "SS-VBN 7\n",
      "SS-VBG 6\n",
      "SS-NNS 5\n",
      "SS-RB 4\n",
      "SS-RP 1\n"
     ]
    }
   ],
   "source": [
    "threshold = 0.70\n",
    "threshold_num = round(sum(list(tag_combo.values()))*threshold)\n",
    "threshold_num\n",
    "\n",
    "counter_thresh = 0\n",
    "for tags, count in tag_combo.items():\n",
    "    counter_thresh += count\n",
    "    if counter_thresh > threshold_num:\n",
    "        break\n",
    "    else:\n",
    "        "
   ]
  },
  {
   "cell_type": "code",
   "execution_count": 46,
   "metadata": {},
   "outputs": [
    {
     "data": {
      "text/html": [
       "<div>\n",
       "<style scoped>\n",
       "    .dataframe tbody tr th:only-of-type {\n",
       "        vertical-align: middle;\n",
       "    }\n",
       "\n",
       "    .dataframe tbody tr th {\n",
       "        vertical-align: top;\n",
       "    }\n",
       "\n",
       "    .dataframe thead th {\n",
       "        text-align: right;\n",
       "    }\n",
       "</style>\n",
       "<table border=\"1\" class=\"dataframe\">\n",
       "  <thead>\n",
       "    <tr style=\"text-align: right;\">\n",
       "      <th></th>\n",
       "      <th>Text Command</th>\n",
       "      <th>Identifier</th>\n",
       "      <th>Tag Start</th>\n",
       "      <th>Tag End</th>\n",
       "      <th>First Tag</th>\n",
       "      <th>Last Tag</th>\n",
       "    </tr>\n",
       "  </thead>\n",
       "  <tbody>\n",
       "  </tbody>\n",
       "</table>\n",
       "</div>"
      ],
      "text/plain": [
       "Empty DataFrame\n",
       "Columns: [Text Command, Identifier, Tag Start, Tag End, First Tag, Last Tag]\n",
       "Index: []"
      ]
     },
     "execution_count": 46,
     "metadata": {},
     "output_type": "execute_result"
    }
   ],
   "source": [
    "tmp = new_df[(new_df['Tag Start'] == 'SS') & (new_df['Tag End'] == 'NN')]\n",
    "tmp"
   ]
  },
  {
   "cell_type": "code",
   "execution_count": 47,
   "metadata": {},
   "outputs": [],
   "source": [
    "for i in list(list(tmp['Text Command'].values)):\n",
    "    tmp2 = nlp(i)\n",
    "\n",
    "    for i in tmp2:\n",
    "        print(i, i.tag_, ',', end='')\n",
    "    print('')"
   ]
  }
 ],
 "metadata": {
  "kernelspec": {
   "display_name": "Python 3",
   "language": "python",
   "name": "python3"
  },
  "language_info": {
   "codemirror_mode": {
    "name": "ipython",
    "version": 3
   },
   "file_extension": ".py",
   "mimetype": "text/x-python",
   "name": "python",
   "nbconvert_exporter": "python",
   "pygments_lexer": "ipython3",
   "version": "3.8.3"
  }
 },
 "nbformat": 4,
 "nbformat_minor": 2
}
